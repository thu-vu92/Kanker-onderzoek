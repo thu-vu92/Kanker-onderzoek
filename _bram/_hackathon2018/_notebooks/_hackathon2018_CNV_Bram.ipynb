{
 "cells": [
  {
   "cell_type": "code",
   "execution_count": 0,
   "metadata": {
    "colab": {
     "autoexec": {
      "startup": false,
      "wait_interval": 0
     }
    },
    "colab_type": "code",
    "id": "Rokx-7IZBpB3"
   },
   "outputs": [],
   "source": [
    "!pip install ggplot\n",
    "!pip install matplotlib\n",
    "!pip install bokeh\n",
    "!pip install dask\n",
    "!pip install statsmodels\n",
    "!pip install cloudpickle\n",
    "!pip install requests\n",
    "!pip install tpot\n",
    "!pip install lightgbm\n",
    "!pip install networkx"
   ]
  },
  {
   "cell_type": "code",
   "execution_count": 0,
   "metadata": {
    "colab": {
     "autoexec": {
      "startup": false,
      "wait_interval": 0
     }
    },
    "colab_type": "code",
    "id": "_qgTGOLIByvn"
   },
   "outputs": [],
   "source": [
    "import seaborn as sns\n",
    "from ggplot import *\n",
    "from matplotlib import pyplot as plt\n",
    "import bokeh\n",
    "import tqdm\n",
    "\n",
    "import pandas as pd\n",
    "import dask.dataframe as dd\n",
    "import numpy as np\n",
    "import scipy as sc\n",
    "import statsmodels as sm\n",
    "import networkx as nx\n",
    "\n",
    "import sklearn as sk\n",
    "import tensorflow as tf\n",
    "import keras\n",
    "from xgboost import XGBClassifier as xgb\n",
    "from lightgbm import LGBMClassifier as lgbm\n",
    "from sklearn.ensemble import RandomForestClassifier as rf\n",
    "import tpot\n",
    "\n",
    "import sys\n",
    "import os\n",
    "import gc\n",
    "import re\n",
    "\n",
    "# target variables: Sample Type, New Tumor Event, T-stage, N-stage\n",
    "from sklearn.model_selection import cross_val_predict\n",
    "from sklearn.model_selection import cross_val_score\n",
    "from sklearn.metrics import accuracy_score\n",
    "from sklearn.preprocessing import LabelEncoder\n",
    "from sklearn.preprocessing import StandardScaler\n",
    "from sklearn.preprocessing import RobustScaler\n",
    "from sklearn.decomposition import PCA as pca\n",
    "from sklearn.discriminant_analysis import LinearDiscriminantAnalysis as lda\n",
    "from sklearn.feature_selection import SelectFdr as fdr\n",
    "from sklearn.manifold import TSNE\n",
    "\n",
    "\n",
    "pd.options.display.max_rows = 100\n",
    "pd.options.display.max_columns = 100\n",
    "pd.options.display.float_format = '{:.1f}'.format"
   ]
  },
  {
   "cell_type": "code",
   "execution_count": 0,
   "metadata": {
    "colab": {
     "autoexec": {
      "startup": false,
      "wait_interval": 0
     }
    },
    "colab_type": "code",
    "id": "IWAqd5_7B0YI"
   },
   "outputs": [],
   "source": [
    "df_copy_number = pd.read_table(\"https://storage.googleapis.com/genx_2018/Melanoma_CNV.txt\", sep=\"\\t\")\n",
    "df_phenotypes = pd.read_table(\"https://storage.googleapis.com/genx_2018/Melanoma_Phenotype_Metadata.txt\", sep=\"\\t\")"
   ]
  },
  {
   "cell_type": "code",
   "execution_count": 0,
   "metadata": {
    "colab": {
     "autoexec": {
      "startup": false,
      "wait_interval": 0
     }
    },
    "colab_type": "code",
    "id": "x-L1BjvhVE34"
   },
   "outputs": [],
   "source": [
    "df_copy_number_plus = df_copy_number.loc[df_copy_number.Strand=='+']\n",
    "df_copy_number_plus.drop('Strand', axis=1, inplace=True)\n",
    "df_copy_number_min = df_copy_number.loc[df_copy_number.Strand=='-']\n",
    "df_copy_number_min.drop('Strand', axis=1, inplace=True)\n",
    "df_copy_number.drop('Strand', axis=1, inplace=True)"
   ]
  },
  {
   "cell_type": "markdown",
   "metadata": {
    "colab_type": "text",
    "id": "SJIf1HkzB8SN"
   },
   "source": [
    "# Feature manipulation\n"
   ]
  },
  {
   "cell_type": "code",
   "execution_count": 0,
   "metadata": {
    "colab": {
     "autoexec": {
      "startup": false,
      "wait_interval": 0
     }
    },
    "colab_type": "code",
    "id": "3sLiOmvUkEmT"
   },
   "outputs": [],
   "source": [
    "df_copy_number=df_copy_number_plus"
   ]
  },
  {
   "cell_type": "markdown",
   "metadata": {
    "colab_type": "text",
    "id": "VKP-dJ89XBze"
   },
   "source": []
  },
  {
   "cell_type": "code",
   "execution_count": 0,
   "metadata": {
    "colab": {
     "autoexec": {
      "startup": false,
      "wait_interval": 0
     }
    },
    "colab_type": "code",
    "id": "RCzz4ZK7CDRf"
   },
   "outputs": [],
   "source": [
    "#df_copy_number['Strand'] = df_copy_number['Strand'].apply(lambda x: -1 if x=='-' else 1)\n",
    "df_copy_number['GeneDiff'] = df_copy_number['Stop']-df_copy_number['Start']\n",
    "df_copy_number.Chr = df_copy_number.loc[(~df_copy_number.Chr.isna()) & (df_copy_number.Chr.str.contains('chr'))].Chr\\\n",
    "                                    .apply(lambda x: re.sub(r'chr', '', x))"
   ]
  },
  {
   "cell_type": "code",
   "execution_count": 0,
   "metadata": {
    "colab": {
     "autoexec": {
      "startup": false,
      "wait_interval": 0
     }
    },
    "colab_type": "code",
    "id": "MdqU-jxJXsNe"
   },
   "outputs": [],
   "source": [
    "df_copy_number['Start'] = df_copy_number.Start.astype('str')\n",
    "df_copy_number['Stop'] = df_copy_number.Start.astype('str')\n",
    "df_copy_number['Chr'] = df_copy_number.Start.astype('str')\n",
    "df_copy_number_concat = df_copy_number.copy()\n",
    "df_copy_number_concat['GenX'] = df_copy_number_concat[['Gene', 'Chr', 'Start', 'Stop']].apply(lambda x: '|'.join(x), axis=1)\n",
    "df_copy_number_concat = df_copy_number_concat.drop(['Gene', 'Chr', 'Start', 'Stop'], axis=1)\n",
    "df_copy_number_concat = df_copy_number_concat.drop(['GeneDiff'], axis=1)\n",
    "gc.collect()"
   ]
  },
  {
   "cell_type": "code",
   "execution_count": 0,
   "metadata": {
    "colab": {
     "autoexec": {
      "startup": false,
      "wait_interval": 0
     }
    },
    "colab_type": "code",
    "id": "we0diI3jXZa7"
   },
   "outputs": [],
   "source": []
  },
  {
   "cell_type": "code",
   "execution_count": 0,
   "metadata": {
    "colab": {
     "autoexec": {
      "startup": false,
      "wait_interval": 0
     }
    },
    "colab_type": "code",
    "id": "5DVwwDtmiIW9"
   },
   "outputs": [],
   "source": [
    "df_copy_number.drop(['Chr', 'Start', 'Stop'], axis=1, inplace=True)"
   ]
  },
  {
   "cell_type": "code",
   "execution_count": 0,
   "metadata": {
    "colab": {
     "autoexec": {
      "startup": false,
      "wait_interval": 0
     }
    },
    "colab_type": "code",
    "id": "Qqse1RvMexTX"
   },
   "outputs": [],
   "source": [
    "df_copy_number.GeneDiff = df_copy_number.GeneDiff/df_copy_number.GeneDiff.max()\n",
    "df_copy_number.GeneDiff = pd.np.log10(df_copy_number.GeneDiff+1)"
   ]
  },
  {
   "cell_type": "code",
   "execution_count": 0,
   "metadata": {
    "colab": {
     "autoexec": {
      "startup": false,
      "wait_interval": 0
     }
    },
    "colab_type": "code",
    "id": "8DRLc_8Xj_ov"
   },
   "outputs": [],
   "source": [
    "df_copy_number.GeneDiff.plot.kde(figsize=(12,8))"
   ]
  },
  {
   "cell_type": "code",
   "execution_count": 0,
   "metadata": {
    "colab": {
     "autoexec": {
      "startup": false,
      "wait_interval": 0
     }
    },
    "colab_type": "code",
    "id": "H2xRtSdQpn-G"
   },
   "outputs": [],
   "source": [
    "replacementValue = df_copy_number.GeneDiff.median()\n",
    "df_copy_number.GeneDiff.fillna(replacementValue, inplace=True)"
   ]
  },
  {
   "cell_type": "code",
   "execution_count": 0,
   "metadata": {
    "colab": {
     "autoexec": {
      "startup": false,
      "wait_interval": 0
     }
    },
    "colab_type": "code",
    "id": "S7S8Gt-3mmmC"
   },
   "outputs": [],
   "source": [
    "\n",
    "df_copy_number_weighted_by_GeneDiff = df_copy_number.iloc[:,1:].div(df_copy_number.GeneDiff, axis=0)\n",
    "df_copy_number_weighted_by_GeneDiff.drop(['GeneDiff'], axis=1, inplace=True)\n",
    "df_copy_number.drop(['GeneDiff'], axis=1, inplace=True)\n",
    "cols=df_copy_number.Gene\n",
    "df_copy_number.set_index('Gene')\n",
    "df_copy_number.drop('Gene', axis=1, inplace=True)"
   ]
  },
  {
   "cell_type": "code",
   "execution_count": 0,
   "metadata": {
    "colab": {
     "autoexec": {
      "startup": false,
      "wait_interval": 0
     }
    },
    "colab_type": "code",
    "id": "r8zWKLZVCJgH"
   },
   "outputs": [],
   "source": [
    "df_copy_number_transposed = df_copy_number[df_copy_number.columns[~df_copy_number.\\\n",
    "                                          columns.\\\n",
    "                                              isin(['Chr', 'Start', 'Stop', 'Strand', 'GeneDiff'])]].T\n",
    "df_copy_number_transposed.columns = cols\n",
    "\n",
    "del df_copy_number\n",
    "gc.collect()"
   ]
  },
  {
   "cell_type": "code",
   "execution_count": 0,
   "metadata": {
    "colab": {
     "autoexec": {
      "startup": false,
      "wait_interval": 0
     }
    },
    "colab_type": "code",
    "id": "-LO3IBHIwqu_"
   },
   "outputs": [],
   "source": [
    "df_copy_number_transposed = df_copy_number_weighted_by_GeneDiff[df_copy_number_weighted_by_GeneDiff.columns[~df_copy_number_weighted_by_GeneDiff.\\\n",
    "                                          columns.\\\n",
    "                                              isin(['Chr', 'Start', 'Stop', 'Strand', 'GeneDiff'])]].T\n",
    "\n",
    "df_copy_number_transposed.columns = cols\n",
    "\n",
    "del df_copy_number\n",
    "gc.collect()\n"
   ]
  },
  {
   "cell_type": "code",
   "execution_count": 0,
   "metadata": {
    "colab": {
     "autoexec": {
      "startup": false,
      "wait_interval": 0
     }
    },
    "colab_type": "code",
    "id": "3MHLKugpCPkJ"
   },
   "outputs": [],
   "source": [
    "\n",
    "df_copy_number_transposed.index.rename('Sample', inplace=True)\n",
    "df_copy_number_transposed.reset_index(inplace=True)\n",
    "df_copy_number_transposed.index=df_copy_number_transposed.Sample\n",
    "df_copy_number_transposed.drop('Sample', axis=1, inplace=True)"
   ]
  },
  {
   "cell_type": "code",
   "execution_count": 0,
   "metadata": {
    "colab": {
     "autoexec": {
      "startup": false,
      "wait_interval": 0
     }
    },
    "colab_type": "code",
    "id": "TD6ECTPoAqzU"
   },
   "outputs": [],
   "source": [
    "df_phenotypes.columns"
   ]
  },
  {
   "cell_type": "code",
   "execution_count": 0,
   "metadata": {
    "colab": {
     "autoexec": {
      "startup": false,
      "wait_interval": 0
     }
    },
    "colab_type": "code",
    "id": "Xqk19dC7yV0F"
   },
   "outputs": [],
   "source": [
    "target_variable = 'Response To Therapy'\n",
    "target_map = {\n",
    " \"Complete Response\":0,\n",
    " \"Clinical Progressive Disease\":1,        \n",
    " \"Radiographic Progressive Disease\":1,    \n",
    " \"Stable Disease\":1,                      \n",
    " \"Partial Response\":0                    \n",
    "}\n",
    "df_phenotypes[target_variable].describe()\n",
    "print(df_phenotypes[[target_variable, 'SampleID']].groupby(by=target_variable).count())"
   ]
  },
  {
   "cell_type": "code",
   "execution_count": 0,
   "metadata": {
    "colab": {
     "autoexec": {
      "startup": false,
      "wait_interval": 0
     }
    },
    "colab_type": "code",
    "id": "gjc2QuJixkBs"
   },
   "outputs": [],
   "source": [
    "le = LabelEncoder()\n",
    "merged = df_copy_number_transposed.merge(df_phenotypes.loc[df_phenotypes['Drug Therapy Type']=='Immunotherapy'][['SampleID', target_variable]], how='inner', left_index=True, right_on='SampleID')\n",
    "merged = merged.loc[ ~merged[target_variable].isna()]\n",
    "\n",
    "merged[target_variable] = merged[target_variable].apply(lambda x: target_map[x])\n",
    "\n",
    "y= le.fit_transform(merged[target_variable].astype('str'))\n",
    "x= merged.loc[:, merged.columns != target_variable]\n",
    "x.drop('SampleID', axis=1, inplace=True)\n",
    "x.drop(target_variable, axis=1, inplace=True)\n",
    "#del merged \n",
    "gc.collect()"
   ]
  },
  {
   "cell_type": "markdown",
   "metadata": {
    "colab_type": "text",
    "id": "xuJWrjSCDuHK"
   },
   "source": [
    "# Feature normalisation"
   ]
  },
  {
   "cell_type": "code",
   "execution_count": 0,
   "metadata": {
    "colab": {
     "autoexec": {
      "startup": false,
      "wait_interval": 0
     }
    },
    "colab_type": "code",
    "id": "8oRiJPpUu-Ho"
   },
   "outputs": [],
   "source": [
    "scaler = StandardScaler(copy=True, with_mean=True, with_std=True)\n",
    "# RobustScaler(with_centering=True, with_scaling=True, quantile_range=(25.0, 75.0), copy=True)[source]\n",
    "x_normalised = scaler.fit_transform(x)"
   ]
  },
  {
   "cell_type": "markdown",
   "metadata": {
    "colab_type": "text",
    "id": "eIpCQsC8DD_D"
   },
   "source": [
    "# Clustering\n",
    "\n"
   ]
  },
  {
   "cell_type": "markdown",
   "metadata": {
    "colab_type": "text",
    "id": "ac2VK9nGXFGX"
   },
   "source": [
    "## Parallel coordinates"
   ]
  },
  {
   "cell_type": "code",
   "execution_count": 0,
   "metadata": {
    "colab": {
     "autoexec": {
      "startup": false,
      "wait_interval": 0
     }
    },
    "colab_type": "code",
    "id": "XKwnAHOuXJ9v"
   },
   "outputs": [],
   "source": []
  },
  {
   "cell_type": "markdown",
   "metadata": {
    "colab_type": "text",
    "id": "E7nwwwGgCW_j"
   },
   "source": [
    "## Get patient-to-patient similarity matrix\n",
    "\n",
    "The basic ingredient to find patient clusters \n"
   ]
  },
  {
   "cell_type": "code",
   "execution_count": 0,
   "metadata": {
    "colab": {
     "autoexec": {
      "startup": false,
      "wait_interval": 0
     }
    },
    "colab_type": "code",
    "id": "eroZi8aFCa83"
   },
   "outputs": [],
   "source": []
  },
  {
   "cell_type": "markdown",
   "metadata": {
    "colab_type": "text",
    "id": "T9iXZ1LtCbIf"
   },
   "source": [
    "## Get gene-to-gene similarity matrix\n",
    "\n",
    "The basic ingredient to find gene clusters"
   ]
  },
  {
   "cell_type": "code",
   "execution_count": 0,
   "metadata": {
    "colab": {
     "autoexec": {
      "startup": false,
      "wait_interval": 0
     }
    },
    "colab_type": "code",
    "id": "rsMaJgj2Cel3"
   },
   "outputs": [],
   "source": []
  },
  {
   "cell_type": "markdown",
   "metadata": {
    "colab_type": "text",
    "id": "t46-dGijCew7"
   },
   "source": [
    "## Space embedding using t-SNE/LLE/MDS\n",
    "\n",
    "Embedding in 3-dimensional space allows for visualisation. To identify clusters per target variable we need to attach the clinical data. This is useful because a priori we do not know what target variables leads to the best seperation.\n",
    "\n",
    "To avoid computational complexity issues: \n",
    "* base t-SNE on exemplars\n",
    "* apply PCA/LDA or some other dimension reducer before apply t-SNE\n",
    "* use hierarchical t-SNE: https://github.com/DmitryUlyanov/Multicore-TSNE, https://github.com/danielfrg/tsne"
   ]
  },
  {
   "cell_type": "code",
   "execution_count": 0,
   "metadata": {
    "colab": {
     "autoexec": {
      "startup": false,
      "wait_interval": 0
     }
    },
    "colab_type": "code",
    "id": "X7zyi2P3iv9X"
   },
   "outputs": [],
   "source": [
    "from sklearn.decomposition import PCA\n",
    "\n",
    "pca = PCA(n_components=3)\n",
    "pca_result = pca.fit_transform(x)\n",
    "\n",
    "\n",
    "df['pca-one'] = pca_result[:,0]\n",
    "df['pca-two'] = pca_result[:,1] \n",
    "df['pca-three'] = pca_result[:,2]\n",
    "\n",
    "print('Explained variation per principal component: {}'.format(pca.explained_variance_ratio_))"
   ]
  },
  {
   "cell_type": "markdown",
   "metadata": {
    "colab_type": "text",
    "id": "zYSJfPojECXZ"
   },
   "source": [
    "## HDBSCAN"
   ]
  },
  {
   "cell_type": "code",
   "execution_count": 0,
   "metadata": {
    "colab": {
     "autoexec": {
      "startup": false,
      "wait_interval": 0
     }
    },
    "colab_type": "code",
    "id": "OIs8lGc4DHsa"
   },
   "outputs": [],
   "source": []
  },
  {
   "cell_type": "markdown",
   "metadata": {
    "colab_type": "text",
    "id": "5vVXUT3cDNzU"
   },
   "source": [
    "# Dimension reduction\n",
    "\n",
    "## FDR/Wilcoxon/Mann-Whitney U\n",
    "\n"
   ]
  },
  {
   "cell_type": "code",
   "execution_count": 0,
   "metadata": {
    "colab": {
     "autoexec": {
      "startup": false,
      "wait_interval": 0
     }
    },
    "colab_type": "code",
    "id": "PEWbpUCkDgZV"
   },
   "outputs": [],
   "source": [
    "sel_fdr = fdr(alpha=0.5)\n",
    "x_final = sel_fdr.fit_transform(x_normalised, y)\n",
    "print(x_final.shape)"
   ]
  },
  {
   "cell_type": "markdown",
   "metadata": {
    "colab_type": "text",
    "id": "kKJ4CWeIDgxe"
   },
   "source": [
    "## PCA"
   ]
  },
  {
   "cell_type": "code",
   "execution_count": 0,
   "metadata": {
    "colab": {
     "autoexec": {
      "startup": false,
      "wait_interval": 0
     }
    },
    "colab_type": "code",
    "id": "kmlOyoGVzbND"
   },
   "outputs": [],
   "source": [
    "#x = x_normalised\n",
    "PCA = pca(n_components=250)\n",
    "PCA.fit(x)\n",
    "variance = np.cumsum(np.round(PCA.explained_variance_ratio_, decimals=3)*100)\n",
    "plt.ylabel('Variance')\n",
    "plt.xlabel('Features')\n",
    "plt.plot(variance, label='PCA')\n",
    "plt.title('PCA analysis')"
   ]
  },
  {
   "cell_type": "code",
   "execution_count": 0,
   "metadata": {
    "colab": {
     "autoexec": {
      "startup": false,
      "wait_interval": 0
     }
    },
    "colab_type": "code",
    "id": "nC9_MG9sDiwP"
   },
   "outputs": [],
   "source": [
    "x_final = pca(n_components=50).fit_transform(x, y)"
   ]
  },
  {
   "cell_type": "markdown",
   "metadata": {
    "colab_type": "text",
    "id": "V7jCU050Zh91"
   },
   "source": [
    "# Classification"
   ]
  },
  {
   "cell_type": "code",
   "execution_count": 0,
   "metadata": {
    "colab": {
     "autoexec": {
      "startup": false,
      "wait_interval": 0
     }
    },
    "colab_type": "code",
    "id": "DmqqvWLw1OP6"
   },
   "outputs": [],
   "source": [
    "try:\n",
    "  x.dropna(how='all', axis=1, inplace=True)\n",
    "  x = x * 1.0\n",
    "except Exception as e:\n",
    "  print(e)\n",
    "for col in tqdm.tqdm(x.columns):\n",
    "   if 'object' in str(x[col].dtypes):\n",
    "      try:\n",
    "        x[col] = x[col].astype('float')\n",
    "      except:\n",
    "        try:\n",
    "          x[col] = x[col].astype('int')\n",
    "        except:\n",
    "          print(col)\n",
    "          x[col] = x[col].astype('category')\n",
    "      "
   ]
  },
  {
   "cell_type": "code",
   "execution_count": 0,
   "metadata": {
    "colab": {
     "autoexec": {
      "startup": false,
      "wait_interval": 0
     }
    },
    "colab_type": "code",
    "id": "KBc6ufo8z6uN"
   },
   "outputs": [],
   "source": [
    "#x_final = x\n",
    "model = lgbm(boosting_type='goss')\n",
    "print(\"mean acc:{}, var acc:{}\".format(np.mean(cross_val_score(model, x_final, y, cv=10)),\n",
    "                                       np.var(cross_val_score(model, x_final, y, cv=10))))\n",
    "model.fit(x_final,y)\n",
    "feature_importances = model.feature_importances_"
   ]
  },
  {
   "cell_type": "markdown",
   "metadata": {
    "colab_type": "text",
    "id": "34aCKheM4BDQ"
   },
   "source": [
    "## Observations\n",
    "\n",
    "Basic,  the CNV data only contains data from patients with metastasis.\n",
    "\n",
    "### Response \n",
    "\n",
    "First we reduced the number of response types to two types,  **any** response, and **no** response, for **all** drug therapies, this gives \n",
    "about $84$ samples ($0:37, 1:47$)\n",
    "\n",
    "* FDR with ANOVA did not work well for any value of $\\alpha$\n",
    "* after dimension reduction using PCA with about 100 remaining dimensions, the response can be predicted with about 70%\n",
    "* using chromosome length as weight for the copy number has no effect on the accuracy of the prediction\n",
    "\n",
    " \n",
    " Now we limit the predictor to immunotherapy only, this gives $38$ samples ($0:15, 1: 19$).\n",
    " \n",
    "* FDR with ANOVA did not work well for any value of $\\alpha$\n",
    "* after dimension reduction using PCA with about 30 remaining dimensions, the response can be predicted with about 40% --> with no useful features for LGBM\n",
    "* using chromosome length as weight for the copy number has no effect on the accuracy of the prediction\n",
    "\n",
    "\n",
    " Now we limit the predictor to non immunotherapy only, this gives $50$ samples ($0:22, 1: 28$).\n",
    " \n",
    "* FDR with ANOVA did not work well for any value of $\\alpha$\n",
    "* after dimension reduction using PCA with about 50 remaining dimensions, the response can be predicted with about 40%\n",
    "* using chromosome length as weight for the copy number has no effect on the accuracy of the prediction\n",
    "\n",
    "\n",
    " Now we limit the predictor to non immunotherapy only, using only the **+** strand\n",
    " \n",
    "* FDR with ANOVA did not work well for any value of $\\alpha$\n",
    "* after dimension reduction using PCA with about 50 remaining dimensions, the response can be predicted with about 69%\n",
    "* using chromosome length as weight for the copy number has no effect on the accuracy of the prediction\n",
    "\n",
    "Now we limit the predictor to non immunotherapy only, using only the **-** strand\n",
    " \n",
    "* FDR with ANOVA did not work well for any value of $\\alpha$\n",
    "* after dimension reduction using PCA with about 50 remaining dimensions, the response can be predicted with about 63\n",
    "* using chromosome length as weight for the copy number has no effect on the accuracy of the prediction\n",
    "\n",
    " \n"
   ]
  },
  {
   "cell_type": "markdown",
   "metadata": {
    "colab_type": "text",
    "id": "bZyUd10iUAv0"
   },
   "source": []
  },
  {
   "cell_type": "code",
   "execution_count": 0,
   "metadata": {
    "colab": {
     "autoexec": {
      "startup": false,
      "wait_interval": 0
     }
    },
    "colab_type": "code",
    "id": "l_SncYox7xxN"
   },
   "outputs": [],
   "source": []
  },
  {
   "cell_type": "markdown",
   "metadata": {
    "colab_type": "text",
    "id": "wKMXX7u7CWG1"
   },
   "source": [
    "# Data output \n",
    "\n",
    "* important genes \n",
    "* reduce, normalised, tranposed dataset\n",
    "\n",
    "Format: just  `.csv` "
   ]
  },
  {
   "cell_type": "markdown",
   "metadata": {
    "colab_type": "text",
    "id": "C6qo0GLRUPkh"
   },
   "source": [
    "# New Section"
   ]
  }
 ],
 "metadata": {
  "accelerator": "GPU",
  "colab": {
   "collapsed_sections": [],
   "default_view": {},
   "name": "_hackathon2018_CNV_Bram.ipynb",
   "private_outputs": true,
   "provenance": [],
   "toc_visible": true,
   "version": "0.3.2",
   "views": {}
  },
  "kernelspec": {
   "display_name": "Python 3",
   "language": "python",
   "name": "python3"
  },
  "language_info": {
   "codemirror_mode": {
    "name": "ipython",
    "version": 3
   },
   "file_extension": ".py",
   "mimetype": "text/x-python",
   "name": "python",
   "nbconvert_exporter": "python",
   "pygments_lexer": "ipython3",
   "version": "3.6.5"
  }
 },
 "nbformat": 4,
 "nbformat_minor": 1
}
