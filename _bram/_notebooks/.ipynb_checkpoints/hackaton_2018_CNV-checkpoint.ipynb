{
 "cells": [
  {
   "cell_type": "code",
   "execution_count": 1,
   "metadata": {},
   "outputs": [
    {
     "name": "stderr",
     "output_type": "stream",
     "text": [
      "/usr/local/lib/python3.6/dist-packages/ggplot/utils.py:81: FutureWarning: pandas.tslib is deprecated and will be removed in a future version.\n",
      "You can access Timestamp as pandas.Timestamp\n",
      "  pd.tslib.Timestamp,\n",
      "/usr/local/lib/python3.6/dist-packages/ggplot/stats/smoothers.py:4: FutureWarning: The pandas.lib module is deprecated and will be removed in a future version. These are private functions and can be accessed from pandas._libs.lib instead\n",
      "  from pandas.lib import Timestamp\n",
      "/usr/local/lib/python3.6/dist-packages/statsmodels/compat/pandas.py:56: FutureWarning: The pandas.core.datetools module is deprecated and will be removed in a future version. Please use the pandas.tseries module instead.\n",
      "  from pandas.core import datetools\n",
      "/usr/local/lib/python3.6/dist-packages/h5py/__init__.py:36: FutureWarning: Conversion of the second argument of issubdtype from `float` to `np.floating` is deprecated. In future, it will be treated as `np.float64 == np.dtype(float).type`.\n",
      "  from ._conv import register_converters as _register_converters\n",
      "Using TensorFlow backend.\n"
     ]
    }
   ],
   "source": [
    "import seaborn as sns\n",
    "from ggplot import *\n",
    "from matplotlib import pyplot as plt\n",
    "import bokeh\n",
    "import tqdm\n",
    "\n",
    "import pandas as pd\n",
    "import dask.dataframe as dd\n",
    "import numpy as np\n",
    "import scipy as sc\n",
    "import statsmodels as sm\n",
    "import networkx as nx\n",
    "\n",
    "import sklearn as sk\n",
    "import tensorflow as tf\n",
    "import keras\n",
    "from xgboost import XGBClassifier as xgb\n",
    "from lightgbm import LGBMClassifier as lgbm\n",
    "from sklearn.ensemble import RandomForestClassifier as rf\n",
    "import tpot\n",
    "\n",
    "import sys\n",
    "import os\n",
    "import gc\n",
    "import re\n",
    "\n",
    "# target variables: Sample Type, New Tumor Event, T-stage, N-stage\n",
    "from sklearn.model_selection import cross_val_predict\n",
    "from sklearn.model_selection import cross_val_score\n",
    "from sklearn.metrics import accuracy_score\n",
    "from sklearn.preprocessing import LabelEncoder\n",
    "from sklearn.preprocessing import StandardScaler\n",
    "from sklearn.preprocessing import RobustScaler\n",
    "from sklearn.decomposition import PCA as pca\n",
    "from sklearn.discriminant_analysis import LinearDiscriminantAnalysis as lda\n",
    "from sklearn.feature_selection import SelectFdr as fdr\n",
    "from sklearn.feature_selection import SelectFpr as fpr\n",
    "\n",
    "\n",
    "pd.options.display.max_rows = 100\n",
    "pd.options.display.max_columns = 100\n",
    "pd.options.display.float_format = '{:.1f}'.format"
   ]
  },
  {
   "cell_type": "code",
   "execution_count": 2,
   "metadata": {},
   "outputs": [
    {
     "name": "stderr",
     "output_type": "stream",
     "text": [
      "/usr/local/lib/python3.6/dist-packages/IPython/core/interactiveshell.py:2785: DtypeWarning: Columns (1,4) have mixed types. Specify dtype option on import or set low_memory=False.\n",
      "  interactivity=interactivity, compiler=compiler, result=result)\n"
     ]
    }
   ],
   "source": [
    "df_copy_number = pd.read_table(\"https://storage.googleapis.com/genx_2018/Melanoma_CNV.txt\", sep=\"\\t\")\n",
    "df_phenotypes = pd.read_table(\"https://storage.googleapis.com/genx_2018/Melanoma_Phenotype_Metadata.txt\",\n",
    "                                                                                            sep=\"\\t\")"
   ]
  },
  {
   "cell_type": "code",
   "execution_count": 3,
   "metadata": {},
   "outputs": [
    {
     "name": "stderr",
     "output_type": "stream",
     "text": [
      "/usr/local/lib/python3.6/dist-packages/ipykernel_launcher.py:2: SettingWithCopyWarning: \n",
      "A value is trying to be set on a copy of a slice from a DataFrame\n",
      "\n",
      "See the caveats in the documentation: http://pandas.pydata.org/pandas-docs/stable/indexing.html#indexing-view-versus-copy\n",
      "  \n",
      "/usr/local/lib/python3.6/dist-packages/ipykernel_launcher.py:4: SettingWithCopyWarning: \n",
      "A value is trying to be set on a copy of a slice from a DataFrame\n",
      "\n",
      "See the caveats in the documentation: http://pandas.pydata.org/pandas-docs/stable/indexing.html#indexing-view-versus-copy\n",
      "  after removing the cwd from sys.path.\n"
     ]
    }
   ],
   "source": [
    "df_plus = df_copy_number.loc[df_copy_number.Strand=='+']\n",
    "df_plus.drop('Strand', axis=1, inplace=True)\n",
    "df_min = df_copy_number.loc[df_copy_number.Strand=='-']\n",
    "df_min.drop('Strand', axis=1, inplace=True)\n",
    "df_copy_number.drop('Strand', axis=1, inplace=True)"
   ]
  },
  {
   "cell_type": "code",
   "execution_count": 4,
   "metadata": {},
   "outputs": [
    {
     "name": "stderr",
     "output_type": "stream",
     "text": [
      "/usr/local/lib/python3.6/dist-packages/pandas/core/generic.py:3643: SettingWithCopyWarning: \n",
      "A value is trying to be set on a copy of a slice from a DataFrame.\n",
      "Try using .loc[row_indexer,col_indexer] = value instead\n",
      "\n",
      "See the caveats in the documentation: http://pandas.pydata.org/pandas-docs/stable/indexing.html#indexing-view-versus-copy\n",
      "  self[name] = value\n"
     ]
    }
   ],
   "source": [
    "df_min.Start = df_min.Start.astype(int)\n",
    "df_plus.Start = df_plus.Start.astype(int)"
   ]
  },
  {
   "cell_type": "markdown",
   "metadata": {},
   "source": [
    "# feature manipulation"
   ]
  },
  {
   "cell_type": "code",
   "execution_count": 5,
   "metadata": {},
   "outputs": [
    {
     "name": "stderr",
     "output_type": "stream",
     "text": [
      "/usr/local/lib/python3.6/dist-packages/ipykernel_launcher.py:1: SettingWithCopyWarning: \n",
      "A value is trying to be set on a copy of a slice from a DataFrame.\n",
      "Try using .loc[row_indexer,col_indexer] = value instead\n",
      "\n",
      "See the caveats in the documentation: http://pandas.pydata.org/pandas-docs/stable/indexing.html#indexing-view-versus-copy\n",
      "  \"\"\"Entry point for launching an IPython kernel.\n",
      "/usr/local/lib/python3.6/dist-packages/pandas/core/generic.py:3643: SettingWithCopyWarning: \n",
      "A value is trying to be set on a copy of a slice from a DataFrame.\n",
      "Try using .loc[row_indexer,col_indexer] = value instead\n",
      "\n",
      "See the caveats in the documentation: http://pandas.pydata.org/pandas-docs/stable/indexing.html#indexing-view-versus-copy\n",
      "  self[name] = value\n",
      "/usr/local/lib/python3.6/dist-packages/ipykernel_launcher.py:4: SettingWithCopyWarning: \n",
      "A value is trying to be set on a copy of a slice from a DataFrame.\n",
      "Try using .loc[row_indexer,col_indexer] = value instead\n",
      "\n",
      "See the caveats in the documentation: http://pandas.pydata.org/pandas-docs/stable/indexing.html#indexing-view-versus-copy\n",
      "  after removing the cwd from sys.path.\n",
      "/usr/local/lib/python3.6/dist-packages/ipykernel_launcher.py:5: SettingWithCopyWarning: \n",
      "A value is trying to be set on a copy of a slice from a DataFrame.\n",
      "Try using .loc[row_indexer,col_indexer] = value instead\n",
      "\n",
      "See the caveats in the documentation: http://pandas.pydata.org/pandas-docs/stable/indexing.html#indexing-view-versus-copy\n",
      "  \"\"\"\n",
      "/usr/local/lib/python3.6/dist-packages/ipykernel_launcher.py:6: SettingWithCopyWarning: \n",
      "A value is trying to be set on a copy of a slice from a DataFrame.\n",
      "Try using .loc[row_indexer,col_indexer] = value instead\n",
      "\n",
      "See the caveats in the documentation: http://pandas.pydata.org/pandas-docs/stable/indexing.html#indexing-view-versus-copy\n",
      "  \n",
      "/usr/local/lib/python3.6/dist-packages/ipykernel_launcher.py:8: SettingWithCopyWarning: \n",
      "A value is trying to be set on a copy of a slice from a DataFrame.\n",
      "Try using .loc[row_indexer,col_indexer] = value instead\n",
      "\n",
      "See the caveats in the documentation: http://pandas.pydata.org/pandas-docs/stable/indexing.html#indexing-view-versus-copy\n",
      "  \n",
      "/usr/local/lib/python3.6/dist-packages/ipykernel_launcher.py:11: SettingWithCopyWarning: \n",
      "A value is trying to be set on a copy of a slice from a DataFrame.\n",
      "Try using .loc[row_indexer,col_indexer] = value instead\n",
      "\n",
      "See the caveats in the documentation: http://pandas.pydata.org/pandas-docs/stable/indexing.html#indexing-view-versus-copy\n",
      "  # This is added back by InteractiveShellApp.init_path()\n",
      "/usr/local/lib/python3.6/dist-packages/ipykernel_launcher.py:12: SettingWithCopyWarning: \n",
      "A value is trying to be set on a copy of a slice from a DataFrame.\n",
      "Try using .loc[row_indexer,col_indexer] = value instead\n",
      "\n",
      "See the caveats in the documentation: http://pandas.pydata.org/pandas-docs/stable/indexing.html#indexing-view-versus-copy\n",
      "  if sys.path[0] == '':\n",
      "/usr/local/lib/python3.6/dist-packages/ipykernel_launcher.py:13: SettingWithCopyWarning: \n",
      "A value is trying to be set on a copy of a slice from a DataFrame.\n",
      "Try using .loc[row_indexer,col_indexer] = value instead\n",
      "\n",
      "See the caveats in the documentation: http://pandas.pydata.org/pandas-docs/stable/indexing.html#indexing-view-versus-copy\n",
      "  del sys.path[0]\n"
     ]
    },
    {
     "data": {
      "text/plain": [
       "0"
      ]
     },
     "execution_count": 5,
     "metadata": {},
     "output_type": "execute_result"
    }
   ],
   "source": [
    "df_min['GeneDiff'] = df_min['Stop']-df_min['Start']\n",
    "df_min.Chr = df_min.loc[(~df_min.Chr.isna()) & (df_min.Chr.str.contains('chr'))].Chr\\\n",
    "                                    .apply(lambda x: re.sub(r'chr', '', x))\n",
    "\n",
    "df_min['Start'] = df_min.Start.astype('str')\n",
    "df_min['Stop'] = df_min.Start.astype('str')\n",
    "df_min['Chr'] = df_min.Start.astype('str')\n",
    "##\n",
    "df_plus['GeneDiff'] = df_plus['Stop']-df_plus['Start']\n",
    "df_plus.Chr = df_plus.loc[(~df_plus.Chr.isna()) & (df_plus.Chr.str.contains('chr'))].Chr\\\n",
    "                                    .apply(lambda x: re.sub(r'chr', '', x))\n",
    "\n",
    "df_plus['Start'] = df_plus.Start.astype('str')\n",
    "df_plus['Stop'] = df_plus.Start.astype('str')\n",
    "df_plus['Chr'] = df_plus.Start.astype('str')\n",
    "#df_copy_number_concat = df_copy_number.copy()\n",
    "#df_copy_number_concat['GenX'] = df_copy_number_concat[['Gene', 'Chr', 'Start', 'Stop']].apply(lambda x: '|'.join(x), axis=1)\n",
    "#df_copy_number_concat = df_copy_number_concat.drop(['Gene', 'Chr', 'Start', 'Stop'], axis=1)\n",
    "#df_copy_number_concat = df_copy_number_concat.drop(['GeneDiff'], axis=1)\n",
    "gc.collect()"
   ]
  },
  {
   "cell_type": "code",
   "execution_count": 6,
   "metadata": {},
   "outputs": [
    {
     "name": "stderr",
     "output_type": "stream",
     "text": [
      "/usr/local/lib/python3.6/dist-packages/ipykernel_launcher.py:1: SettingWithCopyWarning: \n",
      "A value is trying to be set on a copy of a slice from a DataFrame\n",
      "\n",
      "See the caveats in the documentation: http://pandas.pydata.org/pandas-docs/stable/indexing.html#indexing-view-versus-copy\n",
      "  \"\"\"Entry point for launching an IPython kernel.\n",
      "/usr/local/lib/python3.6/dist-packages/pandas/core/generic.py:3643: SettingWithCopyWarning: \n",
      "A value is trying to be set on a copy of a slice from a DataFrame.\n",
      "Try using .loc[row_indexer,col_indexer] = value instead\n",
      "\n",
      "See the caveats in the documentation: http://pandas.pydata.org/pandas-docs/stable/indexing.html#indexing-view-versus-copy\n",
      "  self[name] = value\n",
      "/usr/local/lib/python3.6/dist-packages/ipykernel_launcher.py:5: SettingWithCopyWarning: \n",
      "A value is trying to be set on a copy of a slice from a DataFrame\n",
      "\n",
      "See the caveats in the documentation: http://pandas.pydata.org/pandas-docs/stable/indexing.html#indexing-view-versus-copy\n",
      "  \"\"\"\n"
     ]
    }
   ],
   "source": [
    "df_min.drop(['Chr', 'Start', 'Stop'], axis=1, inplace=True)\n",
    "df_min.GeneDiff = df_min.GeneDiff/df_min.GeneDiff.max()\n",
    "df_min.GeneDiff = pd.np.log10(df_min.GeneDiff+1)\n",
    "\n",
    "df_plus.drop(['Chr', 'Start', 'Stop'], axis=1, inplace=True)\n",
    "df_plus.GeneDiff = df_plus.GeneDiff/df_plus.GeneDiff.max()\n",
    "df_plus.GeneDiff = pd.np.log10(df_plus.GeneDiff+1)"
   ]
  },
  {
   "cell_type": "code",
   "execution_count": 7,
   "metadata": {},
   "outputs": [
    {
     "name": "stderr",
     "output_type": "stream",
     "text": [
      "/usr/local/lib/python3.6/dist-packages/pandas/core/generic.py:4355: SettingWithCopyWarning: \n",
      "A value is trying to be set on a copy of a slice from a DataFrame\n",
      "\n",
      "See the caveats in the documentation: http://pandas.pydata.org/pandas-docs/stable/indexing.html#indexing-view-versus-copy\n",
      "  self._update_inplace(new_data)\n"
     ]
    }
   ],
   "source": [
    "replacementValue = df_min.GeneDiff.median()\n",
    "df_min.GeneDiff.fillna(replacementValue, inplace=True)\n",
    "\n",
    "replacementValue = df_plus.GeneDiff.median()\n",
    "df_plus.GeneDiff.fillna(replacementValue, inplace=True)"
   ]
  },
  {
   "cell_type": "code",
   "execution_count": 8,
   "metadata": {},
   "outputs": [
    {
     "name": "stderr",
     "output_type": "stream",
     "text": [
      "/usr/local/lib/python3.6/dist-packages/ipykernel_launcher.py:3: SettingWithCopyWarning: \n",
      "A value is trying to be set on a copy of a slice from a DataFrame\n",
      "\n",
      "See the caveats in the documentation: http://pandas.pydata.org/pandas-docs/stable/indexing.html#indexing-view-versus-copy\n",
      "  This is separate from the ipykernel package so we can avoid doing imports until\n",
      "/usr/local/lib/python3.6/dist-packages/ipykernel_launcher.py:6: SettingWithCopyWarning: \n",
      "A value is trying to be set on a copy of a slice from a DataFrame\n",
      "\n",
      "See the caveats in the documentation: http://pandas.pydata.org/pandas-docs/stable/indexing.html#indexing-view-versus-copy\n",
      "  \n",
      "/usr/local/lib/python3.6/dist-packages/ipykernel_launcher.py:10: SettingWithCopyWarning: \n",
      "A value is trying to be set on a copy of a slice from a DataFrame\n",
      "\n",
      "See the caveats in the documentation: http://pandas.pydata.org/pandas-docs/stable/indexing.html#indexing-view-versus-copy\n",
      "  # Remove the CWD from sys.path while we load stuff.\n",
      "/usr/local/lib/python3.6/dist-packages/ipykernel_launcher.py:13: SettingWithCopyWarning: \n",
      "A value is trying to be set on a copy of a slice from a DataFrame\n",
      "\n",
      "See the caveats in the documentation: http://pandas.pydata.org/pandas-docs/stable/indexing.html#indexing-view-versus-copy\n",
      "  del sys.path[0]\n"
     ]
    }
   ],
   "source": [
    "df_min_GeneDiff = df_min.iloc[:,1:].div(df_min.GeneDiff, axis=0)\n",
    "df_min_GeneDiff.drop(['GeneDiff'], axis=1, inplace=True)\n",
    "df_min.drop(['GeneDiff'], axis=1, inplace=True)\n",
    "cols_min=df_min.Gene\n",
    "df_min.set_index('Gene')\n",
    "df_min.drop('Gene', axis=1, inplace=True)\n",
    "\n",
    "df_plus_GeneDiff = df_plus.iloc[:,1:].div(df_plus.GeneDiff, axis=0)\n",
    "df_plus_GeneDiff.drop(['GeneDiff'], axis=1, inplace=True)\n",
    "df_plus.drop(['GeneDiff'], axis=1, inplace=True)\n",
    "cols_plus=df_plus.Gene\n",
    "df_plus.set_index('Gene')\n",
    "df_plus.drop('Gene', axis=1, inplace=True)"
   ]
  },
  {
   "cell_type": "code",
   "execution_count": 9,
   "metadata": {},
   "outputs": [
    {
     "data": {
      "text/plain": [
       "12"
      ]
     },
     "execution_count": 9,
     "metadata": {},
     "output_type": "execute_result"
    }
   ],
   "source": [
    "df_min_trans = df_min.T\n",
    "df_min_trans.columns = cols_min\n",
    "\n",
    "df_plus_trans = df_plus.T\n",
    "df_plus_trans.columns = cols_plus\n",
    "\n",
    "del df_min\n",
    "gc.collect()\n",
    "del df_plus\n",
    "gc.collect()"
   ]
  },
  {
   "cell_type": "code",
   "execution_count": 10,
   "metadata": {},
   "outputs": [
    {
     "data": {
      "text/plain": [
       "0"
      ]
     },
     "execution_count": 10,
     "metadata": {},
     "output_type": "execute_result"
    }
   ],
   "source": [
    "df_min_trans_GeneDiff = df_min_GeneDiff.T\n",
    "df_min_trans_GeneDiff.columns = cols_min\n",
    "\n",
    "df_plus_trans_GeneDiff = df_plus_GeneDiff.T\n",
    "df_plus_trans_GeneDiff.columns = cols_plus\n",
    "\n",
    "del df_min_GeneDiff\n",
    "gc.collect()\n",
    "\n",
    "del df_plus_GeneDiff\n",
    "gc.collect()"
   ]
  },
  {
   "cell_type": "code",
   "execution_count": null,
   "metadata": {},
   "outputs": [],
   "source": []
  },
  {
   "cell_type": "markdown",
   "metadata": {},
   "source": [
    "## merged with phenodata"
   ]
  },
  {
   "cell_type": "code",
   "execution_count": 11,
   "metadata": {},
   "outputs": [
    {
     "name": "stdout",
     "output_type": "stream",
     "text": [
      "                                  SampleID\n",
      "Response To Therapy                       \n",
      "Clinical Progressive Disease            21\n",
      "Complete Response                       41\n",
      "Partial Response                        10\n",
      "Radiographic Progressive Disease        19\n",
      "Stable Disease                          10\n"
     ]
    }
   ],
   "source": [
    "target_variable = 'Response To Therapy'\n",
    "target_map = {\n",
    " \"Complete Response\":0,\n",
    " \"Clinical Progressive Disease\":1,        \n",
    " \"Radiographic Progressive Disease\":1,    \n",
    " \"Stable Disease\":1,                      \n",
    " \"Partial Response\":0                    \n",
    "}\n",
    "df_phenotypes[target_variable].describe()\n",
    "print(df_phenotypes[[target_variable, 'SampleID']].groupby(by=target_variable).count())"
   ]
  },
  {
   "cell_type": "code",
   "execution_count": 12,
   "metadata": {},
   "outputs": [],
   "source": [
    "target_conditonal = df_phenotypes['Drug Therapy Type']!='Immunotherapy'\n",
    "merged_min = df_min_trans.merge(df_phenotypes.loc[target_conditional]\\\n",
    "                                [['SampleID', target_variable]], \n",
    "                                how='inner', left_index=True, right_on='SampleID')\n",
    "merged_min = merged_min.loc[~merged_min[target_variable].isna()]\n",
    "merged_min[target_variable] = merged_min[target_variable].apply(lambda x: target_map[x])\n",
    "\n",
    "merged_plus = df_plus_trans.merge(df_phenotypes.loc[target_conditional]\\\n",
    "                                 [['SampleID', target_variable]],\n",
    "                                 how='inner', left_index=True, right_on='SampleID')\n",
    "merged_plus = merged_plus.loc[~merged_plus[target_variable].isna()]\n",
    "merged_plus[target_variable] = merged_plus[target_variable].apply(lambda x: target_map[x])\n",
    "\n",
    "\n",
    "merged_min_GeneDiff = df_min_trans_GeneDiff.merge(df_phenotypes.loc[target_conditional]\\\n",
    "                                [['SampleID', target_variable]], \n",
    "                                how='inner', left_index=True, right_on='SampleID')\n",
    "merged_min_GeneDiff = merged_min_GeneDiff.loc[~merged_min_GeneDiff[target_variable].isna()]\n",
    "merged_min_GeneDiff[target_variable] = merged_min_GeneDiff[target_variable].apply(lambda x: target_map[x])\n",
    "\n",
    "merged_plus_GeneDiff = df_plus_trans_GeneDiff.merge(df_phenotypes.loc[target_conditional]\\\n",
    "                                 [['SampleID', target_variable]],\n",
    "                                 how='inner', left_index=True, right_on='SampleID')\n",
    "merged_plus_GeneDiff = merged_plus_GeneDiff.loc[~merged_plus_GeneDiff[target_variable].isna()]\n",
    "merged_plus_GeneDiff[target_variable] = merged_plus_GeneDiff[target_variable].apply(lambda x: target_map[x])\n",
    "\n"
   ]
  },
  {
   "cell_type": "markdown",
   "metadata": {},
   "source": [
    "# create x,y"
   ]
  },
  {
   "cell_type": "code",
   "execution_count": 13,
   "metadata": {},
   "outputs": [],
   "source": [
    "le = LabelEncoder()\n",
    "y= le.fit_transform(merged_min[target_variable].astype('str'))"
   ]
  },
  {
   "cell_type": "code",
   "execution_count": 14,
   "metadata": {},
   "outputs": [
    {
     "name": "stderr",
     "output_type": "stream",
     "text": [
      "/usr/local/lib/python3.6/dist-packages/ipykernel_launcher.py:2: SettingWithCopyWarning: \n",
      "A value is trying to be set on a copy of a slice from a DataFrame\n",
      "\n",
      "See the caveats in the documentation: http://pandas.pydata.org/pandas-docs/stable/indexing.html#indexing-view-versus-copy\n",
      "  \n",
      "/usr/local/lib/python3.6/dist-packages/ipykernel_launcher.py:3: SettingWithCopyWarning: \n",
      "A value is trying to be set on a copy of a slice from a DataFrame\n",
      "\n",
      "See the caveats in the documentation: http://pandas.pydata.org/pandas-docs/stable/indexing.html#indexing-view-versus-copy\n",
      "  This is separate from the ipykernel package so we can avoid doing imports until\n",
      "/usr/local/lib/python3.6/dist-packages/ipykernel_launcher.py:6: SettingWithCopyWarning: \n",
      "A value is trying to be set on a copy of a slice from a DataFrame\n",
      "\n",
      "See the caveats in the documentation: http://pandas.pydata.org/pandas-docs/stable/indexing.html#indexing-view-versus-copy\n",
      "  \n",
      "/usr/local/lib/python3.6/dist-packages/ipykernel_launcher.py:7: SettingWithCopyWarning: \n",
      "A value is trying to be set on a copy of a slice from a DataFrame\n",
      "\n",
      "See the caveats in the documentation: http://pandas.pydata.org/pandas-docs/stable/indexing.html#indexing-view-versus-copy\n",
      "  import sys\n",
      "/usr/local/lib/python3.6/dist-packages/ipykernel_launcher.py:10: SettingWithCopyWarning: \n",
      "A value is trying to be set on a copy of a slice from a DataFrame\n",
      "\n",
      "See the caveats in the documentation: http://pandas.pydata.org/pandas-docs/stable/indexing.html#indexing-view-versus-copy\n",
      "  # Remove the CWD from sys.path while we load stuff.\n",
      "/usr/local/lib/python3.6/dist-packages/ipykernel_launcher.py:11: SettingWithCopyWarning: \n",
      "A value is trying to be set on a copy of a slice from a DataFrame\n",
      "\n",
      "See the caveats in the documentation: http://pandas.pydata.org/pandas-docs/stable/indexing.html#indexing-view-versus-copy\n",
      "  # This is added back by InteractiveShellApp.init_path()\n",
      "/usr/local/lib/python3.6/dist-packages/ipykernel_launcher.py:14: SettingWithCopyWarning: \n",
      "A value is trying to be set on a copy of a slice from a DataFrame\n",
      "\n",
      "See the caveats in the documentation: http://pandas.pydata.org/pandas-docs/stable/indexing.html#indexing-view-versus-copy\n",
      "  \n",
      "/usr/local/lib/python3.6/dist-packages/ipykernel_launcher.py:15: SettingWithCopyWarning: \n",
      "A value is trying to be set on a copy of a slice from a DataFrame\n",
      "\n",
      "See the caveats in the documentation: http://pandas.pydata.org/pandas-docs/stable/indexing.html#indexing-view-versus-copy\n",
      "  from ipykernel import kernelapp as app\n"
     ]
    }
   ],
   "source": [
    "x_min= merged_min.loc[:, merged_min.columns != target_variable]\n",
    "x_min.drop('SampleID', axis=1, inplace=True)\n",
    "x_min.drop(target_variable, axis=1, inplace=True)\n",
    "\n",
    "x_plus= merged_plus.loc[:, merged_plus.columns != target_variable]\n",
    "x_plus.drop('SampleID', axis=1, inplace=True)\n",
    "x_plus.drop(target_variable, axis=1, inplace=True)\n",
    "\n",
    "x_min_GeneDiff= merged_min_GeneDiff.loc[:, merged_min_GeneDiff.columns != target_variable]\n",
    "x_min_GeneDiff.drop('SampleID', axis=1, inplace=True)\n",
    "x_min_GeneDiff.drop(target_variable, axis=1, inplace=True)\n",
    "\n",
    "x_plus_GeneDiff= merged_plus_GeneDiff.loc[:, merged_plus_GeneDiff.columns != target_variable]\n",
    "x_plus_GeneDiff.drop('SampleID', axis=1, inplace=True)\n",
    "x_plus_GeneDiff.drop(target_variable, axis=1, inplace=True)\n",
    "\n",
    "scaler = StandardScaler(copy=True, with_mean=True, with_std=True)\n",
    "# RobustScaler(with_centering=True, with_scaling=True, quantile_range=(25.0, 75.0), copy=True)[source]\n",
    "x_min_GeneDiff = scaler.fit_transform(x_min_GeneDiff)\n",
    "x_plus_GeneDiff = scaler.fit_transform(x_plus_GeneDiff)"
   ]
  },
  {
   "cell_type": "markdown",
   "metadata": {},
   "source": [
    "# Reduction"
   ]
  },
  {
   "cell_type": "markdown",
   "metadata": {},
   "source": [
    "## PCA"
   ]
  },
  {
   "cell_type": "code",
   "execution_count": 29,
   "metadata": {},
   "outputs": [
    {
     "data": {
      "text/plain": [
       "Text(0.5,1,'PCA analysis')"
      ]
     },
     "execution_count": 29,
     "metadata": {},
     "output_type": "execute_result"
    },
    {
     "data": {
      "image/png": "[encoded data removed]",
      "text/plain": [
       "<Figure size 432x288 with 1 Axes>"
      ]
     },
     "metadata": {},
     "output_type": "display_data"
    }
   ],
   "source": [
    "PCA = pca(n_components=250)\n",
    "PCA.fit(x_min)\n",
    "variance = np.cumsum(np.round(PCA.explained_variance_ratio_, decimals=3)*100)\n",
    "plt.ylabel('Variance')\n",
    "plt.xlabel('Features')\n",
    "plt.plot(variance, label='min strand')\n",
    "\n",
    "PCA.fit(x_plus)\n",
    "variance = np.cumsum(np.round(PCA.explained_variance_ratio_, decimals=3)*100)\n",
    "plt.plot(variance, label='plus strand')\n",
    "\n",
    "plt.legend()\n",
    "plt.title('PCA analysis')"
   ]
  },
  {
   "cell_type": "code",
   "execution_count": 31,
   "metadata": {},
   "outputs": [],
   "source": [
    "x_final_min = pca(n_components=50).fit_transform(x_min, y)\n",
    "x_final_plus = pca(n_components=50).fit_transform(x_plus, y)\n",
    "x_final_min_diffGene = pca(n_components=50).fit_transform(x_min_GeneDiff, y)\n",
    "x_final_plus_diffGene = pca(n_components=50).fit_transform(x_plus_GeneDiff, y)"
   ]
  },
  {
   "cell_type": "markdown",
   "metadata": {},
   "source": [
    "## Mann-Whitney U"
   ]
  },
  {
   "cell_type": "code",
   "execution_count": 17,
   "metadata": {},
   "outputs": [],
   "source": [
    "from scipy.stats import mannwhitneyu\n",
    "class fs_mannwhitney():\n",
    "    p_values = None\n",
    "\n",
    "    def __init__(self, pvalue = 0.01):\n",
    "        self.pvalue = pvalue\n",
    "\n",
    "    def apply_test(self, pos, neg, column):\n",
    "        _, p_value = mannwhitneyu(pos[:,column], neg[:,column], alternative=\"less\")\n",
    "        return p_value\n",
    "\n",
    "    def fit(self, x, y):\n",
    "        zero_idx = np.where(y == 0)[0]\n",
    "        one_idx = np.where(y == 1)[0]\n",
    "        pos_samples = x[one_idx]\n",
    "        neg_samples = x[zero_idx]                \n",
    "        self.p_values = np.array(list(map(lambda c: \n",
    "            self.apply_test(pos_samples, neg_samples, c), range(0,x.shape[1]))))\n",
    "        return self\n",
    "\n",
    "    def transform(self, x):\n",
    "        not_signif = self.p_values<self.pvalue\n",
    "        to_delete = [idx for idx, item in enumerate(not_signif) if item == False]\n",
    "        return np.delete(x, to_delete, axis = 1), to_delete\n",
    "\n"
   ]
  },
  {
   "cell_type": "code",
   "execution_count": 27,
   "metadata": {},
   "outputs": [
    {
     "name": "stdout",
     "output_type": "stream",
     "text": [
      "588 features left\n",
      "594 features left\n"
     ]
    }
   ],
   "source": [
    "mw_alpha = 0.025\n",
    "Selector = fs_mannwhitney(pvalue = mw_alpha).fit(np.array(x_min),y)\n",
    "x_final_min = Selector.transform(np.array(x_min))[0]\n",
    "to_delete = Selector.transform(np.array(x_min))[1]\n",
    "mask = np.ones(cols_min.shape,dtype=bool)\n",
    "mask[to_delete] = False\n",
    "FeaturesMwU_min = cols_min[mask]\n",
    "print(\"{} features left\".format(len(FeaturesMwU_min)))\n",
    "\n",
    "Selector = fs_mannwhitney(pvalue = mw_alpha).fit(np.array(x_plus),y)\n",
    "x_final_plus = Selector.transform(np.array(x_plus))[0]\n",
    "to_delete = Selector.transform(np.array(x_plus))[1]\n",
    "mask = np.ones(cols_plus.shape,dtype=bool)\n",
    "mask[to_delete] = False\n",
    "FeaturesMwU_plus = cols_plus[mask]\n",
    "print(\"{} features left\".format(len(FeaturesMwU_plus)))"
   ]
  },
  {
   "cell_type": "markdown",
   "metadata": {},
   "source": [
    "## F(D/P)R ANOVA"
   ]
  },
  {
   "cell_type": "code",
   "execution_count": 19,
   "metadata": {},
   "outputs": [
    {
     "name": "stdout",
     "output_type": "stream",
     "text": [
      "(50, 0)\n",
      "(50, 0)\n",
      "(50, 0)\n",
      "(50, 0)\n"
     ]
    },
    {
     "name": "stderr",
     "output_type": "stream",
     "text": [
      "/usr/local/lib/python3.6/dist-packages/sklearn/feature_selection/base.py:80: UserWarning: No features were selected: either the data is too noisy or the selection test too strict.\n",
      "  UserWarning)\n"
     ]
    }
   ],
   "source": [
    "FDR = fdr(alpha=0.1)\n",
    "x_final_min = FDR.fit_transform(x_min, y)\n",
    "print(x_final_min.shape)\n",
    "\n",
    "x_final_plus = FDR.fit_transform(x_plus, y)\n",
    "print(x_final_plus.shape)\n",
    "\n",
    "x_final_min_diffGene = FDR.fit_transform(x_min_GeneDiff, y)\n",
    "print(x_final_min_diffGene.shape)\n",
    "\n",
    "x_final_plus_diffGene = FDR.fit_transform(x_plus_GeneDiff, y)\n",
    "print(x_final_plus_diffGene.shape)"
   ]
  },
  {
   "cell_type": "code",
   "execution_count": 23,
   "metadata": {},
   "outputs": [
    {
     "name": "stdout",
     "output_type": "stream",
     "text": [
      "(50, 520)\n",
      "(50, 503)\n",
      "(50, 520)\n",
      "(50, 503)\n"
     ]
    },
    {
     "name": "stderr",
     "output_type": "stream",
     "text": [
      "/usr/local/lib/python3.6/dist-packages/pandas/core/series.py:696: FutureWarning: \n",
      "Passing list-likes to .loc or [] with any missing label will raise\n",
      "KeyError in the future, you can use .reindex() as an alternative.\n",
      "\n",
      "See the documentation here:\n",
      "http://pandas.pydata.org/pandas-docs/stable/indexing.html#deprecate-loc-reindex-listlike\n",
      "  return self.loc[key]\n"
     ]
    }
   ],
   "source": [
    "FPR = fpr(alpha=0.05)\n",
    "Selector =  FPR.fit(x_min, y)\n",
    "FeaturesFPR_min = cols_min[[idx for idx, item in enumerate(Selector.get_support()) if item == True]]\n",
    "FeaturesFPR_min = FeaturesFPR_min[~FeaturesFPR_min.isna()]\n",
    "x_final_min = FPR.transform(x_min)\n",
    "print(x_final_min.shape)\n",
    "\n",
    "Selector =  FPR.fit(x_plus, y)\n",
    "FeaturesFPR_plus = cols_min[[idx for idx, item in enumerate(Selector.get_support()) if item == True]]\n",
    "FeaturesFPR_plus = FeaturesFPR_plus[~FeaturesFPR_plus.isna()]\n",
    "x_final_plus = FPR.transform(x_plus)\n",
    "print(x_final_plus.shape)\n",
    "\n",
    "x_final_min_diffGene = FPR.fit_transform(x_min_GeneDiff, y)\n",
    "print(x_final_min_diffGene.shape)\n",
    "\n",
    "x_final_plus_diffGene = FPR.fit_transform(x_plus_GeneDiff, y)\n",
    "print(x_final_plus_diffGene.shape)"
   ]
  },
  {
   "cell_type": "markdown",
   "metadata": {},
   "source": [
    "## Prevalence per target value"
   ]
  },
  {
   "cell_type": "code",
   "execution_count": 119,
   "metadata": {},
   "outputs": [
    {
     "name": "stderr",
     "output_type": "stream",
     "text": [
      "/usr/local/lib/python3.6/dist-packages/ipykernel_launcher.py:2: SettingWithCopyWarning: \n",
      "A value is trying to be set on a copy of a slice from a DataFrame\n",
      "\n",
      "See the caveats in the documentation: http://pandas.pydata.org/pandas-docs/stable/indexing.html#indexing-view-versus-copy\n",
      "  \n",
      "/usr/local/lib/python3.6/dist-packages/ipykernel_launcher.py:4: SettingWithCopyWarning: \n",
      "A value is trying to be set on a copy of a slice from a DataFrame\n",
      "\n",
      "See the caveats in the documentation: http://pandas.pydata.org/pandas-docs/stable/indexing.html#indexing-view-versus-copy\n",
      "  after removing the cwd from sys.path.\n"
     ]
    }
   ],
   "source": [
    "merged_non_response = merged_min.loc[merged_min['Response To Therapy']==0]\n",
    "merged_non_response.drop('Response To Therapy', axis=1, inplace=True)\n",
    "merged_response = merged_min.loc[merged_min['Response To Therapy']==1]\n",
    "merged_response.drop('Response To Therapy', axis=1, inplace=True)"
   ]
  },
  {
   "cell_type": "code",
   "execution_count": 62,
   "metadata": {},
   "outputs": [
    {
     "data": {
      "text/plain": [
       "Text(0.5,1,'Sum of CNV per gene over all samples')"
      ]
     },
     "execution_count": 62,
     "metadata": {},
     "output_type": "execute_result"
    },
    {
     "data": {
      "image/png": "[encoded data removed]",
      "text/plain": [
       "<Figure size 432x288 with 1 Axes>"
      ]
     },
     "metadata": {},
     "output_type": "display_data"
    }
   ],
   "source": [
    "merged_response.drop('SampleID', axis=1).apply(lambda x: sum(x), axis=0).plot.kde(label='response')\n",
    "merged_non_response.drop('SampleID', axis=1).apply(lambda x: sum(x), axis=0).plot.kde(label='non-response')\n",
    "plt.title('Sum of CNV per gene over all samples')"
   ]
  },
  {
   "cell_type": "code",
   "execution_count": 65,
   "metadata": {},
   "outputs": [
    {
     "data": {
      "text/plain": [
       "Text(0.5,1,'Number of positives of CNV per gene over all samples')"
      ]
     },
     "execution_count": 65,
     "metadata": {},
     "output_type": "execute_result"
    },
    {
     "data": {
      "image/png": "[encoded data removed]",
      "text/plain": [
       "<Figure size 432x288 with 1 Axes>"
      ]
     },
     "metadata": {},
     "output_type": "display_data"
    }
   ],
   "source": [
    "merged_response.drop('SampleID', axis=1).apply(lambda x: sum(x>0), axis=0).plot.kde(label='response')\n",
    "merged_non_response.drop('SampleID', axis=1).apply(lambda x: sum(x>0), axis=0).plot.kde(label='non-response')\n",
    "plt.legend()\n",
    "plt.title('Number of positives of CNV per gene over all samples')"
   ]
  },
  {
   "cell_type": "code",
   "execution_count": 66,
   "metadata": {},
   "outputs": [
    {
     "data": {
      "text/plain": [
       "Text(0.5,1,'Number of negatives of CNV per gene over all samples')"
      ]
     },
     "execution_count": 66,
     "metadata": {},
     "output_type": "execute_result"
    },
    {
     "data": {
      "image/png": "[encoded data removed]",
      "text/plain": [
       "<Figure size 432x288 with 1 Axes>"
      ]
     },
     "metadata": {},
     "output_type": "display_data"
    }
   ],
   "source": [
    "merged_response.drop('SampleID', axis=1).apply(lambda x: sum(x<0), axis=0).plot.kde(label='response')\n",
    "merged_non_response.drop('SampleID', axis=1).apply(lambda x: sum(x<0), axis=0).plot.kde(label='non-response')\n",
    "plt.legend()\n",
    "plt.title('Number of negatives of CNV per gene over all samples')"
   ]
  },
  {
   "cell_type": "code",
   "execution_count": 120,
   "metadata": {},
   "outputs": [],
   "source": [
    "FeaturesResponse1 = merged_response.drop('SampleID', axis=1).\\\n",
    "            columns[merged_response.drop('SampleID', axis=1)\\\n",
    "                    .apply(lambda x: sum(x>0)>7, axis=0).tolist()]\n",
    "FeaturesResponse2 = merged_response.drop('SampleID', axis=1).\\\n",
    "            columns[merged_response.drop('SampleID', axis=1)\\\n",
    "                    .apply(lambda x: sum(x<0)>7, axis=0).tolist()]\n",
    "FeatureResponse = list(set(FeaturesResponse1.tolist()+FeaturesResponse2.tolist()))\n",
    "x_final_min = x_min[list(set(FeaturesResponse1.tolist()+FeaturesResponse2.tolist()))]\n"
   ]
  },
  {
   "cell_type": "code",
   "execution_count": 121,
   "metadata": {},
   "outputs": [
    {
     "name": "stderr",
     "output_type": "stream",
     "text": [
      "/usr/local/lib/python3.6/dist-packages/ipykernel_launcher.py:2: SettingWithCopyWarning: \n",
      "A value is trying to be set on a copy of a slice from a DataFrame\n",
      "\n",
      "See the caveats in the documentation: http://pandas.pydata.org/pandas-docs/stable/indexing.html#indexing-view-versus-copy\n",
      "  \n",
      "/usr/local/lib/python3.6/dist-packages/ipykernel_launcher.py:4: SettingWithCopyWarning: \n",
      "A value is trying to be set on a copy of a slice from a DataFrame\n",
      "\n",
      "See the caveats in the documentation: http://pandas.pydata.org/pandas-docs/stable/indexing.html#indexing-view-versus-copy\n",
      "  after removing the cwd from sys.path.\n"
     ]
    }
   ],
   "source": [
    "merged_non_response = merged_plus.loc[merged_plus['Response To Therapy']==0]\n",
    "merged_non_response.drop('Response To Therapy', axis=1, inplace=True)\n",
    "merged_response = merged_plus.loc[merged_plus['Response To Therapy']==1]\n",
    "merged_response.drop('Response To Therapy', axis=1, inplace=True)\n",
    "\n",
    "FeaturesResponse1 = merged_response.drop('SampleID', axis=1).\\\n",
    "            columns[merged_response.drop('SampleID', axis=1)\\\n",
    "                    .apply(lambda x: sum(x>0)>7, axis=0).tolist()]\n",
    "FeaturesResponse2 = merged_response.drop('SampleID', axis=1).\\\n",
    "            columns[merged_response.drop('SampleID', axis=1)\\\n",
    "                    .apply(lambda x: sum(x<0)>7, axis=0).tolist()]\n",
    "FeatureResponse = list(set(FeaturesResponse1.tolist()+FeaturesResponse2.tolist()))\n",
    "\n",
    "x_final_plus = x_plus[list(set(FeaturesResponse1.tolist()+FeaturesResponse2.tolist()))]\n"
   ]
  },
  {
   "cell_type": "markdown",
   "metadata": {},
   "source": [
    "## No reduction"
   ]
  },
  {
   "cell_type": "code",
   "execution_count": 21,
   "metadata": {},
   "outputs": [],
   "source": [
    "x_final_min = x_min\n",
    "x_final_plus = x_plus\n",
    "x_final_min_diffGene = x_min_GeneDiff\n",
    "x_final_plus_diffGene = x_plus_GeneDiff"
   ]
  },
  {
   "cell_type": "markdown",
   "metadata": {},
   "source": [
    "# Classification"
   ]
  },
  {
   "cell_type": "code",
   "execution_count": 123,
   "metadata": {},
   "outputs": [
    {
     "name": "stderr",
     "output_type": "stream",
     "text": [
      "/usr/local/lib/python3.6/dist-packages/sklearn/preprocessing/label.py:151: DeprecationWarning: The truth value of an empty array is ambiguous. Returning False, but in future this will result in an error. Use `array.size > 0` to check that an array is not empty.\n",
      "  if diff:\n",
      "/usr/local/lib/python3.6/dist-packages/sklearn/preprocessing/label.py:151: DeprecationWarning: The truth value of an empty array is ambiguous. Returning False, but in future this will result in an error. Use `array.size > 0` to check that an array is not empty.\n",
      "  if diff:\n",
      "/usr/local/lib/python3.6/dist-packages/sklearn/preprocessing/label.py:151: DeprecationWarning: The truth value of an empty array is ambiguous. Returning False, but in future this will result in an error. Use `array.size > 0` to check that an array is not empty.\n",
      "  if diff:\n",
      "/usr/local/lib/python3.6/dist-packages/sklearn/preprocessing/label.py:151: DeprecationWarning: The truth value of an empty array is ambiguous. Returning False, but in future this will result in an error. Use `array.size > 0` to check that an array is not empty.\n",
      "  if diff:\n",
      "/usr/local/lib/python3.6/dist-packages/sklearn/preprocessing/label.py:151: DeprecationWarning: The truth value of an empty array is ambiguous. Returning False, but in future this will result in an error. Use `array.size > 0` to check that an array is not empty.\n",
      "  if diff:\n",
      "/usr/local/lib/python3.6/dist-packages/sklearn/preprocessing/label.py:151: DeprecationWarning: The truth value of an empty array is ambiguous. Returning False, but in future this will result in an error. Use `array.size > 0` to check that an array is not empty.\n",
      "  if diff:\n",
      "/usr/local/lib/python3.6/dist-packages/sklearn/preprocessing/label.py:151: DeprecationWarning: The truth value of an empty array is ambiguous. Returning False, but in future this will result in an error. Use `array.size > 0` to check that an array is not empty.\n",
      "  if diff:\n",
      "/usr/local/lib/python3.6/dist-packages/sklearn/preprocessing/label.py:151: DeprecationWarning: The truth value of an empty array is ambiguous. Returning False, but in future this will result in an error. Use `array.size > 0` to check that an array is not empty.\n",
      "  if diff:\n",
      "/usr/local/lib/python3.6/dist-packages/sklearn/preprocessing/label.py:151: DeprecationWarning: The truth value of an empty array is ambiguous. Returning False, but in future this will result in an error. Use `array.size > 0` to check that an array is not empty.\n",
      "  if diff:\n",
      "/usr/local/lib/python3.6/dist-packages/sklearn/preprocessing/label.py:151: DeprecationWarning: The truth value of an empty array is ambiguous. Returning False, but in future this will result in an error. Use `array.size > 0` to check that an array is not empty.\n",
      "  if diff:\n",
      "/usr/local/lib/python3.6/dist-packages/sklearn/preprocessing/label.py:151: DeprecationWarning: The truth value of an empty array is ambiguous. Returning False, but in future this will result in an error. Use `array.size > 0` to check that an array is not empty.\n",
      "  if diff:\n",
      "/usr/local/lib/python3.6/dist-packages/sklearn/preprocessing/label.py:151: DeprecationWarning: The truth value of an empty array is ambiguous. Returning False, but in future this will result in an error. Use `array.size > 0` to check that an array is not empty.\n",
      "  if diff:\n",
      "/usr/local/lib/python3.6/dist-packages/sklearn/preprocessing/label.py:151: DeprecationWarning: The truth value of an empty array is ambiguous. Returning False, but in future this will result in an error. Use `array.size > 0` to check that an array is not empty.\n",
      "  if diff:\n",
      "/usr/local/lib/python3.6/dist-packages/sklearn/preprocessing/label.py:151: DeprecationWarning: The truth value of an empty array is ambiguous. Returning False, but in future this will result in an error. Use `array.size > 0` to check that an array is not empty.\n",
      "  if diff:\n",
      "/usr/local/lib/python3.6/dist-packages/sklearn/preprocessing/label.py:151: DeprecationWarning: The truth value of an empty array is ambiguous. Returning False, but in future this will result in an error. Use `array.size > 0` to check that an array is not empty.\n",
      "  if diff:\n",
      "/usr/local/lib/python3.6/dist-packages/sklearn/preprocessing/label.py:151: DeprecationWarning: The truth value of an empty array is ambiguous. Returning False, but in future this will result in an error. Use `array.size > 0` to check that an array is not empty.\n",
      "  if diff:\n",
      "/usr/local/lib/python3.6/dist-packages/sklearn/preprocessing/label.py:151: DeprecationWarning: The truth value of an empty array is ambiguous. Returning False, but in future this will result in an error. Use `array.size > 0` to check that an array is not empty.\n",
      "  if diff:\n",
      "/usr/local/lib/python3.6/dist-packages/sklearn/preprocessing/label.py:151: DeprecationWarning: The truth value of an empty array is ambiguous. Returning False, but in future this will result in an error. Use `array.size > 0` to check that an array is not empty.\n",
      "  if diff:\n",
      "/usr/local/lib/python3.6/dist-packages/sklearn/preprocessing/label.py:151: DeprecationWarning: The truth value of an empty array is ambiguous. Returning False, but in future this will result in an error. Use `array.size > 0` to check that an array is not empty.\n",
      "  if diff:\n",
      "/usr/local/lib/python3.6/dist-packages/sklearn/preprocessing/label.py:151: DeprecationWarning: The truth value of an empty array is ambiguous. Returning False, but in future this will result in an error. Use `array.size > 0` to check that an array is not empty.\n",
      "  if diff:\n"
     ]
    },
    {
     "name": "stdout",
     "output_type": "stream",
     "text": [
      "mean acc:0.4216666666666667, var acc:0.019669444444444444\n"
     ]
    },
    {
     "name": "stderr",
     "output_type": "stream",
     "text": [
      "/usr/local/lib/python3.6/dist-packages/sklearn/preprocessing/label.py:151: DeprecationWarning: The truth value of an empty array is ambiguous. Returning False, but in future this will result in an error. Use `array.size > 0` to check that an array is not empty.\n",
      "  if diff:\n",
      "/usr/local/lib/python3.6/dist-packages/sklearn/preprocessing/label.py:151: DeprecationWarning: The truth value of an empty array is ambiguous. Returning False, but in future this will result in an error. Use `array.size > 0` to check that an array is not empty.\n",
      "  if diff:\n",
      "/usr/local/lib/python3.6/dist-packages/sklearn/preprocessing/label.py:151: DeprecationWarning: The truth value of an empty array is ambiguous. Returning False, but in future this will result in an error. Use `array.size > 0` to check that an array is not empty.\n",
      "  if diff:\n",
      "/usr/local/lib/python3.6/dist-packages/sklearn/preprocessing/label.py:151: DeprecationWarning: The truth value of an empty array is ambiguous. Returning False, but in future this will result in an error. Use `array.size > 0` to check that an array is not empty.\n",
      "  if diff:\n",
      "/usr/local/lib/python3.6/dist-packages/sklearn/preprocessing/label.py:151: DeprecationWarning: The truth value of an empty array is ambiguous. Returning False, but in future this will result in an error. Use `array.size > 0` to check that an array is not empty.\n",
      "  if diff:\n",
      "/usr/local/lib/python3.6/dist-packages/sklearn/preprocessing/label.py:151: DeprecationWarning: The truth value of an empty array is ambiguous. Returning False, but in future this will result in an error. Use `array.size > 0` to check that an array is not empty.\n",
      "  if diff:\n",
      "/usr/local/lib/python3.6/dist-packages/sklearn/preprocessing/label.py:151: DeprecationWarning: The truth value of an empty array is ambiguous. Returning False, but in future this will result in an error. Use `array.size > 0` to check that an array is not empty.\n",
      "  if diff:\n",
      "/usr/local/lib/python3.6/dist-packages/sklearn/preprocessing/label.py:151: DeprecationWarning: The truth value of an empty array is ambiguous. Returning False, but in future this will result in an error. Use `array.size > 0` to check that an array is not empty.\n",
      "  if diff:\n",
      "/usr/local/lib/python3.6/dist-packages/sklearn/preprocessing/label.py:151: DeprecationWarning: The truth value of an empty array is ambiguous. Returning False, but in future this will result in an error. Use `array.size > 0` to check that an array is not empty.\n",
      "  if diff:\n",
      "/usr/local/lib/python3.6/dist-packages/sklearn/preprocessing/label.py:151: DeprecationWarning: The truth value of an empty array is ambiguous. Returning False, but in future this will result in an error. Use `array.size > 0` to check that an array is not empty.\n",
      "  if diff:\n",
      "/usr/local/lib/python3.6/dist-packages/sklearn/preprocessing/label.py:151: DeprecationWarning: The truth value of an empty array is ambiguous. Returning False, but in future this will result in an error. Use `array.size > 0` to check that an array is not empty.\n",
      "  if diff:\n",
      "/usr/local/lib/python3.6/dist-packages/sklearn/preprocessing/label.py:151: DeprecationWarning: The truth value of an empty array is ambiguous. Returning False, but in future this will result in an error. Use `array.size > 0` to check that an array is not empty.\n",
      "  if diff:\n",
      "/usr/local/lib/python3.6/dist-packages/sklearn/preprocessing/label.py:151: DeprecationWarning: The truth value of an empty array is ambiguous. Returning False, but in future this will result in an error. Use `array.size > 0` to check that an array is not empty.\n",
      "  if diff:\n",
      "/usr/local/lib/python3.6/dist-packages/sklearn/preprocessing/label.py:151: DeprecationWarning: The truth value of an empty array is ambiguous. Returning False, but in future this will result in an error. Use `array.size > 0` to check that an array is not empty.\n",
      "  if diff:\n",
      "/usr/local/lib/python3.6/dist-packages/sklearn/preprocessing/label.py:151: DeprecationWarning: The truth value of an empty array is ambiguous. Returning False, but in future this will result in an error. Use `array.size > 0` to check that an array is not empty.\n",
      "  if diff:\n",
      "/usr/local/lib/python3.6/dist-packages/sklearn/preprocessing/label.py:151: DeprecationWarning: The truth value of an empty array is ambiguous. Returning False, but in future this will result in an error. Use `array.size > 0` to check that an array is not empty.\n",
      "  if diff:\n",
      "/usr/local/lib/python3.6/dist-packages/sklearn/preprocessing/label.py:151: DeprecationWarning: The truth value of an empty array is ambiguous. Returning False, but in future this will result in an error. Use `array.size > 0` to check that an array is not empty.\n",
      "  if diff:\n",
      "/usr/local/lib/python3.6/dist-packages/sklearn/preprocessing/label.py:151: DeprecationWarning: The truth value of an empty array is ambiguous. Returning False, but in future this will result in an error. Use `array.size > 0` to check that an array is not empty.\n",
      "  if diff:\n",
      "/usr/local/lib/python3.6/dist-packages/sklearn/preprocessing/label.py:151: DeprecationWarning: The truth value of an empty array is ambiguous. Returning False, but in future this will result in an error. Use `array.size > 0` to check that an array is not empty.\n",
      "  if diff:\n",
      "/usr/local/lib/python3.6/dist-packages/sklearn/preprocessing/label.py:151: DeprecationWarning: The truth value of an empty array is ambiguous. Returning False, but in future this will result in an error. Use `array.size > 0` to check that an array is not empty.\n",
      "  if diff:\n"
     ]
    },
    {
     "name": "stdout",
     "output_type": "stream",
     "text": [
      "mean acc:0.4216666666666667, var acc:0.03666944444444444\n"
     ]
    }
   ],
   "source": [
    "#x_final = x\n",
    "model = lgbm(boosting_type='goss', learning_rate=0.45)\n",
    "\n",
    "print(\"mean acc:{}, var acc:{}\".format(np.mean(cross_val_score(model, x_final_min, y, cv=10)),\n",
    "                                       np.var(cross_val_score(model, x_final_min, y, cv=10))))\n",
    "model.fit(x_final_min,y)\n",
    "feature_importances_min = model.feature_importances_\n",
    "##\n",
    "##\n",
    "model = lgbm(boosting_type='goss', learning_rate=0.45)\n",
    "print(\"mean acc:{}, var acc:{}\".format(np.mean(cross_val_score(model, x_final_plus, y, cv=10)),\n",
    "                                       np.var(cross_val_score(model, x_final_plus, y, cv=10))))\n",
    "model.fit(x_final_plus,y)\n",
    "feature_importances_plus = model.feature_importances_\n",
    "\n",
    "\n"
   ]
  },
  {
   "cell_type": "code",
   "execution_count": null,
   "metadata": {},
   "outputs": [],
   "source": [
    "###\n",
    "###\n",
    "model = lgbm(boosting_type='goss')\n",
    "print(\"mean acc:{}, var acc:{}\".format(np.mean(cross_val_score(model, x_final_min_diffGene, y, cv=10)),\n",
    "                                       np.var(cross_val_score(model, x_final_min_diffGene, y, cv=10))))\n",
    "model.fit(x_final_min_diffGene,y)\n",
    "feature_importances_plus = model.feature_importances_\n",
    "##\n",
    "##\n",
    "model = lgbm(boosting_type='goss')\n",
    "print(\"mean acc:{}, var acc:{}\".format(np.mean(cross_val_score(model, x_final_plus_diffGene, y, cv=10)),\n",
    "                                       np.var(cross_val_score(model, x_final_plus_diffGene, y, cv=10))))\n",
    "model.fit(x_final_plus_diffGene,y)\n",
    "feature_importances_plus = model.feature_importances_"
   ]
  }
 ],
 "metadata": {
  "kernelspec": {
   "display_name": "Python 3",
   "language": "python",
   "name": "python3"
  },
  "language_info": {
   "codemirror_mode": {
    "name": "ipython",
    "version": 3
   },
   "file_extension": ".py",
   "mimetype": "text/x-python",
   "name": "python",
   "nbconvert_exporter": "python",
   "pygments_lexer": "ipython3",
   "version": "3.6.5"
  }
 },
 "nbformat": 4,
 "nbformat_minor": 2
}
