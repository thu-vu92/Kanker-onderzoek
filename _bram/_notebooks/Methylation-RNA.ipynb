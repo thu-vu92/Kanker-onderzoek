{
 "cells": [
  {
   "cell_type": "markdown",
   "metadata": {},
   "source": [
    "# Combinatoric inferred effect of Methylation and RNA expression\n",
    "\n"
   ]
  },
  {
   "cell_type": "code",
   "execution_count": 2,
   "metadata": {},
   "outputs": [],
   "source": [
    "import numpy as np\n",
    "import pandas as pd\n",
    "import scipy as sc\n",
    "import statsmodels as sm\n",
    "import sklearn as sk\n",
    "from numba import jit"
   ]
  },
  {
   "cell_type": "markdown",
   "metadata": {},
   "source": [
    "Some of the existing techniques are \n",
    "* Sparse ICA\n",
    "* Sparse CCA\n",
    "* Sparse MFA\n",
    "* Sparse PLS\n",
    "* joint NMF\n",
    "\n",
    "Graph convolutional network and probabilistic graph models are interesting as well..\n",
    "\n",
    "(1) iteratively build a sparse adjacency matrix with a correlation threshold **OR** reduce the dimensionality of each set individually and combine bi-linearly\n",
    "(2) extract graph clusters using sparse affinity propagation OR apply dimension reduction\n",
    "(3) identify the most important differential pairs"
   ]
  }
 ],
 "metadata": {
  "kernelspec": {
   "display_name": "Python 3",
   "language": "python",
   "name": "python3"
  },
  "language_info": {
   "codemirror_mode": {
    "name": "ipython",
    "version": 3
   },
   "file_extension": ".py",
   "mimetype": "text/x-python",
   "name": "python",
   "nbconvert_exporter": "python",
   "pygments_lexer": "ipython3",
   "version": "3.6.7"
  }
 },
 "nbformat": 4,
 "nbformat_minor": 2
}
