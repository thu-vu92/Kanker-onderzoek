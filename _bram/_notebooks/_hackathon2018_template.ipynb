{
 "cells": [
  {
   "cell_type": "code",
   "execution_count": 1,
   "metadata": {
    "colab": {
     "autoexec": {
      "startup": false,
      "wait_interval": 0
     },
     "base_uri": "https://localhost:8080/",
     "height": 2015
    },
    "colab_type": "code",
    "executionInfo": {
     "elapsed": 45337,
     "status": "ok",
     "timestamp": 1528404545054,
     "user": {
      "displayName": "Bram van Es",
      "photoUrl": "//lh5.googleusercontent.com/-xJzokk_V6K8/AAAAAAAAAAI/AAAAAAAAAYQ/jk_YVrsZsuI/s50-c-k-no/photo.jpg",
      "userId": "103502009534550116389"
     },
     "user_tz": -120
    },
    "id": "-y-oQ8xoMh-s",
    "outputId": "0c43642a-f59c-41bb-9f68-bd5af9ed5097"
   },
   "outputs": [
    {
     "name": "stdout",
     "output_type": "stream",
     "text": [
      "Collecting ggplot\n",
      "\u001b[?25l  Downloading https://files.pythonhosted.org/packages/48/04/5c88cc51c6713583f2dc78a5296adb9741505348c323d5875bc976143db2/ggplot-0.11.5-py2.py3-none-any.whl (2.2MB)\n",
      "\u001b[K    100% |████████████████████████████████| 2.2MB 4.1MB/s \n",
      "\u001b[?25hRequirement already satisfied: six in /usr/local/lib/python3.6/dist-packages (from ggplot) (1.11.0)\n",
      "Collecting brewer2mpl (from ggplot)\n",
      "  Downloading https://files.pythonhosted.org/packages/84/57/00c45a199719e617db0875181134fcb3aeef701deae346547ac722eaaf5e/brewer2mpl-1.4.1-py2.py3-none-any.whl\n",
      "Requirement already satisfied: scipy in /usr/local/lib/python3.6/dist-packages (from ggplot) (0.19.1)\n",
      "Requirement already satisfied: statsmodels in /usr/local/lib/python3.6/dist-packages (from ggplot) (0.8.0)\n",
      "Requirement already satisfied: numpy in /usr/local/lib/python3.6/dist-packages (from ggplot) (1.14.3)\n",
      "Requirement already satisfied: patsy>=0.4 in /usr/local/lib/python3.6/dist-packages (from ggplot) (0.5.0)\n",
      "Requirement already satisfied: matplotlib in /usr/local/lib/python3.6/dist-packages (from ggplot) (2.1.2)\n",
      "Requirement already satisfied: pandas in /usr/local/lib/python3.6/dist-packages (from ggplot) (0.22.0)\n",
      "Requirement already satisfied: cycler in /usr/local/lib/python3.6/dist-packages (from ggplot) (0.10.0)\n",
      "Requirement already satisfied: python-dateutil>=2.1 in /usr/local/lib/python3.6/dist-packages (from matplotlib->ggplot) (2.5.3)\n",
      "Requirement already satisfied: pytz in /usr/local/lib/python3.6/dist-packages (from matplotlib->ggplot) (2018.4)\n",
      "Requirement already satisfied: pyparsing!=2.0.4,!=2.1.2,!=2.1.6,>=2.0.1 in /usr/local/lib/python3.6/dist-packages (from matplotlib->ggplot) (2.2.0)\n",
      "Installing collected packages: brewer2mpl, ggplot\n",
      "Successfully installed brewer2mpl-1.4.1 ggplot-0.11.5\n",
      "Requirement already satisfied: matplotlib in /usr/local/lib/python3.6/dist-packages (2.1.2)\n",
      "Requirement already satisfied: pyparsing!=2.0.4,!=2.1.2,!=2.1.6,>=2.0.1 in /usr/local/lib/python3.6/dist-packages (from matplotlib) (2.2.0)\n",
      "Requirement already satisfied: pytz in /usr/local/lib/python3.6/dist-packages (from matplotlib) (2018.4)\n",
      "Requirement already satisfied: python-dateutil>=2.1 in /usr/local/lib/python3.6/dist-packages (from matplotlib) (2.5.3)\n",
      "Requirement already satisfied: six>=1.10 in /usr/local/lib/python3.6/dist-packages (from matplotlib) (1.11.0)\n",
      "Requirement already satisfied: numpy>=1.7.1 in /usr/local/lib/python3.6/dist-packages (from matplotlib) (1.14.3)\n",
      "Requirement already satisfied: cycler>=0.10 in /usr/local/lib/python3.6/dist-packages (from matplotlib) (0.10.0)\n",
      "Collecting bokeh\n",
      "\u001b[?25l  Downloading https://files.pythonhosted.org/packages/cd/47/201408029628164342e65a4552ee00abc79ea7be1b64031281b81b0e2f4d/bokeh-0.12.16.tar.gz (14.7MB)\n",
      "\u001b[K\u001b[K    100% |████████████████████████████████| 14.7MB 2.3MB/s \n",
      "\u001b[?25hRequirement already satisfied: six>=1.5.2 in /usr/local/lib/python3.6/dist-packages (from bokeh) (1.11.0)\n",
      "Requirement already satisfied: PyYAML>=3.10 in /usr/local/lib/python3.6/dist-packages (from bokeh) (3.12)\n",
      "Requirement already satisfied: python-dateutil>=2.1 in /usr/local/lib/python3.6/dist-packages (from bokeh) (2.5.3)\n",
      "Requirement already satisfied: Jinja2>=2.7 in /usr/local/lib/python3.6/dist-packages (from bokeh) (2.10)\n",
      "Requirement already satisfied: numpy>=1.7.1 in /usr/local/lib/python3.6/dist-packages (from bokeh) (1.14.3)\n",
      "Collecting packaging>=16.8 (from bokeh)\n",
      "  Downloading https://files.pythonhosted.org/packages/ad/c2/b500ea05d5f9f361a562f089fc91f77ed3b4783e13a08a3daf82069b1224/packaging-17.1-py2.py3-none-any.whl\n",
      "Requirement already satisfied: tornado>=4.3 in /usr/local/lib/python3.6/dist-packages (from bokeh) (4.5.3)\n",
      "Requirement already satisfied: MarkupSafe>=0.23 in /usr/local/lib/python3.6/dist-packages (from Jinja2>=2.7->bokeh) (1.0)\n",
      "Requirement already satisfied: pyparsing>=2.0.2 in /usr/local/lib/python3.6/dist-packages (from packaging>=16.8->bokeh) (2.2.0)\n",
      "Building wheels for collected packages: bokeh\n",
      "  Running setup.py bdist_wheel for bokeh ... \u001b[?25ldone\n",
      "\u001b[?25h  Stored in directory: /content/.cache/pip/wheels/ff/28/51/22e8d08e9d5383ee1de981aaa8ff7bc53c7d65022e5101400f\n",
      "Successfully built bokeh\n",
      "Installing collected packages: packaging, bokeh\n",
      "Successfully installed bokeh-0.12.16 packaging-17.1\n",
      "Collecting dask\n",
      "\u001b[?25l  Downloading https://files.pythonhosted.org/packages/91/1a/71be14f468f8f3f94e708afd5662cf75a0ca33a78924ca9f129a9c45c66b/dask-0.17.5-py3-none-any.whl (598kB)\n",
      "\u001b[K    100% |████████████████████████████████| 604kB 2.6MB/s \n",
      "\u001b[?25hInstalling collected packages: dask\n",
      "Successfully installed dask-0.17.5\n",
      "Requirement already satisfied: statsmodels in /usr/local/lib/python3.6/dist-packages (0.8.0)\n",
      "Requirement already satisfied: pandas in /usr/local/lib/python3.6/dist-packages (from statsmodels) (0.22.0)\n",
      "Requirement already satisfied: scipy in /usr/local/lib/python3.6/dist-packages (from statsmodels) (0.19.1)\n",
      "Requirement already satisfied: patsy in /usr/local/lib/python3.6/dist-packages (from statsmodels) (0.5.0)\n",
      "Requirement already satisfied: python-dateutil>=2 in /usr/local/lib/python3.6/dist-packages (from pandas->statsmodels) (2.5.3)\n",
      "Requirement already satisfied: numpy>=1.9.0 in /usr/local/lib/python3.6/dist-packages (from pandas->statsmodels) (1.14.3)\n",
      "Requirement already satisfied: pytz>=2011k in /usr/local/lib/python3.6/dist-packages (from pandas->statsmodels) (2018.4)\n",
      "Requirement already satisfied: six in /usr/local/lib/python3.6/dist-packages (from patsy->statsmodels) (1.11.0)\n",
      "Collecting cloudpickle\n",
      "  Downloading https://files.pythonhosted.org/packages/e7/bf/60ae7ec1e8c6742d2abbb6819c39a48ee796793bcdb7e1d5e41a3e379ddd/cloudpickle-0.5.3-py2.py3-none-any.whl\n",
      "Installing collected packages: cloudpickle\n",
      "Successfully installed cloudpickle-0.5.3\n",
      "Requirement already satisfied: requests in /usr/local/lib/python3.6/dist-packages (2.18.4)\n",
      "Requirement already satisfied: chardet<3.1.0,>=3.0.2 in /usr/local/lib/python3.6/dist-packages (from requests) (3.0.4)\n",
      "Requirement already satisfied: idna<2.7,>=2.5 in /usr/local/lib/python3.6/dist-packages (from requests) (2.6)\n",
      "Requirement already satisfied: certifi>=2017.4.17 in /usr/local/lib/python3.6/dist-packages (from requests) (2018.4.16)\n",
      "Requirement already satisfied: urllib3<1.23,>=1.21.1 in /usr/local/lib/python3.6/dist-packages (from requests) (1.22)\n",
      "Collecting tpot\n",
      "\u001b[?25l  Downloading https://files.pythonhosted.org/packages/c4/e6/a41be0ddb23a411dc78b92f6a90b8129e65856a8248f8f11b2f14d8eeee3/TPOT-0.9.3.tar.gz (888kB)\n",
      "\u001b[K    80% |█████████████████████████▉      | 716kB 3.0MB/s eta 0:00:01\u001b[K    100% |████████████████████████████████| 890kB 3.4MB/s \n",
      "\u001b[?25hRequirement already satisfied: numpy>=1.12.1 in /usr/local/lib/python3.6/dist-packages (from tpot) (1.14.3)\n",
      "Requirement already satisfied: scipy>=0.19.0 in /usr/local/lib/python3.6/dist-packages (from tpot) (0.19.1)\n",
      "Requirement already satisfied: scikit-learn>=0.18.1 in /usr/local/lib/python3.6/dist-packages (from tpot) (0.19.1)\n",
      "Collecting deap>=1.0 (from tpot)\n",
      "\u001b[?25l  Downloading https://files.pythonhosted.org/packages/af/29/e7f2ecbe02997b16a768baed076f5fc4781d7057cd5d9adf7c94027845ba/deap-1.2.2.tar.gz (936kB)\n",
      "\u001b[K    100% |████████████████████████████████| 942kB 5.2MB/s \n",
      "\u001b[?25hCollecting update_checker>=0.16 (from tpot)\n",
      "  Downloading https://files.pythonhosted.org/packages/17/c9/ab11855af164d03be0ff4fddd4c46a5bd44799a9ecc1770e01a669c21168/update_checker-0.16-py2.py3-none-any.whl\n",
      "Collecting tqdm>=4.11.2 (from tpot)\n",
      "\u001b[?25l  Downloading https://files.pythonhosted.org/packages/93/24/6ab1df969db228aed36a648a8959d1027099ce45fad67532b9673d533318/tqdm-4.23.4-py2.py3-none-any.whl (42kB)\n",
      "\u001b[K    100% |████████████████████████████████| 51kB 7.2MB/s \n",
      "\u001b[?25hCollecting stopit>=1.1.1 (from tpot)\n",
      "  Downloading https://files.pythonhosted.org/packages/35/58/e8bb0b0fb05baf07bbac1450c447d753da65f9701f551dca79823ce15d50/stopit-1.1.2.tar.gz\n",
      "Requirement already satisfied: pandas>=0.20.2 in /usr/local/lib/python3.6/dist-packages (from tpot) (0.22.0)\n",
      "Requirement already satisfied: requests>=2.3.0 in /usr/local/lib/python3.6/dist-packages (from update_checker>=0.16->tpot) (2.18.4)\n",
      "Requirement already satisfied: python-dateutil>=2 in /usr/local/lib/python3.6/dist-packages (from pandas>=0.20.2->tpot) (2.5.3)\n",
      "Requirement already satisfied: pytz>=2011k in /usr/local/lib/python3.6/dist-packages (from pandas>=0.20.2->tpot) (2018.4)\n",
      "Requirement already satisfied: urllib3<1.23,>=1.21.1 in /usr/local/lib/python3.6/dist-packages (from requests>=2.3.0->update_checker>=0.16->tpot) (1.22)\n",
      "Requirement already satisfied: chardet<3.1.0,>=3.0.2 in /usr/local/lib/python3.6/dist-packages (from requests>=2.3.0->update_checker>=0.16->tpot) (3.0.4)\n",
      "Requirement already satisfied: idna<2.7,>=2.5 in /usr/local/lib/python3.6/dist-packages (from requests>=2.3.0->update_checker>=0.16->tpot) (2.6)\n",
      "Requirement already satisfied: certifi>=2017.4.17 in /usr/local/lib/python3.6/dist-packages (from requests>=2.3.0->update_checker>=0.16->tpot) (2018.4.16)\n",
      "Requirement already satisfied: six>=1.5 in /usr/local/lib/python3.6/dist-packages (from python-dateutil>=2->pandas>=0.20.2->tpot) (1.11.0)\n",
      "Building wheels for collected packages: tpot, deap, stopit\n",
      "  Running setup.py bdist_wheel for tpot ... \u001b[?25ldone\n",
      "\u001b[?25h  Stored in directory: /content/.cache/pip/wheels/00/f3/4d/8d28f69c59669ba720eebaa4ebc8a3b28da2a61662367b38e8\n",
      "  Running setup.py bdist_wheel for deap ... \u001b[?25ldone\n",
      "\u001b[?25h  Stored in directory: /content/.cache/pip/wheels/22/ea/bf/dc7c8a2262025a0ab5da9ef02282c198be88902791ca0c6658\n",
      "  Running setup.py bdist_wheel for stopit ... \u001b[?25ldone\n",
      "\u001b[?25h  Stored in directory: /content/.cache/pip/wheels/3c/85/2b/2580190404636bfc63e8de3dff629c03bb795021e1983a6cc7\n",
      "Successfully built tpot deap stopit\n",
      "Installing collected packages: deap, update-checker, tqdm, stopit, tpot\n",
      "Successfully installed deap-1.2.2 stopit-1.1.2 tpot-0.9.3 tqdm-4.23.4 update-checker-0.16\n",
      "Collecting lightgbm\n",
      "\u001b[?25l  Downloading https://files.pythonhosted.org/packages/bf/01/45e209af10fd16537df0c5d8a5474c286554c3eaf9ddb0ce04113f1e8506/lightgbm-2.1.1-py2.py3-none-manylinux1_x86_64.whl (711kB)\n",
      "\u001b[K    100% |████████████████████████████████| 716kB 4.0MB/s \n",
      "\u001b[?25hRequirement already satisfied: numpy in /usr/local/lib/python3.6/dist-packages (from lightgbm) (1.14.3)\n",
      "Requirement already satisfied: scikit-learn in /usr/local/lib/python3.6/dist-packages (from lightgbm) (0.19.1)\n",
      "Requirement already satisfied: scipy in /usr/local/lib/python3.6/dist-packages (from lightgbm) (0.19.1)\n",
      "Installing collected packages: lightgbm\n"
     ]
    },
    {
     "name": "stdout",
     "output_type": "stream",
     "text": [
      "Successfully installed lightgbm-2.1.1\n",
      "Requirement already satisfied: networkx in /usr/local/lib/python3.6/dist-packages (2.1)\n",
      "Requirement already satisfied: decorator>=4.1.0 in /usr/local/lib/python3.6/dist-packages (from networkx) (4.3.0)\n"
     ]
    }
   ],
   "source": [
    "!pip install ggplot\n",
    "!pip install matplotlib\n",
    "!pip install bokeh\n",
    "!pip install dask\n",
    "!pip install statsmodels\n",
    "!pip install cloudpickle\n",
    "!pip install requests\n",
    "!pip install tpot\n",
    "!pip install lightgbm\n",
    "!pip install networkx"
   ]
  },
  {
   "cell_type": "code",
   "execution_count": 2,
   "metadata": {
    "colab": {
     "autoexec": {
      "startup": false,
      "wait_interval": 0
     },
     "base_uri": "https://localhost:8080/",
     "height": 181
    },
    "colab_type": "code",
    "executionInfo": {
     "elapsed": 3757,
     "status": "ok",
     "timestamp": 1528404548826,
     "user": {
      "displayName": "Bram van Es",
      "photoUrl": "//lh5.googleusercontent.com/-xJzokk_V6K8/AAAAAAAAAAI/AAAAAAAAAYQ/jk_YVrsZsuI/s50-c-k-no/photo.jpg",
      "userId": "103502009534550116389"
     },
     "user_tz": -120
    },
    "id": "Kasvcm-CMRCO",
    "outputId": "4eef9599-395c-4b11-9d43-d915f4b2b40d"
   },
   "outputs": [
    {
     "name": "stderr",
     "output_type": "stream",
     "text": [
      "/usr/local/lib/python3.6/dist-packages/ggplot/utils.py:81: FutureWarning: pandas.tslib is deprecated and will be removed in a future version.\n",
      "You can access Timestamp as pandas.Timestamp\n",
      "  pd.tslib.Timestamp,\n",
      "/usr/local/lib/python3.6/dist-packages/ggplot/stats/smoothers.py:4: FutureWarning: The pandas.lib module is deprecated and will be removed in a future version. These are private functions and can be accessed from pandas._libs.lib instead\n",
      "  from pandas.lib import Timestamp\n",
      "/usr/local/lib/python3.6/dist-packages/statsmodels/compat/pandas.py:56: FutureWarning: The pandas.core.datetools module is deprecated and will be removed in a future version. Please use the pandas.tseries module instead.\n",
      "  from pandas.core import datetools\n",
      "Using TensorFlow backend.\n"
     ]
    }
   ],
   "source": [
    "import seaborn as sns\n",
    "from ggplot import *\n",
    "from matplotlib import pyplot as plt\n",
    "import bokeh\n",
    "\n",
    "import pandas as pd\n",
    "import dask.dataframe as dd\n",
    "import numpy as np\n",
    "import scipy as sc\n",
    "import statsmodels as sm\n",
    "import networkx as nx\n",
    "\n",
    "import sklearn as sk\n",
    "import tensorflow as tf\n",
    "import keras\n",
    "import xgboost as xgb\n",
    "import lightgbm as lgbm\n",
    "import tpot\n",
    "\n",
    "import sys\n",
    "import os\n",
    "import gc"
   ]
  },
  {
   "cell_type": "markdown",
   "metadata": {
    "colab_type": "text",
    "id": "BT8hN4IuSbDu"
   },
   "source": [
    "#Data sources\n",
    "\n",
    "##DNA, Mutation\n",
    "Literally, per genome and chromosome the change in the pair compared to a normal reference. Remember we have (Adenine,Thymine) and (Guanine,Cytosine) as the base pairs.\n",
    "\n",
    "\n",
    "\n",
    "\n",
    "The types of mutations include (taken from here):\n",
    "\n",
    "**Missense mutation**:. This type of mutation is a change in one DNA base pair that results in the substitution of one amino acid for another in the protein made by a gene.\n",
    "\n",
    "**Nonsense mutation**: is also a change in one DNA base pair. Instead of substituting one amino acid for another, however, the altered DNA sequence prematurely signals the cell to stop building a protein. This type of mutation results in a shortened protein that may function improperly or not at all.\n",
    "\n",
    "**Insertion**: An insertion changes the number of DNA bases in a gene by adding a piece of DNA. As a result, the protein made by the gene may not function properly.\n",
    "\n",
    "**Deletion**: A deletion changes the number of DNA bases by removing a piece of DNA. Small deletions may remove one or a few base pairs within a gene, while larger deletions can remove an entire gene or several neighboring genes. The deleted DNA may alter the function of the resulting protein(s).\n",
    "\n",
    "**Duplication**: A duplication consists of a piece of DNA that is abnormally copied one or more times. This type of mutation may alter the function of the resulting protein.\n",
    "\n",
    "**Frameshift mutation**: This type of mutation occurs when the addition or loss of DNA bases changes a gene's reading frame. A reading frame consists of groups of 3 bases that each code for one amino acid. A frameshift mutation shifts the grouping of these bases and changes the code for amino acids. The resulting protein is usually nonfunctional. Insertions, deletions, and duplications can all be frameshift mutations.\n",
    "\n",
    "**Repeat expansion**: Nucleotide repeats are short DNA sequences that are repeated a number of times in a row. For example, a trinucleotide repeat is made up of 3-base-pair sequences, and a tetranucleotide repeat is made up of 4-base-pair sequences. A repeat expansion is a mutation that increases the number of times that the short DNA sequence is repeated. This type of mutation can cause the resulting protein to function improperly.\n",
    "\n",
    "### DATA FIELDS, shape (422553, 11)\n",
    "```\n",
    "ID      |  Location        | Change     |  Gene   | Mutation type|  Var.Allele.Frequency  | Amino acid\n",
    "\n",
    "SampleID,| Chr, Start, Stop|  Ref, Alt  | Gene    |    Effect    |  DNA_VAF, RNA_VAF      | Amino_Acid_Change\n",
    "\n",
    "string   |string, int, int | char, char | string  |    string    |  float, float          |  string\n",
    "```\n",
    "\n",
    "**NOTE**: this gives us direct insight in how genetic mutations lead to changes in amino-acids.\n",
    "\n",
    "## Copy Number Variations\n",
    "A copy number variation (CNV) is when the number of copies of a particular gene varies from one individual to the next.\n",
    "\n",
    "### DATA FIELDS, shape (24802, 372)\n",
    "```\n",
    "Gene      | Chr, Start, Stop | Strand     |   SampleID 1..SampleID N\n",
    "\n",
    "string    |string, int, int  | int        |  int..int\n",
    "```\n",
    "\n",
    "## Methylation, gene expression regulation\n",
    "Degree of methylation indicates addition of Methyl groups to the DNA. Increased methylation is associated with less transcription of the DNA: Methylated means the gene is switched OFF, Unmethylated means the gene is switched ON.\n",
    "\n",
    "Alterations of DNA methylation have been recognized as an important component of cancer development.\n",
    "\n",
    "### DATA FIELDS, shape (485577, 483)\n",
    "```\n",
    "probeID   | Chr, Start, Stop | Strand  | Gene   |  Relation_CpG_island | SampleID 1..SampleID N\n",
    "\n",
    "string    |string, int, int  | int     | string |   string             | float..float\n",
    "```\n",
    "\n",
    "## RNA, gene expression\n",
    "Again four building blocks; Adenosine (A), Uracil (U), Guanine (G), Cytosine (C).\n",
    "\n",
    "(DNA) --> (RNA)\n",
    "\n",
    "A --> U\n",
    "\n",
    "T --> A\n",
    "\n",
    "C --> G\n",
    "\n",
    "G --> C\n",
    "\n",
    "Gene expression profiles, continuous values resulting from the normalisation of counts.\n",
    "\n",
    "### DATA FIELDS, shape (60531, 477)\n",
    "```\n",
    "Gene      | Chr, Start, Stop | Strand  | SampleID 1..SampleID N\n",
    "\n",
    "string    |string, int, int  | int     |  float..float\n",
    "```\n",
    "\n",
    "## miRNA, transcriptomics\n",
    "The connection between the RNA production and protein creation. I.e. perhaps miRNA expression values can be associated with specific proteins.\n",
    "\n",
    "### DATA FIELDS, shape (2220, 458)\n",
    "```\n",
    "MIMATID  | Name   | Chr, Start, Stop | Strand  | SampleID 1..SampleID N\n",
    "\n",
    "string   | string |string, int, int  | int     |  float..float\n",
    "```\n",
    "\n",
    "## Proteomes\n",
    "Proteine expression profiles, ditto, continuous values resulting from the normalisation of counts\n",
    "\n",
    "### DATA FIELDS, shape (282, 355)\n",
    "```\n",
    "ProteinID  | SampleID 1..SampleID N\n",
    "\n",
    "string     | float..float\n",
    "```\n",
    "\n",
    "**QUIZ**, identify our data sets in the following image!\n",
    "\n",
    "![Quiz](https://media.nature.com/m685/nature-assets/nrg/journal/v16/n2/images/nrg3868-f1.jpg)\n",
    "\n",
    "# GOAL\n",
    "**Some degree of multi-omic or trans-omic analysis and identification of pathways.**\n",
    "\n",
    "\n",
    "![Quiz](https://www.cell.com/cms/attachment/2119084140/2088971044/gr1_lrg.jpg)\n",
    "\n",
    "\n",
    "\n",
    "## Our reality\n",
    "![Quiz](https://media.springernature.com/m685/nature-assets/nrg/journal/v16/n2/images/nrg3868-f2.jpg)"
   ]
  },
  {
   "cell_type": "code",
   "execution_count": 3,
   "metadata": {
    "colab": {
     "autoexec": {
      "startup": false,
      "wait_interval": 0
     },
     "base_uri": "https://localhost:8080/",
     "height": 89
    },
    "colab_type": "code",
    "executionInfo": {
     "elapsed": 76946,
     "status": "ok",
     "timestamp": 1528404734964,
     "user": {
      "displayName": "Bram van Es",
      "photoUrl": "//lh5.googleusercontent.com/-xJzokk_V6K8/AAAAAAAAAAI/AAAAAAAAAYQ/jk_YVrsZsuI/s50-c-k-no/photo.jpg",
      "userId": "103502009534550116389"
     },
     "user_tz": -120
    },
    "id": "RcsBCg15NqcX",
    "outputId": "e4d69a0a-6346-40dc-e556-99153137e3aa"
   },
   "outputs": [
    {
     "name": "stderr",
     "output_type": "stream",
     "text": [
      "/usr/local/lib/python3.6/dist-packages/IPython/core/interactiveshell.py:2718: DtypeWarning: Columns (1,4) have mixed types. Specify dtype option on import or set low_memory=False.\n",
      "  interactivity=interactivity, compiler=compiler, result=result)\n",
      "/usr/local/lib/python3.6/dist-packages/IPython/core/interactiveshell.py:2718: DtypeWarning: Columns (4) have mixed types. Specify dtype option on import or set low_memory=False.\n",
      "  interactivity=interactivity, compiler=compiler, result=result)\n"
     ]
    }
   ],
   "source": [
    "Melanoma_CopyNumberVariations = pd.read_table(\"https://storage.googleapis.com/genx_2018/Melanoma_CNV.txt\", sep=\"\\t\")\n",
    "Melanoma_Mutation = pd.read_table(\"https://storage.googleapis.com/genx_2018/Melanoma_Mutation.txt\", sep=\"\\t\")\n",
    "Melanoma_Methylation = pd.read_table(\"https://storage.googleapis.com/genx_2018/Melanoma_Methylation.txt\", sep=\"\\t\")\n",
    "\n",
    "Melanoma_GeneExpression = pd.read_table(\"https://storage.googleapis.com/genx_2018/Melanoma_GeneExpression.txt\", sep=\"\\t\")\n",
    "Melanoma_miRNA = pd.read_table(\"https://storage.googleapis.com/genx_2018/Melanoma_miRNA.txt\", sep=\"\\t\")\n",
    "Melanoma_Proteome = pd.read_table(\"https://storage.googleapis.com/genx_2018/Melanoma_Proteome.txt\", sep=\"\\t\")\n",
    "\n",
    "Melanoma_Phenotype_Metadata = pd.read_table(\"https://storage.googleapis.com/genx_2018/Melanoma_Phenotype_Metadata.txt\", sep=\"\\t\")\n"
   ]
  },
  {
   "cell_type": "code",
   "execution_count": 0,
   "metadata": {
    "colab": {
     "autoexec": {
      "startup": false,
      "wait_interval": 0
     }
    },
    "colab_type": "code",
    "id": "hK81ItbmAhTi"
   },
   "outputs": [],
   "source": []
  }
 ],
 "metadata": {
  "colab": {
   "collapsed_sections": [],
   "default_view": {},
   "name": "_hackathon2018_template.ipynb",
   "provenance": [],
   "version": "0.3.2",
   "views": {}
  },
  "kernelspec": {
   "display_name": "Python 3",
   "language": "python",
   "name": "python3"
  },
  "language_info": {
   "codemirror_mode": {
    "name": "ipython",
    "version": 3
   },
   "file_extension": ".py",
   "mimetype": "text/x-python",
   "name": "python",
   "nbconvert_exporter": "python",
   "pygments_lexer": "ipython3",
   "version": "3.6.5"
  }
 },
 "nbformat": 4,
 "nbformat_minor": 1
}
