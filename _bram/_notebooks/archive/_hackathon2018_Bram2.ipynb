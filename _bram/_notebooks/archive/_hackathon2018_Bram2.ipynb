{
 "cells": [
  {
   "cell_type": "code",
   "execution_count": 3,
   "metadata": {
    "colab": {
     "autoexec": {
      "startup": false,
      "wait_interval": 0
     },
     "base_uri": "https://localhost:8080/",
     "height": 173
    },
    "colab_type": "code",
    "executionInfo": {
     "elapsed": 9455,
     "status": "ok",
     "timestamp": 1528488104420,
     "user": {
      "displayName": "Sebastiaan Jong",
      "photoUrl": "https://lh3.googleusercontent.com/a/default-user=s128",
      "userId": "102830360650965349858"
     },
     "user_tz": -120
    },
    "id": "Kasvcm-CMRCO",
    "outputId": "2f3f5fb4-3ed8-4db3-8564-874774a13142"
   },
   "outputs": [],
   "source": [
    "import seaborn as sns\n",
    "from ggplot import *\n",
    "from matplotlib import pyplot as plt\n",
    "import bokeh\n",
    "\n",
    "import pandas as pd\n",
    "import dask.dataframe as dd\n",
    "import numpy as np\n",
    "import scipy as sc\n",
    "import statsmodels as sm\n",
    "import networkx as nx\n",
    "\n",
    "import sklearn as sk\n",
    "import tensorflow as tf\n",
    "import keras\n",
    "import xgboost as xgb\n",
    "import lightgbm as lgbm\n",
    "import tpot\n",
    "\n",
    "import sys\n",
    "import os\n",
    "import gc"
   ]
  },
  {
   "cell_type": "markdown",
   "metadata": {
    "colab_type": "text",
    "id": "BT8hN4IuSbDu"
   },
   "source": [
    "# Data sources\n",
    "\n",
    "## DNA, Mutation\n",
    "Literally, per genome and chromosome the change in the pair compared to a normal reference. Remember we have (Adenine,Thymine) and (Guanine,Cytosine) as the base pairs.\n",
    "\n",
    "\n",
    "\n",
    "\n",
    "The types of mutations include (taken from here):\n",
    "\n",
    "**Missense mutation**:. This type of mutation is a change in one DNA base pair that results in the substitution of one amino acid for another in the protein made by a gene.\n",
    "\n",
    "**Nonsense mutation**: is also a change in one DNA base pair. Instead of substituting one amino acid for another, however, the altered DNA sequence prematurely signals the cell to stop building a protein. This type of mutation results in a shortened protein that may function improperly or not at all.\n",
    "\n",
    "**Insertion**: An insertion changes the number of DNA bases in a gene by adding a piece of DNA. As a result, the protein made by the gene may not function properly.\n",
    "\n",
    "**Deletion**: A deletion changes the number of DNA bases by removing a piece of DNA. Small deletions may remove one or a few base pairs within a gene, while larger deletions can remove an entire gene or several neighboring genes. The deleted DNA may alter the function of the resulting protein(s).\n",
    "\n",
    "**Duplication**: A duplication consists of a piece of DNA that is abnormally copied one or more times. This type of mutation may alter the function of the resulting protein.\n",
    "\n",
    "**Frameshift mutation**: This type of mutation occurs when the addition or loss of DNA bases changes a gene's reading frame. A reading frame consists of groups of 3 bases that each code for one amino acid. A frameshift mutation shifts the grouping of these bases and changes the code for amino acids. The resulting protein is usually nonfunctional. Insertions, deletions, and duplications can all be frameshift mutations.\n",
    "\n",
    "**Repeat expansion**: Nucleotide repeats are short DNA sequences that are repeated a number of times in a row. For example, a trinucleotide repeat is made up of 3-base-pair sequences, and a tetranucleotide repeat is made up of 4-base-pair sequences. A repeat expansion is a mutation that increases the number of times that the short DNA sequence is repeated. This type of mutation can cause the resulting protein to function improperly.\n",
    "\n",
    "### DATA FIELDS, shape (422553, 11)\n",
    "```\n",
    "ID      |  Location        | Change     |  Gene   | Mutation type|  Var.Allele.Frequency  | Amino acid\n",
    "\n",
    "SampleID,| Chr, Start, Stop|  Ref, Alt  | Gene    |    Effect    |  DNA_VAF, RNA_VAF      | Amino_Acid_Change\n",
    "\n",
    "string   |string, int, int | char, char | string  |    string    |  float, float          |  string\n",
    "```\n",
    "\n",
    "**NOTE**: this gives us direct insight in how genetic mutations lead to changes in amino-acids.\n",
    "\n",
    "## Copy Number Variations\n",
    "A copy number variation (CNV) is when the number of copies of a particular gene varies from one individual to the next.\n",
    "\n",
    "### DATA FIELDS, shape (24802, 372)\n",
    "```\n",
    "Gene      | Chr, Start, Stop | Strand     |   SampleID 1..SampleID N\n",
    "\n",
    "string    |string, int, int  | int        |  int..int\n",
    "```\n",
    "\n",
    "## Methylation, gene expression regulation\n",
    "Degree of methylation indicates addition of Methyl groups to the DNA. Increased methylation is associated with less transcription of the DNA: Methylated means the gene is switched OFF, Unmethylated means the gene is switched ON.\n",
    "\n",
    "Alterations of DNA methylation have been recognized as an important component of cancer development.\n",
    "\n",
    "### DATA FIELDS, shape (485577, 483)\n",
    "```\n",
    "probeID   | Chr, Start, Stop | Strand  | Gene   |  Relation_CpG_island | SampleID 1..SampleID N\n",
    "\n",
    "string    |string, int, int  | int     | string |   string             | float..float\n",
    "```\n",
    "\n",
    "## RNA, gene expression\n",
    "Again four building blocks; Adenosine (A), Uracil (U), Guanine (G), Cytosine (C).\n",
    "\n",
    "(DNA) --> (RNA)\n",
    "\n",
    "A --> U\n",
    "\n",
    "T --> A\n",
    "\n",
    "C --> G\n",
    "\n",
    "G --> C\n",
    "\n",
    "Gene expression profiles, continuous values resulting from the normalisation of counts.\n",
    "\n",
    "### DATA FIELDS, shape (60531, 477)\n",
    "```\n",
    "Gene      | Chr, Start, Stop | Strand  | SampleID 1..SampleID N\n",
    "\n",
    "string    |string, int, int  | int     |  float..float\n",
    "```\n",
    "\n",
    "## miRNA, transcriptomics\n",
    "The connection between the RNA production and protein creation. I.e. perhaps miRNA expression values can be associated with specific proteins.\n",
    "\n",
    "### DATA FIELDS, shape (2220, 458)\n",
    "```\n",
    "MIMATID  | Name   | Chr, Start, Stop | Strand  | SampleID 1..SampleID N\n",
    "\n",
    "string   | string |string, int, int  | int     |  float..float\n",
    "```\n",
    "\n",
    "## Proteomes\n",
    "Proteine expression profiles, ditto, continuous values resulting from the normalisation of counts\n",
    "\n",
    "### DATA FIELDS, shape (282, 355)\n",
    "```\n",
    "ProteinID  | SampleID 1..SampleID N\n",
    "\n",
    "string     | float..float\n",
    "```\n",
    "\n",
    "**QUIZ**, identify our data sets in the following image!\n",
    "\n",
    "![Quiz](https://media.nature.com/m685/nature-assets/nrg/journal/v16/n2/images/nrg3868-f1.jpg)\n",
    "\n",
    "# GOAL\n",
    "**Some degree of multi-omic or trans-omic analysis and identification of pathways.**\n",
    "\n",
    "\n",
    "![Quiz](https://www.cell.com/cms/attachment/2119084140/2088971044/gr1_lrg.jpg)\n",
    "\n",
    "\n",
    "\n",
    "## Our reality\n",
    "![Quiz](https://media.springernature.com/m685/nature-assets/nrg/journal/v16/n2/images/nrg3868-f2.jpg)"
   ]
  },
  {
   "cell_type": "code",
   "execution_count": 19,
   "metadata": {
    "colab": {
     "autoexec": {
      "startup": false,
      "wait_interval": 0
     },
     "base_uri": "https://localhost:8080/",
     "height": 71
    },
    "colab_type": "code",
    "executionInfo": {
     "elapsed": 8823,
     "status": "ok",
     "timestamp": 1528490872789,
     "user": {
      "displayName": "Sebastiaan Jong",
      "photoUrl": "https://lh3.googleusercontent.com/a/default-user=s128",
      "userId": "102830360650965349858"
     },
     "user_tz": -120
    },
    "id": "RcsBCg15NqcX",
    "outputId": "617559b4-2f68-4fde-e0b4-8c1e084b78f6"
   },
   "outputs": [
    {
     "name": "stderr",
     "output_type": "stream",
     "text": [
      "/usr/local/lib/python3.6/dist-packages/IPython/core/interactiveshell.py:2785: DtypeWarning: Columns (4) have mixed types. Specify dtype option on import or set low_memory=False.\n",
      "  interactivity=interactivity, compiler=compiler, result=result)\n"
     ]
    }
   ],
   "source": [
    "# Melanoma_CopyNumberVariations = pd.read_table(\"https://storage.googleapis.com/genx_2018/Melanoma_CNV.txt\", sep=\"\\t\")\n",
    "# Melanoma_Mutation = pd.read_table(\"https://storage.googleapis.com/genx_2018/Melanoma_Mutation.txt\", sep=\"\\t\")\n",
    "# Melanoma_Methylation = pd.read_table(\"https://storage.googleapis.com/genx_2018/Melanoma_Methylation.txt\", sep=\"\\t\")\n",
    "\n",
    "mge_df = pd.read_table(\"https://storage.googleapis.com/genx_2018/Melanoma_GeneExpression.txt\", sep=\"\\t\")\n",
    "# Melanoma_miRNA = pd.read_table(\"https://storage.googleapis.com/genx_2018/Melanoma_miRNA.txt\", sep=\"\\t\")\n",
    "# Melanoma_Proteome = pd.read_table(\"https://storage.googleapis.com/genx_2018/Melanoma_Proteome.txt\", sep=\"\\t\")\n",
    "\n"
   ]
  },
  {
   "cell_type": "code",
   "execution_count": 9,
   "metadata": {},
   "outputs": [],
   "source": [
    "mmeta_df = pd.read_table(\"https://storage.googleapis.com/genx_2018/Melanoma_Phenotype_Metadata.txt\", sep=\"\\t\")\n",
    "mmeta_df = mmeta_df.set_index(\"SampleID\")"
   ]
  },
  {
   "cell_type": "code",
   "execution_count": 21,
   "metadata": {
    "colab": {
     "autoexec": {
      "startup": false,
      "wait_interval": 0
     }
    },
    "colab_type": "code",
    "id": "hK81ItbmAhTi"
   },
   "outputs": [],
   "source": [
    "gene_id_c = [\"Gene\", \"Chr\", \"Start\", \"Stop\", \"Strand\"]\n",
    "g_id = mge_df[[\"Gene\", \"Chr\", \"Start\", \"Stop\", \"Strand\"]]\\\n",
    "                    .apply(lambda x: \"_\".join(map(str,x.values)), axis=1)\n",
    "\n",
    "mge_df = mge_df.set_index(g_id)\n",
    "mge_df = mge_df.drop(gene_id_c, axis=1)\n",
    "mge_df_T = mge_df.transpose()\n"
   ]
  },
  {
   "cell_type": "code",
   "execution_count": 64,
   "metadata": {
    "colab": {
     "autoexec": {
      "startup": false,
      "wait_interval": 0
     }
    },
    "colab_type": "code",
    "id": "pOkdvnmJspON"
   },
   "outputs": [
    {
     "name": "stderr",
     "output_type": "stream",
     "text": [
      "/usr/local/lib/python3.6/dist-packages/pandas/core/computation/expressions.py:179: UserWarning: evaluating in Python space because the '*' operator is not supported by numexpr for the bool dtype, use '&' instead\n",
      "  .format(op=op_str, alt_op=unsupported[op_str]))\n"
     ]
    }
   ],
   "source": [
    "mge_df_T.index.name = \"SampleID\"\n",
    "classification_target = \"Response To Therapy\"\n",
    "\n",
    "target_conditions=True\n",
    "k=[df[classification_target].notnull(),\n",
    "   df['Drug Therapy Type']=='Immunotherapy']\n",
    "for i in k:\n",
    "    target_conditions *=i\n",
    "    \n",
    "df = mge_df_T.join(mmeta_df, how=\"left\")\n",
    "df = df[target_conditions]\n",
    "expression_df = df.iloc[:,0:60531]\n",
    "target_map = {\n",
    "  \"Complete Response\":0,\n",
    "  \"Clinical Progressive Disease\":1,        \n",
    "  \"Radiographic Progressive Disease\":1,    \n",
    "  \"Stable Disease\":1,                      \n",
    "  \"Partial Response\":0                     \n",
    "}\n",
    "target = df.loc[target_conditions][classification_target].map(target_map)\n",
    "#target = df.loc[df['Drug Therapy Type']=='Chemotherapy'][classification_target].map(target_map)\n",
    "#target = df.loc[df['Drug Therapy Type']=='Vaccine'][classification_target].map(target_map)\n"
   ]
  },
  {
   "cell_type": "code",
   "execution_count": 0,
   "metadata": {
    "colab": {
     "autoexec": {
      "startup": false,
      "wait_interval": 0
     }
    },
    "colab_type": "code",
    "id": "0lPrcVKZ6C3x"
   },
   "outputs": [],
   "source": [
    "mge_df.index.name = \"SampleID\"\n",
    "classification_target = \"Sample Type\"\n",
    "df = mge_df_T.join(mmeta_df, how=\"left\")\n",
    "df = df[df[classification_target].notnull()]\n",
    "target_map = {\n",
    "  \"Metastatic\":0,\n",
    "  \"Primary Tumor\":1,        \n",
    "  \"Solid Tissue Normal\":2,    \n",
    "  \"Additional Metastatic\":3,                      \n",
    "}\n",
    "df = df[df[classification_target].isin([\"Metastatic\", \"Primary Tumor\"])] \n",
    "target = df[classification_target].map(target_map)\n",
    "\n",
    "expression_df = df.iloc[:,0:60531]\n"
   ]
  },
  {
   "cell_type": "markdown",
   "metadata": {},
   "source": [
    "## Classification "
   ]
  },
  {
   "cell_type": "code",
   "execution_count": 69,
   "metadata": {
    "colab": {
     "autoexec": {
      "startup": false,
      "wait_interval": 0
     },
     "base_uri": "https://localhost:8080/",
     "height": 938
    },
    "colab_type": "code",
    "executionInfo": {
     "elapsed": 885584,
     "status": "ok",
     "timestamp": 1528490842330,
     "user": {
      "displayName": "Sebastiaan Jong",
      "photoUrl": "https://lh3.googleusercontent.com/a/default-user=s128",
      "userId": "102830360650965349858"
     },
     "user_tz": -120
    },
    "id": "9ImPUomwxmTV",
    "outputId": "6baf5902-8715-40af-c83f-2e78eda83452"
   },
   "outputs": [
    {
     "name": "stderr",
     "output_type": "stream",
     "text": [
      "/usr/local/lib/python3.6/dist-packages/sklearn/preprocessing/label.py:151: DeprecationWarning: The truth value of an empty array is ambiguous. Returning False, but in future this will result in an error. Use `array.size > 0` to check that an array is not empty.\n",
      "  if diff:\n"
     ]
    },
    {
     "name": "stdout",
     "output_type": "stream",
     "text": [
      "0.42105263157894735\n",
      "[[3 6]\n",
      " [5 5]]\n",
      "0.3333333333333333\n",
      "[[3 6]\n",
      " [6 3]]\n",
      "0.3783783783783784\n",
      "[[ 6 12]\n",
      " [11  8]]\n"
     ]
    },
    {
     "name": "stderr",
     "output_type": "stream",
     "text": [
      "/usr/local/lib/python3.6/dist-packages/sklearn/preprocessing/label.py:151: DeprecationWarning: The truth value of an empty array is ambiguous. Returning False, but in future this will result in an error. Use `array.size > 0` to check that an array is not empty.\n",
      "  if diff:\n"
     ]
    }
   ],
   "source": [
    "import xgboost as xgb\n",
    "from sklearn import metrics, model_selection\n",
    "\n",
    "x = expression_df.values\n",
    "y = target.values\n",
    "\n",
    "splits = model_selection.StratifiedKFold(n_splits=2)\n",
    "\n",
    "model = xgb.XGBClassifier(scale_pos_weight=2.5)\n",
    "\n",
    "def benchmark_classifier(clf,x,y,splitter):\n",
    "    splitter.random_state = 111\n",
    "    pred = np.zeros(shape=y.shape)\n",
    "\n",
    "    for train_index, test_index in splitter.split(x, y):\n",
    "        x_train, x_test = x[train_index], x[test_index]\n",
    "        y_train, y_test = y[train_index], y[test_index] \n",
    "\n",
    "        clf.fit(x_train,y_train)\n",
    "        pred[test_index] = clf.predict(x_test)\n",
    "        \n",
    "        print(metrics.accuracy_score(y_test,pred[test_index]))\n",
    "        print(metrics.confusion_matrix(y_test,pred[test_index]))\n",
    "\n",
    "    return pred\n",
    "\n",
    "predictions = benchmark_classifier(model,x,y,splits)\n",
    "\n",
    "print(metrics.accuracy_score(y,predictions))\n",
    "print(metrics.confusion_matrix(y,predictions))"
   ]
  }
 ],
 "metadata": {
  "accelerator": "GPU",
  "colab": {
   "collapsed_sections": [],
   "default_view": {},
   "name": "Copy of _hackathon2018_sebastiaan.ipynb",
   "provenance": [],
   "toc_visible": true,
   "version": "0.3.2",
   "views": {}
  },
  "kernelspec": {
   "display_name": "Python 3",
   "language": "python",
   "name": "python3"
  },
  "language_info": {
   "codemirror_mode": {
    "name": "ipython",
    "version": 3
   },
   "file_extension": ".py",
   "mimetype": "text/x-python",
   "name": "python",
   "nbconvert_exporter": "python",
   "pygments_lexer": "ipython3",
   "version": "3.6.5"
  }
 },
 "nbformat": 4,
 "nbformat_minor": 1
}
