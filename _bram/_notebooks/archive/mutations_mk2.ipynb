{
 "cells": [
  {
   "cell_type": "markdown",
   "metadata": {
    "colab_type": "text",
    "id": "hwDWfpzAeT2p"
   },
   "source": [
    "# Mutations"
   ]
  },
  {
   "cell_type": "code",
   "execution_count": null,
   "metadata": {
    "colab": {
     "autoexec": {
      "startup": false,
      "wait_interval": 0
     },
     "base_uri": "https://localhost:8080/",
     "height": 323
    },
    "colab_type": "code",
    "executionInfo": {
     "elapsed": 4724,
     "status": "ok",
     "timestamp": 1528585149778,
     "user": {
      "displayName": "Eugene May",
      "photoUrl": "//lh3.googleusercontent.com/-lPxhZ_E__U4/AAAAAAAAAAI/AAAAAAAABoY/ctIpV1Fh8j0/s50-c-k-no/photo.jpg",
      "userId": "110488894857334150561"
     },
     "user_tz": -120
    },
    "id": "Nz3O9wpubuhj",
    "outputId": "0ca71aa6-3ed5-4821-9719-648ac3f51020"
   },
   "outputs": [],
   "source": [
    "import sys\n",
    "# !{sys.executable} -m pip install ggplot\n",
    "# !{sys.executable} -m pip install lightgbm"
   ]
  },
  {
   "cell_type": "code",
   "execution_count": 2,
   "metadata": {
    "colab": {
     "autoexec": {
      "startup": false,
      "wait_interval": 0
     }
    },
    "colab_type": "code",
    "id": "zFLNWnvvbf-I"
   },
   "outputs": [],
   "source": [
    "import pandas as pd\n",
    "import numpy as np\n",
    "\n",
    "pd.options.display.max_rows = 20\n",
    "pd.options.display.max_columns = 100\n",
    "pd.options.display.float_format = '{:.1f}'.format\n",
    "\n",
    "from sklearn import preprocessing\n",
    "\n",
    "from sklearn.preprocessing import LabelEncoder\n",
    "\n",
    "from sklearn.preprocessing import StandardScaler\n",
    "from sklearn.preprocessing import OneHotEncoder\n",
    "from sklearn.decomposition import PCA\n",
    "from sklearn.decomposition import TruncatedSVD\n",
    "from sklearn.discriminant_analysis import LinearDiscriminantAnalysis as LDA\n",
    "\n",
    "from sklearn.model_selection import cross_val_predict\n",
    "from sklearn.model_selection import cross_val_score\n",
    "\n",
    "from lightgbm import LGBMClassifier\n",
    "from lightgbm import plot_importance\n",
    "\n",
    "import matplotlib.pyplot as plt\n",
    "import seaborn as sns\n",
    "\n",
    "import gc"
   ]
  },
  {
   "cell_type": "code",
   "execution_count": 3,
   "metadata": {
    "colab": {
     "autoexec": {
      "startup": false,
      "wait_interval": 0
     }
    },
    "colab_type": "code",
    "id": "iunaoNzhb9uq"
   },
   "outputs": [],
   "source": [
    "def read_table(name):\n",
    "    file_root = \"https://storage.googleapis.com/genx_2018/\"\n",
    "    return pd.read_table(file_root + name, sep=\"\\t\")\n",
    "\n",
    "def cat_encode(src, target, col):\n",
    "    cols = pd.get_dummies(src[col], prefix=col, prefix_sep='_')\n",
    "    return pd.concat([target, cols], axis=1)\n",
    "\n",
    "def drop_nan_rows(table, col):\n",
    "    res = table.dropna(axis=0, how='any', subset=[col])\n",
    "    print('Dropping %d nan rows for %s, sz before: %d, sz after: %d' % (len(table)-len(res), col, len(table), len(res)))\n",
    "    return res\n",
    "\n",
    "def filter(table, col, value):\n",
    "    res = table.loc[table[col] != value]\n",
    "    print('Filtering %d rows with \"%s\" for %s, sz before: %d, sz after: %d' % (len(table) - len(res), value, col, len(table), len(res)))\n",
    "    return res\n",
    "\n",
    "phenotype_meta_table = read_table(\"Melanoma_Phenotype_Metadata.txt\")\n",
    "mutation_table = read_table(\"Melanoma_Mutation.txt\")"
   ]
  },
  {
   "cell_type": "markdown",
   "metadata": {
    "colab_type": "text",
    "id": "KUAFpLsYb_QX"
   },
   "source": [
    "### Prepare target"
   ]
  },
  {
   "cell_type": "code",
   "execution_count": 4,
   "metadata": {
    "colab": {
     "autoexec": {
      "startup": false,
      "wait_interval": 0
     },
     "base_uri": "https://localhost:8080/",
     "height": 129
    },
    "colab_type": "code",
    "executionInfo": {
     "elapsed": 461,
     "status": "ok",
     "timestamp": 1528585153642,
     "user": {
      "displayName": "Eugene May",
      "photoUrl": "//lh3.googleusercontent.com/-lPxhZ_E__U4/AAAAAAAAAAI/AAAAAAAABoY/ctIpV1Fh8j0/s50-c-k-no/photo.jpg",
      "userId": "110488894857334150561"
     },
     "user_tz": -120
    },
    "id": "h5xxO_5DcDSa",
    "outputId": "34151491-c840-4d09-f42f-2a714736d203"
   },
   "outputs": [
    {
     "name": "stdout",
     "output_type": "stream",
     "text": [
      "Dropping 375 nan rows for Response To Therapy, sz before: 476, sz after: 101\n"
     ]
    },
    {
     "data": {
      "text/html": [
       "<div>\n",
       "<style scoped>\n",
       "    .dataframe tbody tr th:only-of-type {\n",
       "        vertical-align: middle;\n",
       "    }\n",
       "\n",
       "    .dataframe tbody tr th {\n",
       "        vertical-align: top;\n",
       "    }\n",
       "\n",
       "    .dataframe thead th {\n",
       "        text-align: right;\n",
       "    }\n",
       "</style>\n",
       "<table border=\"1\" class=\"dataframe\">\n",
       "  <thead>\n",
       "    <tr style=\"text-align: right;\">\n",
       "      <th></th>\n",
       "      <th>Response To Therapy</th>\n",
       "      <th>Sample</th>\n",
       "    </tr>\n",
       "  </thead>\n",
       "  <tbody>\n",
       "    <tr>\n",
       "      <th>0</th>\n",
       "      <td>0</td>\n",
       "      <td>51</td>\n",
       "    </tr>\n",
       "    <tr>\n",
       "      <th>1</th>\n",
       "      <td>1</td>\n",
       "      <td>50</td>\n",
       "    </tr>\n",
       "  </tbody>\n",
       "</table>\n",
       "</div>"
      ],
      "text/plain": [
       "   Response To Therapy  Sample\n",
       "0                    0      51\n",
       "1                    1      50"
      ]
     },
     "execution_count": 4,
     "metadata": {},
     "output_type": "execute_result"
    }
   ],
   "source": [
    "target_variable = 'Response To Therapy'\n",
    "target_map = {\n",
    " \"Complete Response\": 0,\n",
    " \"Clinical Progressive Disease\": 1,\n",
    " \"Radiographic Progressive Disease\": 1,    \n",
    " \"Stable Disease\": 1,                      \n",
    " \"Partial Response\": 0   \n",
    "}\n",
    "\n",
    "pmt = pd.DataFrame()\n",
    "\n",
    "pmt['Sample'] = phenotype_meta_table['SampleID']\n",
    "pmt['Response To Therapy'] = phenotype_meta_table['Response To Therapy']\n",
    "pmt = drop_nan_rows(pmt, 'Response To Therapy')\n",
    "pmt['Response To Therapy'] = pmt['Response To Therapy'].apply(lambda x: target_map[x])\n",
    "\n",
    "pmt[['Sample', target_variable]].groupby(by=target_variable, as_index=False).count()"
   ]
  },
  {
   "cell_type": "code",
   "execution_count": 5,
   "metadata": {
    "colab": {
     "autoexec": {
      "startup": false,
      "wait_interval": 0
     },
     "base_uri": "https://localhost:8080/",
     "height": 142
    },
    "colab_type": "code",
    "executionInfo": {
     "elapsed": 444,
     "status": "ok",
     "timestamp": 1528585154185,
     "user": {
      "displayName": "Eugene May",
      "photoUrl": "//lh3.googleusercontent.com/-lPxhZ_E__U4/AAAAAAAAAAI/AAAAAAAABoY/ctIpV1Fh8j0/s50-c-k-no/photo.jpg",
      "userId": "110488894857334150561"
     },
     "user_tz": -120
    },
    "id": "xtLiG5BVgqfv",
    "outputId": "4319895b-fb26-4ae9-fea9-2a6ff6a3f0e0"
   },
   "outputs": [
    {
     "data": {
      "text/html": [
       "<div>\n",
       "<style scoped>\n",
       "    .dataframe tbody tr th:only-of-type {\n",
       "        vertical-align: middle;\n",
       "    }\n",
       "\n",
       "    .dataframe tbody tr th {\n",
       "        vertical-align: top;\n",
       "    }\n",
       "\n",
       "    .dataframe thead th {\n",
       "        text-align: right;\n",
       "    }\n",
       "</style>\n",
       "<table border=\"1\" class=\"dataframe\">\n",
       "  <thead>\n",
       "    <tr style=\"text-align: right;\">\n",
       "      <th></th>\n",
       "      <th>Sample</th>\n",
       "      <th>Response To Therapy</th>\n",
       "    </tr>\n",
       "  </thead>\n",
       "  <tbody>\n",
       "    <tr>\n",
       "      <th>27</th>\n",
       "      <td>TCGA-D3-A1Q1-06</td>\n",
       "      <td>1</td>\n",
       "    </tr>\n",
       "    <tr>\n",
       "      <th>28</th>\n",
       "      <td>TCGA-D3-A1Q3-06</td>\n",
       "      <td>0</td>\n",
       "    </tr>\n",
       "    <tr>\n",
       "      <th>35</th>\n",
       "      <td>TCGA-D3-A1Q9-06</td>\n",
       "      <td>1</td>\n",
       "    </tr>\n",
       "  </tbody>\n",
       "</table>\n",
       "</div>"
      ],
      "text/plain": [
       "             Sample  Response To Therapy\n",
       "27  TCGA-D3-A1Q1-06                    1\n",
       "28  TCGA-D3-A1Q3-06                    0\n",
       "35  TCGA-D3-A1Q9-06                    1"
      ]
     },
     "execution_count": 5,
     "metadata": {},
     "output_type": "execute_result"
    }
   ],
   "source": [
    "pmt.head(3)"
   ]
  },
  {
   "cell_type": "markdown",
   "metadata": {
    "colab_type": "text",
    "id": "-HEa8EVQeQLB"
   },
   "source": [
    "### Features"
   ]
  },
  {
   "cell_type": "code",
   "execution_count": 6,
   "metadata": {
    "colab": {
     "autoexec": {
      "startup": false,
      "wait_interval": 0
     },
     "base_uri": "https://localhost:8080/",
     "height": 89
    },
    "colab_type": "code",
    "executionInfo": {
     "elapsed": 447,
     "status": "ok",
     "timestamp": 1528585154734,
     "user": {
      "displayName": "Eugene May",
      "photoUrl": "//lh3.googleusercontent.com/-lPxhZ_E__U4/AAAAAAAAAAI/AAAAAAAABoY/ctIpV1Fh8j0/s50-c-k-no/photo.jpg",
      "userId": "110488894857334150561"
     },
     "user_tz": -120
    },
    "id": "FA493r5le9Qv",
    "outputId": "80694aca-7c89-4c67-8d30-6c8b01720de2"
   },
   "outputs": [
    {
     "data": {
      "text/plain": [
       "array(['Missense_Mutation', 'Silent', 'RNA', 'Translation_Start_Site',\n",
       "       'Splice_Site', 'Nonsense_Mutation', 'Nonstop_Mutation',\n",
       "       'Frame_Shift_Del', 'In_Frame_Ins', 'Frame_Shift_Ins', 'In_Frame_Del'], dtype=object)"
      ]
     },
     "execution_count": 6,
     "metadata": {},
     "output_type": "execute_result"
    }
   ],
   "source": [
    "mutation_table.Effect.unique()"
   ]
  },
  {
   "cell_type": "code",
   "execution_count": 7,
   "metadata": {
    "colab": {
     "autoexec": {
      "startup": false,
      "wait_interval": 0
     },
     "base_uri": "https://localhost:8080/",
     "height": 53
    },
    "colab_type": "code",
    "executionInfo": {
     "elapsed": 433,
     "status": "ok",
     "timestamp": 1528585155255,
     "user": {
      "displayName": "Eugene May",
      "photoUrl": "//lh3.googleusercontent.com/-lPxhZ_E__U4/AAAAAAAAAAI/AAAAAAAABoY/ctIpV1Fh8j0/s50-c-k-no/photo.jpg",
      "userId": "110488894857334150561"
     },
     "user_tz": -120
    },
    "id": "NapSGn1VeSG_",
    "outputId": "8f50565f-0deb-4427-f1ec-d8a08f665468"
   },
   "outputs": [
    {
     "name": "stdout",
     "output_type": "stream",
     "text": [
      "Filtering 136359 rows with \"Silent\" for Effect, sz before: 422553, sz after: 286194\n",
      "Filtering 15642 rows with \"RNA\" for Effect, sz before: 286194, sz after: 270552\n"
     ]
    }
   ],
   "source": [
    "# Filter Silent/RNA\n",
    "mutation_table = filter(mutation_table, 'Effect', 'Silent')\n",
    "mutation_table = filter(mutation_table, 'Effect', 'RNA')\n",
    "mutation_table['Amino_Acid_Change'] = mutation_table['Amino_Acid_Change'].astype(str)"
   ]
  },
  {
   "cell_type": "code",
   "execution_count": 8,
   "metadata": {
    "colab": {
     "autoexec": {
      "startup": false,
      "wait_interval": 0
     },
     "base_uri": "https://localhost:8080/",
     "height": 142
    },
    "colab_type": "code",
    "executionInfo": {
     "elapsed": 409,
     "status": "ok",
     "timestamp": 1528585155793,
     "user": {
      "displayName": "Eugene May",
      "photoUrl": "//lh3.googleusercontent.com/-lPxhZ_E__U4/AAAAAAAAAAI/AAAAAAAABoY/ctIpV1Fh8j0/s50-c-k-no/photo.jpg",
      "userId": "110488894857334150561"
     },
     "user_tz": -120
    },
    "id": "Ar4oNud_gj44",
    "outputId": "f0892744-969e-4b82-e7ca-105c9dc1176c"
   },
   "outputs": [
    {
     "data": {
      "text/html": [
       "<div>\n",
       "<style scoped>\n",
       "    .dataframe tbody tr th:only-of-type {\n",
       "        vertical-align: middle;\n",
       "    }\n",
       "\n",
       "    .dataframe tbody tr th {\n",
       "        vertical-align: top;\n",
       "    }\n",
       "\n",
       "    .dataframe thead th {\n",
       "        text-align: right;\n",
       "    }\n",
       "</style>\n",
       "<table border=\"1\" class=\"dataframe\">\n",
       "  <thead>\n",
       "    <tr style=\"text-align: right;\">\n",
       "      <th></th>\n",
       "      <th>Sample</th>\n",
       "      <th>Chr</th>\n",
       "      <th>Start</th>\n",
       "      <th>Stop</th>\n",
       "      <th>Ref</th>\n",
       "      <th>Alt</th>\n",
       "      <th>Gene</th>\n",
       "      <th>Effect</th>\n",
       "      <th>DNA_VAF</th>\n",
       "      <th>RNA_VAF</th>\n",
       "      <th>Amino_Acid_Change</th>\n",
       "      <th>Response To Therapy</th>\n",
       "    </tr>\n",
       "  </thead>\n",
       "  <tbody>\n",
       "    <tr>\n",
       "      <th>0</th>\n",
       "      <td>TCGA-D3-A3ML-06</td>\n",
       "      <td>chr5</td>\n",
       "      <td>140182973</td>\n",
       "      <td>140182973</td>\n",
       "      <td>G</td>\n",
       "      <td>A</td>\n",
       "      <td>PCDHA3</td>\n",
       "      <td>Missense_Mutation</td>\n",
       "      <td>0.5</td>\n",
       "      <td>nan</td>\n",
       "      <td>p.D731N</td>\n",
       "      <td>1</td>\n",
       "    </tr>\n",
       "    <tr>\n",
       "      <th>1</th>\n",
       "      <td>TCGA-D3-A3ML-06</td>\n",
       "      <td>chr2</td>\n",
       "      <td>133541884</td>\n",
       "      <td>133541884</td>\n",
       "      <td>C</td>\n",
       "      <td>T</td>\n",
       "      <td>NCKAP5</td>\n",
       "      <td>Missense_Mutation</td>\n",
       "      <td>0.5</td>\n",
       "      <td>nan</td>\n",
       "      <td>p.E834K</td>\n",
       "      <td>1</td>\n",
       "    </tr>\n",
       "    <tr>\n",
       "      <th>2</th>\n",
       "      <td>TCGA-D3-A3ML-06</td>\n",
       "      <td>chr19</td>\n",
       "      <td>51217544</td>\n",
       "      <td>51217544</td>\n",
       "      <td>C</td>\n",
       "      <td>T</td>\n",
       "      <td>SHANK1</td>\n",
       "      <td>Missense_Mutation</td>\n",
       "      <td>0.2</td>\n",
       "      <td>nan</td>\n",
       "      <td>p.G179R</td>\n",
       "      <td>1</td>\n",
       "    </tr>\n",
       "  </tbody>\n",
       "</table>\n",
       "</div>"
      ],
      "text/plain": [
       "            Sample    Chr      Start       Stop Ref Alt    Gene  \\\n",
       "0  TCGA-D3-A3ML-06   chr5  140182973  140182973   G   A  PCDHA3   \n",
       "1  TCGA-D3-A3ML-06   chr2  133541884  133541884   C   T  NCKAP5   \n",
       "2  TCGA-D3-A3ML-06  chr19   51217544   51217544   C   T  SHANK1   \n",
       "\n",
       "              Effect  DNA_VAF  RNA_VAF Amino_Acid_Change  Response To Therapy  \n",
       "0  Missense_Mutation      0.5      nan           p.D731N                    1  \n",
       "1  Missense_Mutation      0.5      nan           p.E834K                    1  \n",
       "2  Missense_Mutation      0.2      nan           p.G179R                    1  "
      ]
     },
     "execution_count": 8,
     "metadata": {},
     "output_type": "execute_result"
    }
   ],
   "source": [
    "# Join tables\n",
    "mutation_table = mutation_table.merge(pmt, how='inner', on='Sample')\n",
    "mutation_table.head(3)"
   ]
  },
  {
   "cell_type": "code",
   "execution_count": 85,
   "metadata": {
    "colab": {
     "autoexec": {
      "startup": false,
      "wait_interval": 0
     }
    },
    "colab_type": "code",
    "id": "tioLrjohip32"
   },
   "outputs": [],
   "source": [
    "def make_xy(table, groups, count_filter = 0):\n",
    "    mg = table \\\n",
    "            .groupby(groups) \\\n",
    "            .size() \\\n",
    "            .reset_index(name='Count') \\\n",
    "            .sort_values(['Count'], ascending=False)\n",
    "    print('Most mutaed genes within {}:\\n'.format(groups))\n",
    "    print(mg.head(10))\n",
    "        \n",
    "    # Join groups: Gene_AADACL3|chr1|Translation_Start_Site\n",
    "    tmp = pd.DataFrame()\n",
    "    tmp['Sample'] = table['Sample']\n",
    "    tmp['Gene'] = table[groups].apply(lambda x: '|'.join(x).strip(), axis=1)\n",
    "    \n",
    "    if count_filter > 0:\n",
    "        mg['Gene'] = mg[groups].apply(lambda x: '|'.join(x).strip(), axis=1)\n",
    "        mg = mg.loc[mg.Count > count_filter]\n",
    "        unique_genes = mg['Gene']\n",
    "        print('\\nUsing count_filter > %d' % count_filter)\n",
    "        print('Before: %d' % len(tmp))\n",
    "        tmp = tmp.loc[tmp.Gene.isin(unique_genes)]\n",
    "        print('After: %d' % len(tmp))\n",
    "        \n",
    "    print('\\nUnique features: %d' % len(tmp['Gene'].unique()))\n",
    "    \n",
    "    # Extract features\n",
    "    tmp = cat_encode(tmp, tmp, 'Gene')\n",
    "    tmp = tmp.loc[:, tmp.columns != 'Gene']\n",
    "    \n",
    "    # Group by Sample\n",
    "    tmp = tmp.groupby('Sample', as_index=False).sum()\n",
    " \n",
    "    # Join targets\n",
    "    tmp = tmp.merge(pmt, how='inner', on='Sample')\n",
    "    \n",
    "    y = tmp[target_variable]\n",
    "    print('Target: ', y.shape)\n",
    "    \n",
    "    # tmp = tmp.set_index('Sample')\n",
    "    tmp = tmp.loc[:, tmp.columns != 'Sample']\n",
    "    tmp = tmp.loc[:, tmp.columns != target_variable]\n",
    "    x = tmp\n",
    "    print('Features: ', x.shape)\n",
    "    \n",
    "    return (x, y)"
   ]
  },
  {
   "cell_type": "code",
   "execution_count": 9,
   "metadata": {
    "colab": {
     "autoexec": {
      "startup": false,
      "wait_interval": 0
     },
     "base_uri": "https://localhost:8080/",
     "height": 53
    },
    "colab_type": "code",
    "executionInfo": {
     "elapsed": 612,
     "status": "ok",
     "timestamp": 1528585156508,
     "user": {
      "displayName": "Eugene May",
      "photoUrl": "//lh3.googleusercontent.com/-lPxhZ_E__U4/AAAAAAAAAAI/AAAAAAAABoY/ctIpV1Fh8j0/s50-c-k-no/photo.jpg",
      "userId": "110488894857334150561"
     },
     "user_tz": -120
    },
    "id": "_wUjdE8Tffh0",
    "outputId": "829edd49-3964-477b-b0ba-429d43eaa6df"
   },
   "outputs": [
    {
     "name": "stdout",
     "output_type": "stream",
     "text": [
      "(5494, 12)\n",
      "(77466, 12)\n"
     ]
    }
   ],
   "source": [
    "important_effects = [\n",
    "    'Translation_Start_Site',\n",
    "    'Frame_Shift_Ins',\n",
    "    'Frame_Shift_Del',\n",
    "    'Nonsense_Mutation',\n",
    "    'Nonstop_Mutation']\n",
    "\n",
    "# Important:\n",
    "mutation_table_imp = mutation_table.loc[mutation_table.Effect.isin(important_effects)]\n",
    "print(mutation_table_imp.shape)\n",
    "\n",
    "# Less Important:\n",
    "# In_Frame_Ins\n",
    "# In_Frame_Del\n",
    "# Missense_Mutation\n",
    "# Splice_Site\n",
    "mutation_table_less_imp = mutation_table.loc[~mutation_table.Effect.isin(important_effects)]\n",
    "print(mutation_table_less_imp.shape)"
   ]
  },
  {
   "cell_type": "code",
   "execution_count": 56,
   "metadata": {
    "colab": {
     "autoexec": {
      "startup": false,
      "wait_interval": 0
     },
     "base_uri": "https://localhost:8080/",
     "height": 323
    },
    "colab_type": "code",
    "executionInfo": {
     "elapsed": 1399,
     "status": "ok",
     "timestamp": 1528585160209,
     "user": {
      "displayName": "Eugene May",
      "photoUrl": "//lh3.googleusercontent.com/-lPxhZ_E__U4/AAAAAAAAAAI/AAAAAAAABoY/ctIpV1Fh8j0/s50-c-k-no/photo.jpg",
      "userId": "110488894857334150561"
     },
     "user_tz": -120
    },
    "id": "M6xqLF_KrMlE",
    "outputId": "ab27643f-d7ce-49ff-f4e6-96fa8c82fedd"
   },
   "outputs": [
    {
     "name": "stdout",
     "output_type": "stream",
     "text": [
      "Most mutaed genes within ['Gene', 'Chr', 'Effect', 'Amino_Acid_Change']:\n",
      "\n",
      "         Gene    Chr                  Effect Amino_Acid_Change  Count\n",
      "2254    MCTP2  chr15  Translation_Start_Site               nan      4\n",
      "1748   HS3ST4  chr16       Nonsense_Mutation           p.Q448*      4\n",
      "2538     NID1   chr1       Nonsense_Mutation           p.W261*      4\n",
      "3722    STON2  chr14       Nonsense_Mutation           p.W639*      4\n",
      "3005      PPL  chr16       Nonsense_Mutation           p.W302*      4\n",
      "3492  SLC11A1   chr2       Nonsense_Mutation            p.W98*      4\n",
      "381      BCHE   chr3       Nonsense_Mutation           p.W550*      4\n",
      "791   CNTNAP2   chr7       Nonsense_Mutation          p.R1088*      3\n",
      "364   B3GALT1   chr2       Nonsense_Mutation           p.R273*      3\n",
      "1246    ENPP5   chr6       Nonsense_Mutation           p.Q314*      3\n",
      "\n",
      "Unique features: 4517\n",
      "Target:  (98,)\n",
      "Features:  (98, 4517)\n"
     ]
    }
   ],
   "source": [
    "# Important\n",
    "x, y = make_xy(mutation_table_imp, ['Gene', 'Chr', 'Effect', 'Amino_Acid_Change'])"
   ]
  },
  {
   "cell_type": "code",
   "execution_count": null,
   "metadata": {
    "colab": {
     "autoexec": {
      "startup": false,
      "wait_interval": 0
     },
     "base_uri": "https://localhost:8080/",
     "height": 287
    },
    "colab_type": "code",
    "id": "xeecLwusxK3F",
    "outputId": "efa471c3-c303-4b34-f254-dcd55845f995"
   },
   "outputs": [],
   "source": [
    "# Less Important\n",
    "x, y = make_xy(mutation_table_less_imp, ['Gene', 'Chr', 'Effect', 'Amino_Acid_Change'])"
   ]
  },
  {
   "cell_type": "code",
   "execution_count": 86,
   "metadata": {},
   "outputs": [
    {
     "name": "stdout",
     "output_type": "stream",
     "text": [
      "Most mutaed genes within ['Gene', 'Chr', 'Effect', 'Amino_Acid_Change', 'Ref', 'Alt']:\n",
      "\n",
      "         Gene    Chr             Effect Amino_Acid_Change Ref Alt  Count\n",
      "5776     BRAF   chr7  Missense_Mutation           p.V600E   A   T     40\n",
      "37812    NRAS   chr1  Missense_Mutation            p.Q61R   T   C     15\n",
      "37810    NRAS   chr1  Missense_Mutation            p.Q61K   G   T     12\n",
      "5778     BRAF   chr7  Missense_Mutation           p.V600M   C   T     11\n",
      "56930  THSD7B   chr2  Missense_Mutation          p.R1445Q   G   A      6\n",
      "53369   SORL1  chr11        Splice_Site               nan   G   A      5\n",
      "43760   PLCB4  chr20  Missense_Mutation           p.S670L   C   T      5\n",
      "22455  GIMAP8   chr7  Missense_Mutation           p.E654K   G   A      5\n",
      "48632   RQCD1   chr2  Missense_Mutation           p.P131L   C   T      5\n",
      "3165     ANO4  chr12  Missense_Mutation           p.R803Q   G   A      5\n",
      "\n",
      "Using count_filter > 2\n",
      "Before: 82960\n",
      "After: 2120\n",
      "\n",
      "Unique features: 653\n",
      "Target:  (93,)\n",
      "Features:  (93, 653)\n"
     ]
    }
   ],
   "source": [
    "# All features\n",
    "x, y = make_xy(mutation_table, ['Gene', 'Chr', 'Effect', 'Amino_Acid_Change', 'Ref', 'Alt'], count_filter=2)"
   ]
  },
  {
   "cell_type": "markdown",
   "metadata": {},
   "source": [
    "#### PCA"
   ]
  },
  {
   "cell_type": "code",
   "execution_count": null,
   "metadata": {},
   "outputs": [],
   "source": [
    "pca = PCA(n_components=50)\n",
    "pca.fit(x)\n",
    "\n",
    "variance_pca = np.cumsum(np.round(pca.explained_variance_ratio_, decimals=3)*100)\n",
    "\n",
    "plt.ylabel('Variance')\n",
    "plt.xlabel('Features')\n",
    "plt.title('PCA Analysis')\n",
    "\n",
    "plt.plot(variance_pca)"
   ]
  },
  {
   "cell_type": "markdown",
   "metadata": {},
   "source": [
    "#### LDA"
   ]
  },
  {
   "cell_type": "code",
   "execution_count": null,
   "metadata": {},
   "outputs": [],
   "source": [
    "lda = LDA(n_components=50)\n",
    "lda.fit(x, y)\n",
    "\n",
    "variance_lda = np.cumsum(np.round(lda.explained_variance_ratio_, decimals=3)*100)\n",
    "\n",
    "plt.ylabel('Variance')\n",
    "plt.xlabel('Features')\n",
    "plt.title('LDA/PCA Analysis')\n",
    "plt.plot(variance_lda, label='LDA')"
   ]
  },
  {
   "cell_type": "markdown",
   "metadata": {
    "colab_type": "text",
    "id": "11d4-VM8rJvZ"
   },
   "source": [
    "#### LGBM"
   ]
  },
  {
   "cell_type": "code",
   "execution_count": 71,
   "metadata": {},
   "outputs": [
    {
     "name": "stdout",
     "output_type": "stream",
     "text": [
      "mean acc:0.5602777777777778, var acc:0.013645138888888884\n"
     ]
    },
    {
     "data": {
      "text/plain": [
       "array([ 0,  0,  0,  0,  0,  0,  0,  0,  0,  0,  0,  0,  0,  0,  0,  0,  0,\n",
       "        0,  0,  0,  0,  0,  0,  0,  0,  0,  0,  0,  0,  0,  0,  0,  0,  0,\n",
       "        0,  0,  0,  0,  0,  0,  0,  0,  0,  0,  0,  0,  0,  0,  0,  0,  0,\n",
       "        0,  0,  0,  0,  0,  0,  0,  0,  0,  0,  0,  0,  0,  0, 12,  0,  0,\n",
       "        0,  0,  0,  0,  0,  0,  0,  0,  0,  0,  0,  0,  0,  0,  0,  0,  0,\n",
       "        0,  0,  0,  0,  0,  0,  0,  0,  0,  0,  0,  0,  0,  0,  0,  0,  0,\n",
       "        0,  0,  0,  0,  0,  0,  0,  0,  0,  0,  0,  0,  0,  0,  0,  0,  0,\n",
       "        0,  0,  0,  0,  0,  0,  0,  0,  0,  0,  0,  0,  0,  0,  0,  0,  0,\n",
       "        0,  0,  0,  0,  0,  0,  0,  0,  0,  0,  0,  0,  0,  0,  0,  0,  0,\n",
       "        0,  0,  0,  0,  0,  0,  0,  0,  0,  0,  0,  0,  0,  0,  0,  0,  0,\n",
       "        0,  0,  0,  0,  0,  0,  0,  0,  0,  0,  0,  0,  0,  0,  0,  0,  0,\n",
       "        0,  0,  0,  0,  0,  0,  0,  0,  0,  0,  0,  0,  0,  0,  0,  0,  0,\n",
       "        0,  0,  0,  0,  0,  0,  0,  0,  0,  0,  0,  0,  0,  0,  0,  0,  0,\n",
       "        0,  0,  0,  0,  0,  0,  0,  0,  0,  0,  0,  0,  0,  0,  0,  0,  0,\n",
       "        0,  0,  0,  0,  0,  0,  0,  0,  0,  0,  0,  0,  0,  0,  0,  0,  0,\n",
       "        0,  0,  0,  0,  0,  0,  0,  0,  0,  0,  0,  0,  0,  0,  0,  0,  0,\n",
       "        0,  0,  0,  0,  0,  0,  0,  0,  0,  0,  0,  0,  0,  0,  0,  0,  0,\n",
       "        0,  0,  0,  0,  0,  0,  0,  0,  0,  0,  0,  0,  0,  0,  0,  0,  0,\n",
       "        0,  0,  0,  0,  0,  0,  0,  0,  0,  0,  0,  0,  0,  0,  0,  0,  0,\n",
       "        0,  0,  0,  0,  0,  0,  0,  0,  0,  0,  0,  0,  0,  0,  0,  0,  0,\n",
       "        0,  0,  0,  0,  0,  0,  0,  0,  0,  0,  0,  0,  0,  0,  0,  0,  0,\n",
       "        0,  0,  0,  0,  0,  0,  0,  0,  0,  0,  0,  0,  0,  0,  0,  0,  0,\n",
       "        0,  0,  0,  0,  0,  0,  0,  0,  0,  0,  0,  0,  0,  0,  0,  0,  0,\n",
       "        0,  0,  0,  0,  0,  0,  0,  0,  0,  0,  0,  0,  0,  0,  0,  0,  0,\n",
       "        0,  0,  0,  0,  0,  0,  0,  0,  0,  0,  0,  0,  0,  0,  0,  0,  0,\n",
       "        0,  0,  0,  0,  0,  0,  0,  0,  0,  0,  0,  0,  0,  0,  0,  0,  0,\n",
       "        0,  0,  0,  0,  0,  0,  0,  0,  0,  0,  0,  0,  0,  0,  0,  0,  0,\n",
       "        0,  0,  0,  0,  0,  0,  0,  0,  0,  0,  0,  0,  0,  0,  0,  0,  0,\n",
       "        0,  0,  0,  0,  0,  0,  0,  0,  0,  0,  0,  0,  0,  0,  0,  0,  0,\n",
       "        0,  0,  0,  0,  0,  0,  0,  0,  0,  0,  0,  0,  0,  0,  0,  0,  0,\n",
       "        0,  0,  0,  0,  0,  0,  0,  0,  0,  0,  0,  0,  0,  0,  0,  0,  0,\n",
       "        0,  0,  0,  0,  0,  0,  0,  0,  0,  0,  0,  0,  0,  0,  0,  0,  0,\n",
       "        0,  0,  0,  0,  0,  0,  0,  0,  0,  0,  0,  0,  0,  0,  0,  0,  0,\n",
       "        0,  0,  0,  0,  0,  0,  0,  0,  0,  0,  0,  0,  0,  0,  0,  0,  0,\n",
       "        0,  0,  0,  0,  0,  0,  0,  0,  0,  0,  0,  0,  0,  0,  0,  0,  0,\n",
       "        0,  0,  0,  0,  0,  0,  0,  0,  0,  0,  0,  0,  0,  0,  0,  0,  0,\n",
       "        0,  0,  0,  0,  0,  0,  0,  0,  0,  0,  0,  0,  0,  0,  0,  0,  0,\n",
       "        0,  0,  0,  0,  0,  0,  0,  0,  0,  0,  0,  0,  0,  0,  0,  0,  0,\n",
       "        0,  0,  0,  0,  0,  0,  0])"
      ]
     },
     "execution_count": 71,
     "metadata": {},
     "output_type": "execute_result"
    }
   ],
   "source": [
    "model = LGBMClassifier(boosting_type='goss')\n",
    "print(\"mean acc:{}, var acc:{}\".format(np.mean(cross_val_score(model, x, y, cv=10)),\n",
    "                                       np.var(cross_val_score(model, x, y, cv=10))))\n",
    "model.fit(x, y)\n",
    "model.feature_importances_"
   ]
  },
  {
   "cell_type": "code",
   "execution_count": 72,
   "metadata": {},
   "outputs": [
    {
     "data": {
      "text/plain": [
       "<matplotlib.axes._subplots.AxesSubplot at 0x7f736de8bb38>"
      ]
     },
     "execution_count": 72,
     "metadata": {},
     "output_type": "execute_result"
    },
    {
     "data": {
      "image/png": "[encoded data removed]",
      "text/plain": [
       "<matplotlib.figure.Figure at 0x7f736de8b278>"
      ]
     },
     "metadata": {},
     "output_type": "display_data"
    }
   ],
   "source": [
    "plot_importance(model)"
   ]
  }
 ],
 "metadata": {
  "accelerator": "GPU",
  "colab": {
   "default_view": {},
   "name": "mutations_mk2.ipynb",
   "provenance": [],
   "version": "0.3.2",
   "views": {}
  },
  "kernelspec": {
   "display_name": "Python 3",
   "language": "python",
   "name": "python3"
  },
  "language_info": {
   "codemirror_mode": {
    "name": "ipython",
    "version": 3
   },
   "file_extension": ".py",
   "mimetype": "text/x-python",
   "name": "python",
   "nbconvert_exporter": "python",
   "pygments_lexer": "ipython3",
   "version": "3.6.5"
  }
 },
 "nbformat": 4,
 "nbformat_minor": 1
}
