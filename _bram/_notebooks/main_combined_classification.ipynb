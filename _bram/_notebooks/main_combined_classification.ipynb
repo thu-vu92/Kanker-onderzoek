{
 "cells": [
  {
   "cell_type": "markdown",
   "metadata": {},
   "source": [
    "# Combining omics for classification of phenotypes\n",
    "\n",
    "Ritchie et al. (Methods of integrating data to uncover genotype-phenotype interactions) describe the following ways to integrate multi-omic data\n",
    "\n",
    "* Pathway or knowledge-based integration:\n",
    "* Concatenation-based: combine all datasets\n",
    "* Model-based: create models per datasets, then combine models\n",
    "* Transformation-based:..\n",
    "\n",
    "We present a fourth and a fifth multi-omic method\n",
    "* Reduced normalised concatenation\n",
    "* Model-based inter-omic transformation\n",
    "\n",
    "Per sub-omic we collect important features, by\n",
    "* comparing the non-parametric distributions over the different classifications\n",
    "* simply counting the occurrences and setting a cut-off point\n",
    "* using the importances of the classification models as filters\n",
    "* checking the summed weights of linear and non-linear dimensionality reducers\n",
    "\n",
    "We then have the choice to collect these features\n",
    "*  greedily: all remaining sub-omic features\n",
    "*  non-greedily: only overlapping features (by gene)\n",
    "\n",
    "To find inter **and** intra-omic connections we can resort to a similarity measure. \n",
    "\n",
    "Suggestions:\n",
    "* provide ontologies to better interpret the data: dictionaries connecting genes, proteins, metabolism, etc.\n",
    "* add immune-system measurements (Leukocytes, etc.) \n",
    "* omic data from healthy patients"
   ]
  },
  {
   "cell_type": "markdown",
   "metadata": {},
   "source": [
    "## Load libraries.."
   ]
  },
  {
   "cell_type": "code",
   "execution_count": 1,
   "metadata": {},
   "outputs": [
    {
     "name": "stderr",
     "output_type": "stream",
     "text": [
      "/usr/local/lib/python3.6/dist-packages/ggplot/utils.py:81: FutureWarning: pandas.tslib is deprecated and will be removed in a future version.\n",
      "You can access Timestamp as pandas.Timestamp\n",
      "  pd.tslib.Timestamp,\n",
      "/usr/local/lib/python3.6/dist-packages/ggplot/stats/smoothers.py:4: FutureWarning: The pandas.lib module is deprecated and will be removed in a future version. These are private functions and can be accessed from pandas._libs.lib instead\n",
      "  from pandas.lib import Timestamp\n",
      "/usr/local/lib/python3.6/dist-packages/statsmodels/compat/pandas.py:56: FutureWarning: The pandas.core.datetools module is deprecated and will be removed in a future version. Please use the pandas.tseries module instead.\n",
      "  from pandas.core import datetools\n",
      "/usr/local/lib/python3.6/dist-packages/h5py/__init__.py:36: FutureWarning: Conversion of the second argument of issubdtype from `float` to `np.floating` is deprecated. In future, it will be treated as `np.float64 == np.dtype(float).type`.\n",
      "  from ._conv import register_converters as _register_converters\n",
      "Using TensorFlow backend.\n"
     ]
    }
   ],
   "source": [
    "import seaborn as sns\n",
    "from ggplot import *\n",
    "from matplotlib import pyplot as plt\n",
    "import bokeh\n",
    "\n",
    "import pandas as pd\n",
    "import dask.dataframe as dd\n",
    "import numpy as np\n",
    "import scipy as sc\n",
    "import statsmodels as sm\n",
    "import networkx as nx\n",
    "\n",
    "import sklearn as sk\n",
    "import tensorflow as tf\n",
    "import keras\n",
    "import lightgbm as lgbm\n",
    "import tpot\n",
    "\n",
    "import sys\n",
    "import os\n",
    "import gc\n",
    "\n",
    "\n",
    "pd.options.display.max_rows = 30\n",
    "pd.options.display.max_columns = 50\n",
    "pd.options.display.float_format = '{:.1f}'.format"
   ]
  },
  {
   "cell_type": "markdown",
   "metadata": {},
   "source": [
    "## Load in data.."
   ]
  },
  {
   "cell_type": "code",
   "execution_count": 2,
   "metadata": {},
   "outputs": [],
   "source": [
    "def read_table(name, loc=\"gc\"):\n",
    "    if loc==\"gc\":\n",
    "        file_root = \"https://storage.googleapis.com/genx_2018/\"\n",
    "    elif loc==\"local\":\n",
    "        file_root = \"/media/koekiemonster/DATA-FAST/genetic_expression/hackathon_2/Melanoma/\"\n",
    "    return pd.read_table(file_root + name, sep=\"\\t\")"
   ]
  },
  {
   "cell_type": "code",
   "execution_count": 6,
   "metadata": {},
   "outputs": [],
   "source": [
    "def _clean(x, default='float'):   \n",
    "    non_default = 'int' if default=='float' else 'float'\n",
    "    try:\n",
    "        x.replace([np.inf, -np.inf], np.nan, inplace=True)\n",
    "        x.dropna(how='all', axis=1, inplace=True)\n",
    "        if default=='float':\n",
    "            x = x * 1.0\n",
    "        else:\n",
    "            x = x * 1\n",
    "    except Exception as e:\n",
    "        print(e)\n",
    "        for col in tqdm.tqdm(x.columns):\n",
    "            if 'object' in str(x[col].dtypes):\n",
    "                try:\n",
    "                    x[col] = x[col].astype(default)\n",
    "                except:\n",
    "                    try:\n",
    "                        x[col] = x[col].astype(non_default)\n",
    "                    except:\n",
    "                        print(col)\n",
    "                        x[col] = x[col].astype('category')\n",
    "    return x\n",
    "      "
   ]
  },
  {
   "cell_type": "code",
   "execution_count": 51,
   "metadata": {},
   "outputs": [],
   "source": [
    "data_methylation = read_table(\"Melanoma_Methylation.txt\", loc=\"local\")"
   ]
  },
  {
   "cell_type": "code",
   "execution_count": 50,
   "metadata": {},
   "outputs": [
    {
     "name": "stderr",
     "output_type": "stream",
     "text": [
      "/usr/local/lib/python3.6/dist-packages/IPython/core/interactiveshell.py:2903: DtypeWarning: Columns (1,4) have mixed types. Specify dtype option on import or set low_memory=False.\n",
      "  if self.run_code(code, result):\n",
      "/usr/local/lib/python3.6/dist-packages/IPython/core/interactiveshell.py:2903: DtypeWarning: Columns (4) have mixed types. Specify dtype option on import or set low_memory=False.\n",
      "  if self.run_code(code, result):\n"
     ]
    }
   ],
   "source": [
    "data_mutation = read_table(\"Melanoma_Mutation.txt\", loc=\"local\")\n",
    "data_cnv = read_table(\"Melanoma_CNV.txt\", loc=\"local\")\n",
    "data_RNA = read_table(\"Melanoma_GeneExpression.txt\", loc=\"local\")\n",
    "data_miRNA = read_table(\"Melanoma_miRNA.txt\", loc=\"local\")\n",
    "data_protein = read_table(\"Melanoma_Proteome.txt\", loc=\"local\")"
   ]
  },
  {
   "cell_type": "markdown",
   "metadata": {},
   "source": [
    "## create sub-omics "
   ]
  },
  {
   "cell_type": "markdown",
   "metadata": {},
   "source": [
    "### Methylation data"
   ]
  },
  {
   "cell_type": "code",
   "execution_count": 52,
   "metadata": {},
   "outputs": [],
   "source": [
    "data_methylation = data_methylation[np.isfinite(data_methylation.Start)]\n",
    "data_methylation = data_methylation[np.isfinite(data_methylation.Stop)]\n",
    "\n",
    "data_methylation.Start = data_methylation.Start.astype(int).astype(str)\n",
    "data_methylation.Stop = data_methylation.Stop.astype(int).astype(str)\n",
    "data_methylation.Chr = data_methylation.Chr.astype(str)\n",
    "data_methylation.Gene = data_methylation.Gene.astype(str)\n",
    "\n",
    "data_methylation['GenX'] = data_methylation[['Gene', 'Chr', 'Start', 'Stop']].apply(lambda x: '.'.join(x), axis=1)\n",
    "data_methylation.drop('probeID', axis=1, inplace=True)\n",
    "data_methylation.drop(['Chr', 'Start', 'Stop', 'Gene'], axis=1, inplace=True)\n",
    "data_methylation.dropna(thresh=4, axis=0, inplace=True)"
   ]
  },
  {
   "cell_type": "code",
   "execution_count": 53,
   "metadata": {},
   "outputs": [],
   "source": [
    "def get_transposed(df, NameRow='GenX', prefix='GenX'):\n",
    "    transposed  = df.T\n",
    "    new_index = transposed.loc[[NameRow]].values.tolist()[0]\n",
    "    transposed.columns = new_index\n",
    "    if prefix is not None:\n",
    "        transposed.columns = [prefix+'_'+_col for _col in transposed.columns.values.tolist()]\n",
    "    return transposed.drop(NameRow, axis=0, inplace=False)"
   ]
  },
  {
   "cell_type": "code",
   "execution_count": 55,
   "metadata": {},
   "outputs": [
    {
     "data": {
      "text/plain": [
       "41"
      ]
     },
     "execution_count": 55,
     "metadata": {},
     "output_type": "execute_result"
    }
   ],
   "source": [
    "dict_methylation={'Methylation_Strand_plus_CpG_Island': _clean(get_transposed(data_methylation.loc[(data_methylation.Strand==\"+\")\n",
    "                            & (data_methylation.Relation_CpG_Island=='Island')]\\\n",
    "                              .drop(['Strand', 'Relation_CpG_Island'], axis=1))),\n",
    "                  'Methylation_Strand_plus_CpG_Nshelf': _clean(get_transposed(data_methylation.loc[(data_methylation.Strand==\"+\")\n",
    "                            & (data_methylation.Relation_CpG_Island=='N_Shelf')]\\\n",
    "                              .drop(['Strand', 'Relation_CpG_Island'], axis=1))),\n",
    "                  'Methylation_Strand_plus_CpG_Nshore': _clean(get_transposed(data_methylation.loc[(data_methylation.Strand==\"+\")\n",
    "                            & (data_methylation.Relation_CpG_Island=='N_Shore')]\\\n",
    "                              .drop(['Strand', 'Relation_CpG_Island'], axis=1))),                  \n",
    "                  'Methylation_Strand_plus_CpG_Sshelf': _clean(get_transposed(data_methylation.loc[(data_methylation.Strand==\"+\")\n",
    "                            & (data_methylation.Relation_CpG_Island=='S_Shelf')]\\\n",
    "                              .drop(['Strand', 'Relation_CpG_Island'], axis=1))),\n",
    "                  'Methylation_Strand_plus_CpG_Sshore': _clean(get_transposed(data_methylation.loc[(data_methylation.Strand==\"+\")\n",
    "                            & (data_methylation.Relation_CpG_Island=='S_Shore')]\\\n",
    "                              .drop(['Strand', 'Relation_CpG_Island'], axis=1))),\n",
    "                  'Methylation_Strand_plus_CpG_NaN': _clean(get_transposed(data_methylation.loc[(data_methylation.Strand==\"+\")\n",
    "                            & (data_methylation.Relation_CpG_Island.isna())]\\\n",
    "                              .drop(['Strand', 'Relation_CpG_Island'], axis=1))),  \n",
    "                  'Methylation_Strand_min_CpG_Island': _clean(get_transposed(data_methylation.loc[(data_methylation.Strand==\"-\")\n",
    "                            & (data_methylation.Relation_CpG_Island=='Island')]\\\n",
    "                              .drop(['Strand', 'Relation_CpG_Island'], axis=1))),\n",
    "                  'Methylation_Strand_min_CpG_Nshelf': _clean(get_transposed(data_methylation.loc[(data_methylation.Strand==\"-\")\n",
    "                            & (data_methylation.Relation_CpG_Island=='N_Shelf')]\\\n",
    "                              .drop(['Strand', 'Relation_CpG_Island'], axis=1))),\n",
    "                  'Methylation_Strand_min_CpG_Nshore': _clean(get_transposed(data_methylation.loc[(data_methylation.Strand==\"-\")\n",
    "                            & (data_methylation.Relation_CpG_Island=='N_Shore')]\\\n",
    "                              .drop(['Strand', 'Relation_CpG_Island'], axis=1))),                  \n",
    "                  'Methylation_Strand_min_CpG_Sshelf': _clean(get_transposed(data_methylation.loc[(data_methylation.Strand==\"-\")\n",
    "                            & (data_methylation.Relation_CpG_Island=='S_Shelf')]\\\n",
    "                              .drop(['Strand', 'Relation_CpG_Island'], axis=1))),\n",
    "                  'Methylation_Strand_min_CpG_Sshore': _clean(get_transposed(data_methylation.loc[(data_methylation.Strand==\"-\")\n",
    "                            & (data_methylation.Relation_CpG_Island=='S_Shore')]\\\n",
    "                              .drop(['Strand', 'Relation_CpG_Island'], axis=1))),\n",
    "                  'Methylation_Strand_min_CpG_NaN': _clean(get_transposed(data_methylation.loc[(data_methylation.Strand==\"-\")\n",
    "                            & (data_methylation.Relation_CpG_Island.isna())]\\\n",
    "                              .drop(['Strand', 'Relation_CpG_Island'], axis=1))),                    \n",
    "                 }\n",
    "del data_methylation\n",
    "gc.collect()"
   ]
  },
  {
   "cell_type": "markdown",
   "metadata": {},
   "source": [
    "### Mutation data"
   ]
  },
  {
   "cell_type": "code",
   "execution_count": 56,
   "metadata": {},
   "outputs": [],
   "source": [
    "data_mutation.Start = data_mutation.Start.astype(int)\n",
    "data_mutation.Stop = data_mutation.Stop.astype(int)\n",
    "data_mutation = data_mutation[np.isfinite(data_mutation.Start)]\n",
    "data_mutation = data_mutation[np.isfinite(data_mutation.Stop)]\n",
    "\n",
    "data_mutation.Start = data_mutation.Start.astype(str)\n",
    "data_mutation.Stop = data_mutation.Stop.astype(str)\n",
    "data_mutation.Chr = data_mutation.Chr.astype(str)\n",
    "data_mutation.Gene = data_mutation.Gene.astype(str)\n",
    "\n",
    "data_mutation['GenX'] = data_mutation[['Gene', 'Chr', 'Start', 'Stop']].apply(lambda x: '.'.join(x), axis=1)"
   ]
  },
  {
   "cell_type": "code",
   "execution_count": 57,
   "metadata": {},
   "outputs": [],
   "source": [
    "_map_mutation = data_mutation[['GenX', 'Ref', 'Alt', 'Amino_Acid_Change', 'Effect']].drop_duplicates()\n"
   ]
  },
  {
   "cell_type": "code",
   "execution_count": 58,
   "metadata": {},
   "outputs": [],
   "source": [
    "data_mutation.drop(['Chr', 'Start', 'Stop', 'DNA_VAF', \n",
    "                    'RNA_VAF', 'Amino_Acid_Change', 'Ref', 'Alt'], axis=1, inplace=True)"
   ]
  },
  {
   "cell_type": "code",
   "execution_count": 59,
   "metadata": {},
   "outputs": [],
   "source": [
    "rare_effects = ['Frame_Shift_Del', 'Frame_Shift_Ins', 'In_Frame_Del', \n",
    "                'In_Frame_Ins', 'Nonstop_Mutation', 'Translation_Start_Site']\n",
    "intermediate_effects = ['Splice_Site', 'Nonsense_Mutation']\n",
    "common_effects = ['Missense_Mutation', 'Silent']"
   ]
  },
  {
   "cell_type": "code",
   "execution_count": 40,
   "metadata": {},
   "outputs": [],
   "source": [
    "def cat_encode(src, target, col, unique_genes=None):\n",
    "    cols = pd.get_dummies(src[col], prefix=col, prefix_sep='_')\n",
    "    if unique_genes is not None:\n",
    "        unique_genes = [col+'_'+gene for gene in unique_genes]\n",
    "        cols = cols[unique_genes]\n",
    "    return pd.concat([target, cols], axis=1)\n",
    "\n",
    "def drop_nan_rows(table, col):\n",
    "    res = table.dropna(axis=0, how='any', subset=[col])\n",
    "    print('Dropping %d nan rows for %s, sz before: %d, sz after: %d' % (len(table)-len(res), col, len(table), len(res)))\n",
    "    return res\n",
    "\n",
    "def filter(table, col, value):\n",
    "    res = table.loc[table[col] != value]\n",
    "    print('Filtering %d rows with \"%s\" for %s, sz before: %d, sz after: %d' % (len(table) - len(res), value, col, len(table), len(res)))\n",
    "    return res\n",
    "\n",
    "def make_x(table, groups, count_filter = 0, greedy=False):\n",
    "    mg = table \\\n",
    "            .groupby(groups) \\\n",
    "            .size() \\\n",
    "            .reset_index(name='Count') \\\n",
    "            .sort_values(['Count'], ascending=False)\n",
    "    print('Most mutated genes within {}:\\n'.format(groups))\n",
    "    print(mg.head(10))\n",
    "        \n",
    "    # Join groups: Gene_AADACL3|chr1|Translation_Start_Site\n",
    "    tmp = pd.DataFrame()\n",
    "    tmp['Sample'] = table['Sample']\n",
    "    tmp['GenX'] = table[groups].apply(lambda x: '|'.join(x).strip(), axis=1)\n",
    "    \n",
    "    if count_filter > 0:\n",
    "        mg['GenX'] = mg[groups].apply(lambda x: '|'.join(x).strip(), axis=1)\n",
    "        mg = mg.loc[mg.Count > count_filter]\n",
    "        unique_genes = mg.loc[mg.Count > count_filter]['GenX']  \n",
    "        \n",
    "        print('\\nUsing count_filter > %d' % count_filter)\n",
    "        print('Before: %d' % len(tmp))\n",
    "        if greedy==False:\n",
    "            tmp = tmp.loc[tmp.GenX.isin(unique_genes)]\n",
    "        print('After: %d' % len(unique_genes))\n",
    "        \n",
    "    print('\\nUnique features: %d' % len(tmp['GenX'].unique()))\n",
    "    \n",
    "    # Extract features\n",
    "    tmp = cat_encode(tmp, tmp, 'GenX', unique_genes=unique_genes)\n",
    "    tmp = tmp.loc[:, tmp.columns != 'GenX']\n",
    "    \n",
    "    # Group by Sample\n",
    "    tmp = tmp.groupby('Sample', as_index=False).sum()\n",
    " \n",
    "    # Join targets\n",
    "    #tmp = tmp.merge(pmt, how='inner', on='Sample')\n",
    "    \n",
    "    #y = tmp[target_variable]\n",
    "    #print('Target: ', y.shape)\n",
    "    \n",
    "    tmp = tmp.set_index('Sample')\n",
    "    #tmp = tmp.loc[:, tmp.columns != 'Sample']\n",
    "    #tmp = tmp.loc[:, tmp.columns != target_variable]\n",
    "    x = tmp\n",
    "    print('Features: ', x.shape)\n",
    "    \n",
    "    return x"
   ]
  },
  {
   "cell_type": "code",
   "execution_count": 39,
   "metadata": {},
   "outputs": [
    {
     "name": "stdout",
     "output_type": "stream",
     "text": [
      "Most mutated genes within ['Gene']:\n",
      "\n",
      "        Gene  Count\n",
      "2108    PTEN     16\n",
      "483   CDKN2A     12\n",
      "1740  NOTCH2      9\n",
      "1780  NUDT11      8\n",
      "2243   RRP36      8\n",
      "1793   OBSCN      8\n",
      "2762     TTN      8\n",
      "463    CDC27      8\n",
      "2546    SUCO      8\n",
      "188    ARID2      7\n",
      "\n",
      "Using count_filter > 5\n",
      "Before: 3954\n",
      "After: 3954\n",
      "\n",
      "Unique features: 3031\n",
      "Features:  (469, 17)\n",
      "Most mutated genes within ['Gene']:\n",
      "\n",
      "       Gene  Count\n",
      "8590    TTN    168\n",
      "2294  DNAH5     82\n",
      "5223    NF1     63\n",
      "4508  LRP1B     50\n",
      "2296  DNAH7     49\n",
      "5009  MUC16     47\n",
      "2297  DNAH8     47\n",
      "585   ARID2     41\n",
      "1946  CSMD3     38\n",
      "1944  CSMD1     37\n",
      "\n",
      "Using count_filter > 15\n",
      "Before: 25501\n",
      "After: 25501\n",
      "\n",
      "Unique features: 9382\n",
      "Features:  (466, 92)\n",
      "Most mutated genes within ['Gene']:\n",
      "\n",
      "        Gene  Count\n",
      "16241    TTN   3080\n",
      "9435   MUC16   2238\n",
      "4184   DNAH5    886\n",
      "11048   PCLO    726\n",
      "655     ANK3    499\n",
      "8400   LRP1B    491\n",
      "3522   CSMD1    483\n",
      "6248   GPR98    457\n",
      "4186   DNAH7    437\n",
      "3523   CSMD2    434\n",
      "\n",
      "Using count_filter > 30\n",
      "Before: 377456\n",
      "After: 377456\n",
      "\n",
      "Unique features: 17771\n",
      "Features:  (472, 3374)\n"
     ]
    },
    {
     "data": {
      "text/plain": [
       "457"
      ]
     },
     "execution_count": 39,
     "metadata": {},
     "output_type": "execute_result"
    }
   ],
   "source": [
    "rare_count = 5\n",
    "inter_count= 15\n",
    "common_count = 30\n",
    "dict_mutation={'Mutation_Rare': _clean(make_x(data_mutation.loc[data_mutation.Effect.isin(rare_effects)].drop(['Effect'], axis=1),\n",
    "                             ['Gene'], count_filter=rare_count, greedy=True)),\n",
    "               'Mutation_Intermediate': _clean(make_x(data_mutation.loc[data_mutation.Effect.isin(intermediate_effects)].drop(['Effect'],\n",
    "                                 axis=1), ['Gene'], count_filter=inter_count, greedy=True)),\n",
    "               'Mutation_Common': _clean(make_x(data_mutation.loc[data_mutation.Effect.isin(common_effects)].drop(['Effect'], \n",
    "                               axis=1), ['Gene'], count_filter=common_count, greedy=True))                                    \n",
    "                 }\n",
    "del data_mutation\n",
    "gc.collect()"
   ]
  },
  {
   "cell_type": "markdown",
   "metadata": {},
   "source": [
    "### CNV data"
   ]
  },
  {
   "cell_type": "code",
   "execution_count": 60,
   "metadata": {},
   "outputs": [],
   "source": [
    "try:\n",
    "    data_cnv.Start = data_cnv.Start.astype(int)\n",
    "    data_cnv.Stop = data_cnv.Stop.astype(int)\n",
    "    data_cnv = data_cnv[np.isfinite(data_cnv.Start)]\n",
    "    data_cnv = data_cnv[np.isfinite(data_cnv.Stop)]\n",
    "except:\n",
    "    data_cnv = data_cnv[np.isfinite(data_cnv.Start)]\n",
    "    data_cnv = data_cnv[np.isfinite(data_cnv.Stop)]\n",
    "\n",
    "data_cnv.Start = data_cnv.Start.astype(str)\n",
    "data_cnv.Stop = data_cnv.Stop.astype(str)\n",
    "data_cnv.Chr = data_cnv.Chr.astype(str)\n",
    "data_cnv.Gene = data_cnv.Gene.astype(str)\n",
    "\n",
    "data_cnv['GenX'] = data_cnv[['Gene', 'Chr', 'Start', 'Stop']].apply(lambda x: '.'.join(x), axis=1)\n",
    "_map_cnv = data_cnv[['Gene', 'GenX']]\n",
    "data_cnv = data_cnv.drop(['Gene', 'Chr', 'Start', 'Stop'], axis=1)"
   ]
  },
  {
   "cell_type": "code",
   "execution_count": 61,
   "metadata": {},
   "outputs": [
    {
     "data": {
      "text/plain": [
       "130"
      ]
     },
     "execution_count": 61,
     "metadata": {},
     "output_type": "execute_result"
    }
   ],
   "source": [
    "dict_cnv={'CNV_StrandPlus': get_transposed(data_cnv.loc[data_cnv.Strand=='+'].drop(['Strand'], axis=1)),\n",
    "          'CNV_StrandMin':  get_transposed(data_cnv.loc[data_cnv.Strand=='-'].drop(['Strand'], axis=1))                                \n",
    "          }\n",
    "del data_cnv\n",
    "gc.collect()"
   ]
  },
  {
   "cell_type": "markdown",
   "metadata": {},
   "source": [
    "### Gene expression data"
   ]
  },
  {
   "cell_type": "code",
   "execution_count": 63,
   "metadata": {},
   "outputs": [],
   "source": [
    "data_RNA = data_RNA[np.isfinite(data_RNA.Start)]\n",
    "data_RNA = data_RNA[np.isfinite(data_RNA.Stop)]\n",
    "\n",
    "data_RNA.Start = data_RNA.Start.astype(int).astype(str)\n",
    "data_RNA.Stop = data_RNA.Stop.astype(int).astype(str)\n",
    "data_RNA.Chr = data_RNA.Chr.astype(str)\n",
    "data_RNA.Gene = data_RNA.Gene.astype(str)\n",
    "\n",
    "data_RNA['GenX'] = data_RNA[['Gene', 'Chr', 'Start', 'Stop']].apply(lambda x: '.'.join(x), axis=1)\n",
    "_map_RNA = data_RNA[['Gene', 'GenX']]\n",
    "data_RNA = data_RNA.drop(['Gene', 'Chr', 'Start', 'Stop'], axis=1)\n"
   ]
  },
  {
   "cell_type": "code",
   "execution_count": 64,
   "metadata": {},
   "outputs": [
    {
     "data": {
      "text/plain": [
       "156"
      ]
     },
     "execution_count": 64,
     "metadata": {},
     "output_type": "execute_result"
    }
   ],
   "source": [
    "dict_RNA={'RNA_StrandPlus': get_transposed(data_RNA.loc[data_RNA.Strand=='+'].drop(['Strand'], axis=1)),\n",
    "          'RNA_StrandMin':  get_transposed(data_RNA.loc[data_RNA.Strand=='-'].drop(['Strand'], axis=1))                                \n",
    "          }\n",
    "del data_RNA\n",
    "gc.collect()"
   ]
  },
  {
   "cell_type": "markdown",
   "metadata": {},
   "source": [
    "### miRNA data"
   ]
  },
  {
   "cell_type": "code",
   "execution_count": 65,
   "metadata": {},
   "outputs": [],
   "source": [
    "data_miRNA = data_miRNA[np.isfinite(data_miRNA.Start)]\n",
    "data_miRNA = data_miRNA[np.isfinite(data_miRNA.Stop)]\n",
    "\n",
    "data_miRNA.Start = data_miRNA.Start.astype(int).astype(str)\n",
    "data_miRNA.Stop = data_miRNA.Stop.astype(int).astype(str)\n",
    "data_miRNA.Chr = data_miRNA.Chr.astype(str)\n",
    "data_miRNA.Name = data_miRNA.Name.astype(str)\n",
    "\n",
    "data_miRNA['GenX'] = data_miRNA[['Name', 'Chr', 'Start', 'Stop']].apply(lambda x: '.'.join(x), axis=1)\n",
    "_map_miRNA = data_miRNA[['Name', 'GenX']]\n",
    "data_miRNA = data_miRNA.drop(['MIMATID', 'Name', 'Chr', 'Start', 'Stop'], axis=1)\n"
   ]
  },
  {
   "cell_type": "code",
   "execution_count": 66,
   "metadata": {},
   "outputs": [
    {
     "data": {
      "text/plain": [
       "102"
      ]
     },
     "execution_count": 66,
     "metadata": {},
     "output_type": "execute_result"
    }
   ],
   "source": [
    "dict_miRNA={'miRNA_StrandPlus': get_transposed(data_miRNA.loc[data_miRNA.Strand=='+'].drop(['Strand'], axis=1)),\n",
    "          'miRNA_StrandMin':  get_transposed(data_miRNA.loc[data_miRNA.Strand=='-'].drop(['Strand'], axis=1))                                \n",
    "          }\n",
    "del data_miRNA\n",
    "gc.collect()"
   ]
  },
  {
   "cell_type": "markdown",
   "metadata": {},
   "source": [
    "### Proteomic data"
   ]
  },
  {
   "cell_type": "code",
   "execution_count": 67,
   "metadata": {},
   "outputs": [],
   "source": [
    "data_protein = get_transposed(data_protein, NameRow='ProteinID', prefix=\"Protein\")\n",
    "data_protein = _clean(data_protein, default='float')"
   ]
  },
  {
   "cell_type": "markdown",
   "metadata": {},
   "source": [
    "# Merging with phenotype data"
   ]
  },
  {
   "cell_type": "code",
   "execution_count": 74,
   "metadata": {},
   "outputs": [],
   "source": [
    "data_phenotype = read_table(\"Melanoma_Phenotype_Metadata.txt\", loc=\"gc\")"
   ]
  },
  {
   "cell_type": "code",
   "execution_count": 96,
   "metadata": {},
   "outputs": [
    {
     "name": "stdout",
     "output_type": "stream",
     "text": [
      "                                   SampleID\n",
      "target Drug Therapy Type                   \n",
      "0.0    Chemotherapy                      14\n",
      "       Immunotherapy                     19\n",
      "       Targeted Molecular therapy         2\n",
      "       Vaccine                            6\n",
      "1.0    Ancillary                          3\n",
      "       Chemotherapy                      13\n",
      "       Hormone Therapy                    1\n",
      "       Immunotherapy                     19\n",
      "       Vaccine                            2\n"
     ]
    }
   ],
   "source": [
    "target_variable = 'Response To Therapy'\n",
    "target_map = {\n",
    " \"Complete Response\":1,\n",
    " \"Clinical Progressive Disease\":0,        \n",
    " \"Radiographic Progressive Disease\":0,    \n",
    " \"Stable Disease\":0,                      \n",
    " \"Partial Response\":1                    \n",
    "}\n",
    "conditions = {\n",
    "    \"Drug Therapy Type\": \"Immunotherapy\",\n",
    "    \"Vital Status\": \"*\",\n",
    "    \"Gender\": \"*\"     \n",
    "}\n",
    "\n",
    "data_phenotype[\"target\"] = data_phenotype[target_variable].apply(lambda x: np.nan if pd.isnull(x) else target_map[x])\n",
    "print(data_phenotype[[\"target\", \"Drug Therapy Type\", \"SampleID\"]].groupby(by=[\"target\", \"Drug Therapy Type\"]).count())\n",
    "\n",
    "data_phenotype_to_merge = data_phenotype.loc[~data_phenotype.target.isna()][[\"target\", \"SampleID\"]]\n",
    "data_phenotype_to_merge.target = data_phenotype_to_merge.target.astype(int)"
   ]
  },
  {
   "cell_type": "markdown",
   "metadata": {},
   "source": [
    "## sub-omics"
   ]
  },
  {
   "cell_type": "code",
   "execution_count": 98,
   "metadata": {},
   "outputs": [],
   "source": [
    "merged = {}\n",
    "for key in dict_RNA.keys():\n",
    "    merged[key] = dict_RNA[key].merge(data_phenotype_to_merge, how='inner', left_index=True, right_on='SampleID')\n",
    "\n",
    "for key in dict_cnv.keys():\n",
    "    merged[key] = dict_cnv[key].merge(data_phenotype_to_merge, how='inner', left_index=True, right_on='SampleID')\n",
    "\n",
    "for key in dict_methylation.keys():\n",
    "    merged[key] = dict_methylation[key].merge(data_phenotype_to_merge, how='inner', left_index=True, right_on='SampleID')\n",
    "\n",
    "for key in dict_miRNA.keys():\n",
    "    merged[key] = dict_miRNA[key].merge(data_phenotype_to_merge, how='inner', left_index=True, right_on='SampleID')\n",
    "\n",
    "for key in dict_mutation.keys():\n",
    "    merged[key] = dict_mutation[key].merge(data_phenotype_to_merge, how='inner', left_index=True, right_on='SampleID')\n",
    "\n",
    "merged['protein'] = data_protein.merge(data_phenotype_to_merge, how='inner', left_index=True, right_on='SampleID')"
   ]
  },
  {
   "cell_type": "markdown",
   "metadata": {},
   "source": [
    "## Dimension reduction"
   ]
  },
  {
   "cell_type": "code",
   "execution_count": null,
   "metadata": {},
   "outputs": [],
   "source": []
  },
  {
   "cell_type": "markdown",
   "metadata": {},
   "source": [
    "# Classification"
   ]
  },
  {
   "cell_type": "code",
   "execution_count": 70,
   "metadata": {},
   "outputs": [],
   "source": [
    "from xgboost import XGBClassifier as xgb\n",
    "from lightgbm import LGBMClassifier as lgbm\n",
    "from sklearn import metrics, model_selection\n",
    "from sklearn.model_selection import cross_val_predict\n",
    "from sklearn.model_selection import cross_val_score\n",
    "from sklearn.metrics import accuracy_score\n",
    "from sklearn.preprocessing import LabelEncoder\n",
    "from sklearn.preprocessing import StandardScaler\n",
    "from sklearn.preprocessing import RobustScaler\n",
    "from sklearn.decomposition import PCA as pca\n",
    "from sklearn.discriminant_analysis import LinearDiscriminantAnalysis as lda\n",
    "from sklearn.feature_selection import SelectFdr as fdr\n",
    "from sklearn.manifold import TSNE\n",
    "import umap"
   ]
  },
  {
   "cell_type": "code",
   "execution_count": 69,
   "metadata": {},
   "outputs": [],
   "source": [
    "def benchmark_classifier(clf,x,y,splitter):\n",
    "    splitter.random_state = 111\n",
    "    pred = np.zeros(shape=y.shape)\n",
    "\n",
    "    for train_index, test_index in splitter.split(x, y):\n",
    "        x_train, x_test = x[train_index], x[test_index]\n",
    "        y_train, y_test = y[train_index], y[test_index] \n",
    "\n",
    "        clf.fit(x_train,y_train)\n",
    "        pred[test_index] = clf.predict(x_test)\n",
    "        \n",
    "        print(metrics.accuracy_score(y_test,pred[test_index]))\n",
    "        print(metrics.confusion_matrix(y_test,pred[test_index]))\n",
    "\n",
    "    return pred"
   ]
  },
  {
   "cell_type": "markdown",
   "metadata": {},
   "source": [
    "### Per sub omic"
   ]
  },
  {
   "cell_type": "markdown",
   "metadata": {},
   "source": [
    "## Combined"
   ]
  },
  {
   "cell_type": "markdown",
   "metadata": {},
   "source": [
    "## Prediction on non-chemo, non-immuno metastastis patients"
   ]
  },
  {
   "cell_type": "code",
   "execution_count": null,
   "metadata": {},
   "outputs": [],
   "source": []
  },
  {
   "cell_type": "markdown",
   "metadata": {},
   "source": [
    "# Feature analysis"
   ]
  },
  {
   "cell_type": "markdown",
   "metadata": {},
   "source": [
    "## Ontological\n",
    "\n",
    "## Parallel Coordinates\n",
    "\n",
    "## Lower dimensional embedding\n",
    "\n",
    "## Clustering"
   ]
  },
  {
   "cell_type": "code",
   "execution_count": null,
   "metadata": {},
   "outputs": [],
   "source": []
  }
 ],
 "metadata": {
  "kernelspec": {
   "display_name": "Python 3",
   "language": "python",
   "name": "python3"
  },
  "language_info": {
   "codemirror_mode": {
    "name": "ipython",
    "version": 3
   },
   "file_extension": ".py",
   "mimetype": "text/x-python",
   "name": "python",
   "nbconvert_exporter": "python",
   "pygments_lexer": "ipython3",
   "version": "3.6.6"
  }
 },
 "nbformat": 4,
 "nbformat_minor": 2
}
