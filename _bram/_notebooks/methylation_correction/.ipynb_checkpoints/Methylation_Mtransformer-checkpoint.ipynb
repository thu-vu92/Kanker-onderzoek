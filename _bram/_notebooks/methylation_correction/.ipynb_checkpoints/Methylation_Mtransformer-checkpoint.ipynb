{
 "cells": [
  {
   "cell_type": "code",
   "execution_count": 1,
   "metadata": {},
   "outputs": [],
   "source": [
    "import pandas as pd\n",
    "import numpy as np\n",
    "from sklearn import preprocessing\n",
    "from sklearn import decomposition\n",
    "from sklearn.preprocessing import imputation\n",
    "\n",
    "from tqdm import tqdm\n",
    "import gc\n",
    "from numba import jit\n",
    "from matplotlib import pyplot as plt\n",
    "\n",
    "from joblib import Parallel, delayed\n",
    "import multiprocessing\n",
    "\n",
    "from time import time\n",
    "import seaborn as sns\n",
    "\n",
    "from scipy.stats import ks_2samp as ks2\n",
    "from scipy.stats import mannwhitneyu as mwu\n",
    "from scipy.stats import wasserstein_distance as w1_dist\n",
    "from scipy.stats import energy_distance as w2_dist"
   ]
  },
  {
   "cell_type": "code",
   "execution_count": 2,
   "metadata": {},
   "outputs": [],
   "source": [
    "gc.collect()\n",
    "sourceDir = \"/media/koekiemonster/DATA-FAST/genetic_expression/hackathon_2\" # \"/media/bramvanes/Extra/DATA/RexR/2018\" #  #\"/media/bramvanes/Extra/DATA/RexR/2018\" #\n",
    "methylation = pd.read_table(sourceDir+\"/Lung/Lung_Methylation.txt\", sep=\"\\t\")\n",
    "methylation.set_index('probeID', inplace=True)"
   ]
  },
  {
   "cell_type": "code",
   "execution_count": 4,
   "metadata": {},
   "outputs": [],
   "source": [
    "pat_cols = [_col for _col in methylation.columns if \"TCGA\" in _col]"
   ]
  },
  {
   "cell_type": "code",
   "execution_count": 19,
   "metadata": {},
   "outputs": [
    {
     "data": {
      "text/plain": [
       "-9.967226258835993"
      ]
     },
     "execution_count": 19,
     "metadata": {},
     "output_type": "execute_result"
    }
   ],
   "source": [
    "offset = 1e-3\n",
    "np.log2(offset/(1+offset))"
   ]
  },
  {
   "cell_type": "code",
   "execution_count": 23,
   "metadata": {},
   "outputs": [
    {
     "name": "stderr",
     "output_type": "stream",
     "text": [
      "\n",
      "  0%|          | 0/907 [00:00<?, ?it/s]\u001b[A\n",
      "  1%|          | 9/907 [00:00<00:10, 84.16it/s]\u001b[A\n",
      "  2%|▏         | 18/907 [00:00<00:10, 84.90it/s]\u001b[A\n",
      "  3%|▎         | 26/907 [00:00<00:10, 82.49it/s]\u001b[A\n",
      "  4%|▎         | 34/907 [00:00<00:10, 80.87it/s]\u001b[A\n",
      "  5%|▍         | 42/907 [00:00<00:10, 79.53it/s]\u001b[A\n",
      "  6%|▌         | 51/907 [00:00<00:10, 80.44it/s]\u001b[A\n",
      "  7%|▋         | 59/907 [00:00<00:10, 79.31it/s]\u001b[A\n",
      "  7%|▋         | 67/907 [00:00<00:10, 76.96it/s]\u001b[A\n",
      "  8%|▊         | 75/907 [00:00<00:10, 77.70it/s]\u001b[A\n",
      "  9%|▉         | 83/907 [00:01<00:10, 77.83it/s]\u001b[A\n",
      " 10%|█         | 91/907 [00:01<00:10, 78.43it/s]\u001b[A\n",
      " 11%|█         | 99/907 [00:01<00:10, 77.28it/s]\u001b[A\n",
      " 12%|█▏        | 107/907 [00:01<00:10, 77.05it/s]\u001b[A\n",
      " 13%|█▎        | 115/907 [00:01<00:10, 77.04it/s]\u001b[A\n",
      " 14%|█▎        | 124/907 [00:01<00:09, 78.96it/s]\u001b[A\n",
      " 15%|█▍        | 133/907 [00:01<00:09, 80.60it/s]\u001b[A\n",
      " 16%|█▌        | 142/907 [00:01<00:09, 80.23it/s]\u001b[A\n",
      " 17%|█▋        | 151/907 [00:01<00:09, 77.70it/s]\u001b[A\n",
      " 18%|█▊        | 160/907 [00:02<00:09, 80.72it/s]\u001b[A\n",
      " 19%|█▊        | 169/907 [00:02<00:09, 78.99it/s]\u001b[A\n",
      " 20%|█▉        | 178/907 [00:02<00:09, 79.23it/s]\u001b[A\n",
      " 21%|██        | 186/907 [00:02<00:09, 77.60it/s]\u001b[A\n",
      " 21%|██▏       | 194/907 [00:02<00:09, 74.33it/s]\u001b[A\n",
      " 22%|██▏       | 202/907 [00:02<00:09, 74.33it/s]\u001b[A\n",
      " 23%|██▎       | 210/907 [00:02<00:09, 74.45it/s]\u001b[A\n",
      " 24%|██▍       | 218/907 [00:02<00:09, 75.01it/s]\u001b[A\n",
      " 25%|██▍       | 226/907 [00:02<00:09, 75.31it/s]\u001b[A\n",
      " 26%|██▌       | 234/907 [00:03<00:08, 76.27it/s]\u001b[A\n",
      " 27%|██▋       | 242/907 [00:03<00:08, 76.38it/s]\u001b[A\n",
      " 28%|██▊       | 251/907 [00:03<00:08, 79.65it/s]\u001b[A\n",
      " 29%|██▊       | 260/907 [00:03<00:08, 76.20it/s]\u001b[A\n",
      " 30%|██▉       | 268/907 [00:03<00:08, 74.26it/s]\u001b[A\n",
      " 30%|███       | 276/907 [00:03<00:08, 73.53it/s]\u001b[A\n",
      " 31%|███▏      | 284/907 [00:03<00:08, 74.91it/s]\u001b[A\n",
      " 32%|███▏      | 292/907 [00:03<00:08, 76.25it/s]\u001b[A\n",
      " 33%|███▎      | 300/907 [00:03<00:07, 77.23it/s]\u001b[A\n",
      " 34%|███▍      | 308/907 [00:03<00:07, 75.91it/s]\u001b[A\n",
      " 35%|███▍      | 316/907 [00:04<00:08, 73.67it/s]\u001b[A\n",
      " 36%|███▌      | 324/907 [00:04<00:07, 73.52it/s]\u001b[A\n",
      " 37%|███▋      | 332/907 [00:04<00:08, 71.07it/s]\u001b[A\n",
      " 37%|███▋      | 340/907 [00:04<00:08, 70.65it/s]\u001b[A\n",
      " 38%|███▊      | 349/907 [00:04<00:07, 72.65it/s]\u001b[A\n",
      " 39%|███▉      | 357/907 [00:04<00:07, 72.15it/s]\u001b[A\n",
      " 40%|████      | 365/907 [00:04<00:07, 73.10it/s]\u001b[A\n",
      " 41%|████      | 373/907 [00:04<00:07, 73.57it/s]\u001b[A\n",
      " 42%|████▏     | 381/907 [00:04<00:07, 73.77it/s]\u001b[A\n",
      " 43%|████▎     | 390/907 [00:05<00:06, 76.12it/s]\u001b[A\n",
      " 44%|████▍     | 398/907 [00:05<00:06, 76.61it/s]\u001b[A\n",
      " 45%|████▍     | 407/907 [00:05<00:06, 78.18it/s]\u001b[A\n",
      " 46%|████▌     | 415/907 [00:05<00:06, 78.24it/s]\u001b[A\n",
      " 47%|████▋     | 424/907 [00:05<00:06, 78.86it/s]\u001b[A\n",
      " 48%|████▊     | 433/907 [00:05<00:05, 80.23it/s]\u001b[A\n",
      " 49%|████▊     | 442/907 [00:05<00:06, 76.64it/s]\u001b[A\n",
      " 50%|████▉     | 451/907 [00:05<00:05, 77.50it/s]\u001b[A\n",
      " 51%|█████     | 459/907 [00:05<00:05, 77.74it/s]\u001b[A\n",
      " 51%|█████▏    | 467/907 [00:06<00:05, 77.32it/s]\u001b[A\n",
      " 52%|█████▏    | 475/907 [00:06<00:05, 76.65it/s]\u001b[A\n",
      " 53%|█████▎    | 483/907 [00:06<00:05, 74.92it/s]\u001b[A\n",
      " 54%|█████▍    | 491/907 [00:06<00:05, 74.43it/s]\u001b[A\n",
      " 55%|█████▌    | 499/907 [00:06<00:05, 73.48it/s]\u001b[A\n",
      " 56%|█████▌    | 507/907 [00:06<00:05, 72.50it/s]\u001b[A\n",
      " 57%|█████▋    | 516/907 [00:06<00:05, 75.54it/s]\u001b[A\n",
      " 58%|█████▊    | 525/907 [00:06<00:04, 78.23it/s]\u001b[A\n",
      " 59%|█████▉    | 533/907 [00:06<00:04, 75.43it/s]\u001b[A\n",
      " 60%|█████▉    | 541/907 [00:07<00:04, 73.39it/s]\u001b[A\n",
      " 61%|██████    | 549/907 [00:07<00:04, 73.62it/s]\u001b[A\n",
      " 61%|██████▏   | 557/907 [00:07<00:04, 73.90it/s]\u001b[A\n",
      " 62%|██████▏   | 565/907 [00:07<00:04, 74.86it/s]\u001b[A\n",
      " 63%|██████▎   | 573/907 [00:07<00:04, 75.05it/s]\u001b[A\n",
      " 64%|██████▍   | 582/907 [00:07<00:04, 77.56it/s]\u001b[A\n",
      " 65%|██████▌   | 591/907 [00:07<00:03, 79.60it/s]\u001b[A\n",
      " 66%|██████▌   | 600/907 [00:07<00:03, 81.24it/s]\u001b[A\n",
      " 67%|██████▋   | 609/907 [00:07<00:03, 80.19it/s]\u001b[A\n",
      " 68%|██████▊   | 618/907 [00:08<00:03, 81.98it/s]\u001b[A\n",
      " 69%|██████▉   | 627/907 [00:08<00:03, 80.51it/s]\u001b[A\n",
      " 70%|███████   | 636/907 [00:08<00:03, 77.68it/s]\u001b[A\n",
      " 71%|███████   | 645/907 [00:08<00:03, 78.19it/s]\u001b[A\n",
      " 72%|███████▏  | 653/907 [00:08<00:03, 78.39it/s]\u001b[A\n",
      " 73%|███████▎  | 661/907 [00:08<00:03, 76.37it/s]\u001b[A\n",
      " 74%|███████▍  | 669/907 [00:08<00:03, 76.30it/s]\u001b[A\n",
      " 75%|███████▍  | 677/907 [00:08<00:02, 76.87it/s]\u001b[A\n",
      " 76%|███████▌  | 685/907 [00:08<00:02, 75.31it/s]\u001b[A\n",
      " 76%|███████▋  | 693/907 [00:09<00:02, 76.28it/s]\u001b[A\n",
      " 77%|███████▋  | 701/907 [00:09<00:02, 75.56it/s]\u001b[A\n",
      " 78%|███████▊  | 709/907 [00:09<00:02, 75.60it/s]\u001b[A\n",
      " 79%|███████▉  | 717/907 [00:09<00:02, 74.43it/s]\u001b[A\n",
      " 80%|███████▉  | 725/907 [00:09<00:02, 75.61it/s]\u001b[A\n",
      " 81%|████████  | 733/907 [00:09<00:02, 75.53it/s]\u001b[A\n",
      " 82%|████████▏ | 741/907 [00:09<00:02, 76.72it/s]\u001b[A\n",
      " 83%|████████▎ | 749/907 [00:09<00:02, 77.55it/s]\u001b[A\n",
      " 83%|████████▎ | 757/907 [00:09<00:01, 77.18it/s]\u001b[A\n",
      " 84%|████████▍ | 765/907 [00:09<00:01, 75.12it/s]\u001b[A\n",
      " 85%|████████▌ | 773/907 [00:10<00:01, 75.96it/s]\u001b[A\n",
      " 86%|████████▌ | 781/907 [00:10<00:01, 76.57it/s]\u001b[A\n",
      " 87%|████████▋ | 789/907 [00:10<00:01, 74.36it/s]\u001b[A\n",
      " 88%|████████▊ | 797/907 [00:10<00:01, 74.63it/s]\u001b[A\n",
      " 89%|████████▉ | 806/907 [00:10<00:01, 77.69it/s]\u001b[A\n",
      " 90%|████████▉ | 814/907 [00:10<00:01, 77.61it/s]\u001b[A\n",
      " 91%|█████████ | 822/907 [00:10<00:01, 75.52it/s]\u001b[A\n",
      " 92%|█████████▏| 830/907 [00:10<00:01, 76.04it/s]\u001b[A\n",
      " 92%|█████████▏| 838/907 [00:10<00:00, 76.65it/s]\u001b[A\n",
      " 93%|█████████▎| 846/907 [00:11<00:00, 75.26it/s]\u001b[A\n",
      " 94%|█████████▍| 854/907 [00:11<00:00, 73.51it/s]\u001b[A\n",
      " 95%|█████████▌| 862/907 [00:11<00:00, 72.28it/s]\u001b[A\n",
      " 96%|█████████▌| 870/907 [00:11<00:00, 71.58it/s]\u001b[A\n",
      " 97%|█████████▋| 878/907 [00:11<00:00, 69.59it/s]\u001b[A\n",
      " 98%|█████████▊| 886/907 [00:11<00:00, 71.82it/s]\u001b[A\n",
      " 99%|█████████▊| 894/907 [00:11<00:00, 71.06it/s]\u001b[A\n",
      " 99%|█████████▉| 902/907 [00:11<00:00, 70.00it/s]\u001b[A\n",
      "100%|██████████| 907/907 [00:13<00:00, 66.06it/s]\u001b[A"
     ]
    }
   ],
   "source": [
    "offset = 1e-3\n",
    "tqdm.pandas()\n",
    "def Mtransform(x):\n",
    "    try:\n",
    "        return np.log2((x+offset)/(1-x+offset))\n",
    "    except ValueError:\n",
    "        return np.nan\n",
    "    \n",
    "methylation_mvalues = methylation.loc[:, pat_cols].progress_apply(Mtransform, axis=0)"
   ]
  },
  {
   "cell_type": "code",
   "execution_count": 25,
   "metadata": {},
   "outputs": [
    {
     "data": {
      "image/png": "[encoded data removed]",
      "text/plain": [
       "<Figure size 1008x720 with 2 Axes>"
      ]
     },
     "metadata": {},
     "output_type": "display_data"
    }
   ],
   "source": [
    "fig, ax = plt.subplots(ncols=2, figsize=(14,10))\n",
    "for _col in pat_cols[:5]:\n",
    "    methylation_mvalues.loc[:, _col].plot.hist(bins=75, ax=ax[0], histtype='step')\n",
    "    methylation.loc[:, _col].plot.hist(bins=75, ax=ax[1], histtype='step')\n"
   ]
  },
  {
   "cell_type": "code",
   "execution_count": 27,
   "metadata": {},
   "outputs": [],
   "source": [
    "methylation_mvalues.to_csv(\"/media/koekiemonster/DATA-FAST/genetic_expression/hackathon_2/Lung/_prepped/methylation_Mvalues.csv\",\n",
    "                          sep=\"\\t\", header=True, index=True)"
   ]
  }
 ],
 "metadata": {
  "kernelspec": {
   "display_name": "Python 3",
   "language": "python",
   "name": "python3"
  },
  "language_info": {
   "codemirror_mode": {
    "name": "ipython",
    "version": 3
   },
   "file_extension": ".py",
   "mimetype": "text/x-python",
   "name": "python",
   "nbconvert_exporter": "python",
   "pygments_lexer": "ipython3",
   "version": "3.6.7"
  }
 },
 "nbformat": 4,
 "nbformat_minor": 2
}
